{
 "cells": [
  {
   "cell_type": "markdown",
   "metadata": {},
   "source": [
    "# Chapter 2\n",
    "\n",
    "2 Building Abstractions with Data\n",
    "---\n",
    "\n",
    "In this chapter we are going to look at more complex data.\n",
    "\n",
    "(All the procedures in chap.1 operate on simple numerical data, and simple data.)\n",
    "\n",
    "- **Focus in Chapter 1** : building abstractions by combining procedures to form compound procedures   \n",
    "(**手続き**を組み合わせることで抽象化すること.)\n",
    "\n",
    "\n",
    "- **Focus in Chapter 2** : the means it provides for building abstractions by combining data object to form compound data\n",
    "(データオブジェクトを組み合わせて合成**データ**を与える手段)\n"
   ]
  },
  {
   "cell_type": "markdown",
   "metadata": {},
   "source": [
    "2.1 Introduction to Data Abstraction\n",
    "---\n",
    "\n",
    "- **Data abstraction** : methodology that enables us to isolate how a compound data object is used from the details of how it is constructed from more primitive data objects.\n",
    "(合成データオブジェクトがどのようにして基本的なデータオブジェクトから構成されているかを隔離する技法)\n",
    "\n"
   ]
  },
  {
   "cell_type": "markdown",
   "metadata": {},
   "source": [
    "2.1.1 Example: Arithmetic Operations for Rational Numbers\n",
    "---\n"
   ]
  },
  {
   "cell_type": "code",
   "execution_count": 1,
   "metadata": {
    "collapsed": true
   },
   "outputs": [],
   "source": [
    "(define (make-rat n d) (cons n d)) ; returns the rational number d/n\n",
    "\n",
    "(define (numer x) (car x)) ; returns the numerator of the rational number <x> => d\n",
    "\n",
    "(define (denom x) (cdr x)) ; returns the denominator of the rational number <x> => n\n",
    "\n",
    "(define (print-rat x)\n",
    "  (newline)\n",
    "  (display (numer x))\n",
    "  (display \"/\")\n",
    "  (display (denom x)))"
   ]
  },
  {
   "cell_type": "code",
   "execution_count": 2,
   "metadata": {
    "collapsed": false
   },
   "outputs": [
    {
     "name": "stdout",
     "output_type": "stream",
     "text": [
      "(1 . 2)\n",
      "(3 . 4)\n",
      "3\n",
      "2\n"
     ]
    }
   ],
   "source": [
    "(define x (cons 1 2))\n",
    "\n",
    "(define y (cons 3 4))\n",
    "\n",
    "(define z (cons x y))\n",
    "\n",
    "(print (car z))\n",
    "(print (cdr z))\n",
    "\n",
    "(print (car (cdr z)))\n",
    "(print (cdr (car z)))"
   ]
  },
  {
   "cell_type": "markdown",
   "metadata": {},
   "source": [
    "$$\n",
    "\\frac{n_1}{d_1} + \\frac{n_2}{d_2} = \\frac{n_1d_2+n_2d_1}{d_1d_2}\\\\\n",
    "$$\n",
    "$$\n",
    "\\frac{n_1}{d_1} - \\frac{n_2}{d_2} = \\frac{n_1d_2-n_2d_1}{d_1d_2}\\\\ \n",
    "$$\n",
    "$$\n",
    "\\frac{n_1}{d_1} \\cdot \\frac{n_2}{d_2} = \\frac{n_1dn_2}{d_1d_2}\\\\ \n",
    "$$\n",
    "$$\n",
    "\\frac{n_1/d_1}{n_2/d_2} = \\frac{n_1d_2}{d_1n_2}\\\\\n",
    "$$\n",
    "$$\n",
    "\\frac{n_1}{d_1} = \\frac{n_2}{d_2} \\quad \\text{if and only if}\\quad n_1d_2 = n_2d_1\n",
    "$$"
   ]
  },
  {
   "cell_type": "code",
   "execution_count": 3,
   "metadata": {
    "collapsed": true
   },
   "outputs": [],
   "source": [
    "(define (add-rat x y)\n",
    "  (make-rat (+ (* (numer x) (denom y))\n",
    "               (* (numer y) (denom x)))\n",
    "            (* (denom x) (denom y))))\n",
    "\n",
    "\n",
    "(define (sub-rat x y)\n",
    " (make-rat (- (* (numer x) (denom y))\n",
    "               (* (numer y) (denom x)))\n",
    "            (* (denom x) (denom y))))\n",
    "\n",
    "\n",
    "(define (mul-rat x y)\n",
    "  (make-rat (* (numer x) (numer y))\n",
    "            (* (denom x) (denom y))))\n",
    "\n",
    "(define (div-rat x y)\n",
    "  (make-rat (* (numer x) (denom y))\n",
    "            (* (denom x) (numer y))))\n",
    "\n",
    "(define (equal-rat? x y)\n",
    "  (= (* (numer x) (denom y))\n",
    "     (* (numer y) (denom x))))\n",
    "\n"
   ]
  },
  {
   "cell_type": "code",
   "execution_count": 4,
   "metadata": {
    "collapsed": false
   },
   "outputs": [
    {
     "name": "stdout",
     "output_type": "stream",
     "text": [
      "\n",
      "1/2\n",
      "5/6\n",
      "1/6\n",
      "1/6\n",
      "3/2\n",
      "6/9"
     ]
    }
   ],
   "source": [
    "(define one-half (make-rat 1 2))\n",
    "(print-rat one-half)\n",
    "\n",
    "(define one-third (make-rat 1 3))\n",
    "\n",
    "(print-rat (add-rat one-half one-third))\n",
    "\n",
    "(print-rat (sub-rat one-half one-third))\n",
    "\n",
    "(print-rat (mul-rat one-half one-third))\n",
    "\n",
    "(print-rat (div-rat one-half one-third))\n",
    "\n",
    "(print-rat (add-rat one-third one-third))\n",
    ";^^^ our rational number implimentation does not \n",
    ";    reduce rational numbers to lowerst terems"
   ]
  },
  {
   "cell_type": "code",
   "execution_count": 5,
   "metadata": {
    "collapsed": true
   },
   "outputs": [],
   "source": [
    "(define (gcd a b)\n",
    "  (if (= b 0)\n",
    "      a\n",
    "      (gcd b (remainder a b))))\n",
    "\n",
    "(define (make-rat n d)\n",
    "  (let ((g (gcd n d)))\n",
    "    (cons (/ n g) (/ d g))))"
   ]
  },
  {
   "cell_type": "code",
   "execution_count": 6,
   "metadata": {
    "collapsed": false
   },
   "outputs": [
    {
     "name": "stdout",
     "output_type": "stream",
     "text": [
      "\n",
      "2/3"
     ]
    }
   ],
   "source": [
    "(print-rat (add-rat one-third one-third))\n",
    ";^^^ get rational number as desired!!"
   ]
  },
  {
   "cell_type": "markdown",
   "metadata": {},
   "source": [
    "### Exercise 2.1"
   ]
  },
  {
   "cell_type": "code",
   "execution_count": 24,
   "metadata": {
    "collapsed": false
   },
   "outputs": [],
   "source": [
    "(define (abs x)\n",
    "  (if (> 0 x)\n",
    "      (- x)\n",
    "      x))\n",
    "\n",
    "(define (make-rat n d)\n",
    "  (let ((g  (abs (gcd n d))))\n",
    "   (if (< (* n d) 0)\n",
    "     (cons (/ (abs n) (- g)) (/ (abs d) g))\n",
    "     (cons (/ (abs n)  g) (/ (abs d) g))\n",
    "     )\n",
    "   )\n",
    "  )\n"
   ]
  },
  {
   "cell_type": "markdown",
   "metadata": {
    "collapsed": true
   },
   "source": [
    "2.1.2 Abstraction Barrier\n",
    "---\n",
    "\n",
    "Simple idea has many advantages.\n",
    "\n",
    "- One advantage is that it makes programs much easier to maintainand to modify.  \n",
    "(保守性保つことや変更を加える事がより容易になる.)\n",
    "\n"
   ]
  },
  {
   "cell_type": "markdown",
   "metadata": {},
   "source": [
    "### Exercise 2.2"
   ]
  },
  {
   "cell_type": "code",
   "execution_count": 8,
   "metadata": {
    "collapsed": true
   },
   "outputs": [],
   "source": [
    ";; define Point\n",
    "\n",
    "(define (make-point px py)\n",
    "  (cons px py))\n",
    "\n",
    "(define (x-point p)\n",
    "  (car p))\n",
    "\n",
    "(define (y-point p)\n",
    "  (cdr p))\n",
    "\n",
    "\n",
    "(define (print-point p)\n",
    "  (newline)\n",
    "  (display \"(\")\n",
    "  (display (x-point p))\n",
    "  (display \",\")\n",
    "  (display (y-point p))\n",
    "  (display \")\")\n",
    "  (newline))\n",
    "\n",
    "\n",
    "\n",
    ";; define Line\n",
    "\n",
    "(define (make-segment p1 p2)\n",
    "  (cons p1 p2))\n",
    "\n",
    "(define (start-segment line)\n",
    "  (car line))\n",
    "\n",
    "(define (end-segment line)\n",
    "  (cdr line))\n",
    "\n",
    "\n",
    "\n",
    ";; get mid-point\n",
    "\n",
    "(define (midpoint-segment line)\n",
    "  (cons (/ (+ (car (start-segment line)) (car (end-segment line))) 2.0)\n",
    "        (/ (+ (cdr (start-segment line)) (cdr (end-segment line))) 2.0)))\n",
    "\n"
   ]
  },
  {
   "cell_type": "code",
   "execution_count": 9,
   "metadata": {
    "collapsed": false
   },
   "outputs": [
    {
     "name": "stdout",
     "output_type": "stream",
     "text": [
      "\n",
      "(0,0)\n",
      "\n",
      "(1,1)\n",
      "\n",
      "(-1,-1)\n",
      "\n",
      "(0,0)\n",
      "\n",
      "(1,1)\n",
      "\n",
      "(0.5,0.5)\n"
     ]
    }
   ],
   "source": [
    "(define a (make-point 0 0))\n",
    "(print-point a)\n",
    "\n",
    "(define b (make-point 1 1))\n",
    "(print-point b)\n",
    "\n",
    "(define c (make-point -1 -1))\n",
    "(print-point c)\n",
    "\n",
    "\n",
    "(define a2b (make-segment a b))\n",
    "\n",
    "(print-point (start-segment a2b))\n",
    "(print-point (end-segment a2b))\n",
    "(print-point (midpoint-segment a2b))"
   ]
  },
  {
   "cell_type": "markdown",
   "metadata": {},
   "source": [
    "### Exercise 2.3\n",
    "\n",
    "\n",
    "x軸,y軸に平行な場合\n",
    "\n",
    "```bash\n",
    "\n",
    "a_4                      a_3\n",
    "+-------------------------+\n",
    "|                         |\n",
    "|                         |\n",
    "|        THIS IS          |\n",
    "|       RECTANGLE         |\n",
    "|                         |\n",
    "|                         |\n",
    "+-------------------------+\n",
    "a_1                       a_2\n",
    "\n",
    "```\n",
    "\n",
    "\n"
   ]
  },
  {
   "cell_type": "code",
   "execution_count": 10,
   "metadata": {
    "collapsed": false
   },
   "outputs": [],
   "source": [
    "(define (abs x)\n",
    "  (if (> 0 x)\n",
    "      (- x)\n",
    "      x))\n",
    "\n",
    "(define (rectangle a1 a3)\n",
    "  (cons a1 a3))\n",
    "\n",
    "(define (get-perimeter rectangle)\n",
    "  (* 2 (+ (abs (- (x-point (cdr rectangle)) (x-point (car rectangle))))\n",
    "          (abs (- (y-point (cdr rectangle)) (y-point (car rectangle)))))))\n",
    "\n",
    "(define (get-area rectangle)\n",
    "  (* (abs (- (x-point (cdr rectangle)) (x-point (car rectangle))))\n",
    "     (abs (- (y-point (cdr rectangle)) (y-point (car rectangle))))))\n",
    "\n",
    "  "
   ]
  },
  {
   "cell_type": "code",
   "execution_count": 11,
   "metadata": {
    "collapsed": false
   },
   "outputs": [
    {
     "name": "stdout",
     "output_type": "stream",
     "text": [
      "\n",
      "(0,0)\n",
      "\n",
      "(3,3)\n",
      "12\n",
      "9\n"
     ]
    }
   ],
   "source": [
    "(define a_1 (make-point 0 0))\n",
    "(print-point a_1)\n",
    "(define a_3 (make-point 3 3))\n",
    "(print-point a_3)\n",
    "\n",
    "\n",
    "(define rec (rectangle a_1 a_3))\n",
    "\n",
    "(print (get-perimeter rec))\n",
    "\n",
    "(print (get-area rec))"
   ]
  },
  {
   "cell_type": "markdown",
   "metadata": {},
   "source": [
    "2.1.3 What is Meant by Data?\n",
    "---\n",
    "\n"
   ]
  },
  {
   "cell_type": "markdown",
   "metadata": {},
   "source": [
    "### Exercise 2.4\n"
   ]
  },
  {
   "cell_type": "code",
   "execution_count": 12,
   "metadata": {
    "collapsed": true
   },
   "outputs": [],
   "source": [
    "(define (cons x y)\n",
    "  (lambda (m) (m x y)))\n",
    "\n",
    "(define (car z)\n",
    "  (z (lambda (p q) p)))\n"
   ]
  },
  {
   "cell_type": "code",
   "execution_count": 13,
   "metadata": {
    "collapsed": false
   },
   "outputs": [
    {
     "data": {
      "text/plain": [
       "\"x\""
      ]
     },
     "execution_count": 13,
     "metadata": {},
     "output_type": "execute_result"
    }
   ],
   "source": [
    "(car (cons \"x\" \"y\"))"
   ]
  },
  {
   "cell_type": "code",
   "execution_count": 14,
   "metadata": {
    "collapsed": true
   },
   "outputs": [],
   "source": [
    "(define (cdr z)\n",
    "  (z (lambda (p q) q)))"
   ]
  },
  {
   "cell_type": "code",
   "execution_count": 15,
   "metadata": {
    "collapsed": false
   },
   "outputs": [
    {
     "data": {
      "text/plain": [
       "\"y\""
      ]
     },
     "execution_count": 15,
     "metadata": {},
     "output_type": "execute_result"
    }
   ],
   "source": [
    "(cdr (cons \"x\" \"y\"))"
   ]
  },
  {
   "cell_type": "markdown",
   "metadata": {},
   "source": [
    "### Exercise 2.5"
   ]
  },
  {
   "cell_type": "code",
   "execution_count": 16,
   "metadata": {
    "collapsed": false
   },
   "outputs": [],
   "source": [
    "(define (product x a)\n",
    "  (define (iter v a) \n",
    "    (if (= a 0)\n",
    "        v\n",
    "        (iter (* v x) (- a 1))))\n",
    "  (iter 1 a))"
   ]
  },
  {
   "cell_type": "code",
   "execution_count": 17,
   "metadata": {
    "collapsed": false
   },
   "outputs": [],
   "source": [
    "(define (pair-cons a b)\n",
    "  (* (product 2 a)\n",
    "     (product 3 b)))\n",
    ";; めんどくせ〜\n",
    ";(define (pair-car pair)\n",
    ";  (/ pair\n",
    ";     ()))"
   ]
  },
  {
   "cell_type": "markdown",
   "metadata": {
    "collapsed": true
   },
   "source": [
    "### Exercise 2.6"
   ]
  },
  {
   "cell_type": "code",
   "execution_count": 18,
   "metadata": {
    "collapsed": false
   },
   "outputs": [],
   "source": [
    "(define zero (lambda (f) (lambda (x) x)))\n",
    "\n",
    "(define (add1 n)\n",
    "  (lambda (f) (lambda (x) (f ((n f) x)))))"
   ]
  },
  {
   "cell_type": "markdown",
   "metadata": {},
   "source": [
    "```scheme\n",
    "(add1 zero)\n",
    "\n",
    "=>(lambda (f) (lambda (x) (f ((zero f) x))))\n",
    "\n",
    "=>(lambda (f) (lambda (x) (f ((lambda (f) (lambda (x) x)) f) x)))\n",
    "\n",
    "```\n",
    "\n",
    "\n",
    "$$\n",
    "zero := \\lambda\\ f\\ x.\\ x\n",
    "\\\\\n",
    "add1 := \\lambda\\ f\\ x.\\ f\\ (n\\ f\\ x)\n",
    "\\\\\n",
    "one := \\lambda\\ f\\ x.\\ f\\ x\n",
    "\\\\\n",
    "(add1\\ zero) := \\lambda\\ f\\ x.\\ f\\ (zero\\ f\\ x)\\\\\n",
    "\\\\\n",
    "             = \\lambda\\ f\\ x.\\ f\\ (\\lambda f x. f x)\\\\\n",
    "             = \\lambda\\ f\\ x.\\ f\\ x\n",
    "\\\\\n",
    "two := \\lambda\\ f\\ x.\\ f\\ (f\\ x)\n",
    "\\\\\n",
    "three :== two := \\lambda\\ f\\ x.\\ f\\ ( f\\ (f\\ x))\n",
    "$$\n",
    "\n"
   ]
  },
  {
   "cell_type": "code",
   "execution_count": 19,
   "metadata": {
    "collapsed": false
   },
   "outputs": [],
   "source": [
    "(define one\n",
    "  (lambda (f)\n",
    "    (lambda (x)\n",
    "      (f x)\n",
    "      )\n",
    "    )\n",
    "  )\n",
    "\n",
    "\n",
    "(define two\n",
    "  (lambda (f)\n",
    "    (lambda (x)\n",
    "      (f (f x)\n",
    "         )\n",
    "      )\n",
    "    )\n",
    "  )"
   ]
  },
  {
   "cell_type": "code",
   "execution_count": null,
   "metadata": {
    "collapsed": true
   },
   "outputs": [],
   "source": []
  }
 ],
 "metadata": {
  "kernelspec": {
   "display_name": "Calysto Scheme 3",
   "language": "scheme",
   "name": "calysto_scheme"
  },
  "language_info": {
   "codemirror_mode": {
    "name": "scheme"
   },
   "mimetype": "text/x-scheme",
   "name": "scheme",
   "pygments_lexer": "scheme"
  },
  "latex_envs": {
   "bibliofile": "biblio.bib",
   "cite_by": "apalike",
   "current_citInitial": 1,
   "eqLabelWithNumbers": true,
   "eqNumInitial": 0
  }
 },
 "nbformat": 4,
 "nbformat_minor": 0
}
