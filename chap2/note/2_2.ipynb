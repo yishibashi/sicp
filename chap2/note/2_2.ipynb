{
 "cells": [
  {
   "cell_type": "markdown",
   "metadata": {},
   "source": [
    "# 2.2 Hierarchical Data and Closure Property\n",
    "\n",
    "\"box-and-pointer notation\" , each object shown as a pointer to a box.\n",
    "\n",
    "The ability to create pairs whose elements are pairs is the essence of list strucure's importance as a representational tool.\n",
    "\n",
    "We refer to this ability as the \"closure property\" of cons.\n",
    "\n",
    "Closure is the key to power in any means of combination because it permits us to create hierarchical structures-structures make up of parts, which themselves are made up of parts, and so on."
   ]
  },
  {
   "cell_type": "markdown",
   "metadata": {},
   "source": [
    "## 2.2.1 Representing Sequences\n",
    "\n",
    "One of the useful structures we can build with pairs is a ***sequence*** an ordered collection of data objects."
   ]
  },
  {
   "cell_type": "code",
   "execution_count": null,
   "metadata": {
    "collapsed": true
   },
   "outputs": [],
   "source": [
    "(define nil '())"
   ]
  },
  {
   "cell_type": "code",
   "execution_count": null,
   "metadata": {
    "collapsed": false
   },
   "outputs": [],
   "source": [
    "; One particularly straightforward representation.\n",
    "\n",
    "(cons 1\n",
    "      (cons 2\n",
    "            (cons 3\n",
    "                  (cons 4 nil))))"
   ]
  },
  {
   "cell_type": "code",
   "execution_count": null,
   "metadata": {
    "collapsed": false
   },
   "outputs": [],
   "source": [
    "; Such a sepuence of pairs, formed by nested conses, is called a *list*.\n",
    "\n",
    "(list 1 2 3 4)"
   ]
  },
  {
   "cell_type": "markdown",
   "metadata": {},
   "source": [
    "In general,\n",
    "\n",
    "\n",
    "```lisp\n",
    "(list <a1> <a2> ... <an>)\n",
    "```\n",
    "\n",
    "\n",
    "is equivalent to\n",
    "\n",
    "\n",
    "\n",
    "```lisp\n",
    "(cons <a1>\n",
    "      (cons <a2>\n",
    "            (cons ...\n",
    "                  (cons <an>\n",
    "                        nil)...))\n",
    "```"
   ]
  },
  {
   "cell_type": "code",
   "execution_count": null,
   "metadata": {
    "collapsed": false
   },
   "outputs": [],
   "source": [
    "(car (list 1 2 3 4))"
   ]
  },
  {
   "cell_type": "code",
   "execution_count": null,
   "metadata": {
    "collapsed": false
   },
   "outputs": [],
   "source": [
    "(cdr (list 1 2 3 4))"
   ]
  },
  {
   "cell_type": "markdown",
   "metadata": {},
   "source": [
    "The value of ***nil***, used to terminate the chain of pairs, can be thought of as a sequence of no elements, the empty list."
   ]
  },
  {
   "cell_type": "markdown",
   "metadata": {},
   "source": [
    "### Lisp operations"
   ]
  },
  {
   "cell_type": "code",
   "execution_count": null,
   "metadata": {
    "collapsed": true
   },
   "outputs": [],
   "source": [
    "; The procedure \"list-ref\" takes as argument a *list* and a number *n*\n",
    "; and returns *nth* item of the list.\n",
    "\n",
    "(define (list-ref items n)\n",
    "  (if (= n 0)\n",
    "      (car items)\n",
    "      (list-ref (cdr items) (- n 1))))"
   ]
  },
  {
   "cell_type": "code",
   "execution_count": null,
   "metadata": {
    "collapsed": false
   },
   "outputs": [],
   "source": [
    "(define squares (list 1 4 9 16 25))\n",
    "\n",
    "(list-ref squares 3)"
   ]
  },
  {
   "cell_type": "code",
   "execution_count": null,
   "metadata": {
    "collapsed": true
   },
   "outputs": [],
   "source": [
    "; The procedure \"length\" returns the number of items in a list\n",
    "\n",
    "; procedure implements.\n",
    "\n",
    "(define (length items)\n",
    "  (if (null? items)\n",
    "      0\n",
    "      (+ 1 (length (cdr items)))))"
   ]
  },
  {
   "cell_type": "code",
   "execution_count": null,
   "metadata": {
    "collapsed": false
   },
   "outputs": [],
   "source": [
    "(length squares)"
   ]
  },
  {
   "cell_type": "code",
   "execution_count": null,
   "metadata": {
    "collapsed": false
   },
   "outputs": [],
   "source": [
    "; iterative style\n",
    "\n",
    "(define (length items)\n",
    "  (define (length-iter a count)\n",
    "    (if (null? a)\n",
    "        count\n",
    "        (length-iter (cdr a) (+ 1 count))))\n",
    "  (length-iter items 0))\n",
    "\n",
    "(define odds (list 1 3 5 7))\n",
    "\n",
    "(length odds)"
   ]
  },
  {
   "cell_type": "code",
   "execution_count": null,
   "metadata": {
    "collapsed": true
   },
   "outputs": [],
   "source": [
    "; Another conventinal programming technique , \"append\".\n",
    "\n",
    "; implemented using a recursive style. \n",
    "\n",
    "(define (append list1 list2)\n",
    "  (if (null? list1)\n",
    "      list2\n",
    "      (cons (car list1) (append (cdr list1) list2))))"
   ]
  },
  {
   "cell_type": "code",
   "execution_count": null,
   "metadata": {
    "collapsed": false
   },
   "outputs": [],
   "source": [
    "(append odds squares)"
   ]
  },
  {
   "cell_type": "code",
   "execution_count": null,
   "metadata": {
    "collapsed": false
   },
   "outputs": [],
   "source": [
    "(append squares odds)"
   ]
  },
  {
   "cell_type": "markdown",
   "metadata": {},
   "source": [
    "#### Exercise 2.17"
   ]
  },
  {
   "cell_type": "code",
   "execution_count": null,
   "metadata": {
    "collapsed": false
   },
   "outputs": [],
   "source": [
    "; solution 1\n",
    "\n",
    "(define (last-pair items)\n",
    "  (list (list-ref items (- (length items) 1))))"
   ]
  },
  {
   "cell_type": "code",
   "execution_count": null,
   "metadata": {
    "collapsed": true
   },
   "outputs": [],
   "source": [
    "(define (last-pair items)\n",
    "  (if (null? (cdr items))\n",
    "      items\n",
    "      (last-pair (cdr items))))"
   ]
  },
  {
   "cell_type": "code",
   "execution_count": null,
   "metadata": {
    "collapsed": false
   },
   "outputs": [],
   "source": [
    "(last-pair odds)"
   ]
  },
  {
   "cell_type": "code",
   "execution_count": null,
   "metadata": {
    "collapsed": false
   },
   "outputs": [],
   "source": [
    "(last-pair squares)"
   ]
  },
  {
   "cell_type": "code",
   "execution_count": null,
   "metadata": {
    "collapsed": true
   },
   "outputs": [],
   "source": [
    "; solution 2\n",
    "(define (last-pair items)\n",
    "  (if (null? (cdr items))\n",
    "      (car items)\n",
    "      (last-pair (cdr items))))"
   ]
  },
  {
   "cell_type": "code",
   "execution_count": null,
   "metadata": {
    "collapsed": false
   },
   "outputs": [],
   "source": [
    "(last-pair odds)"
   ]
  },
  {
   "cell_type": "code",
   "execution_count": null,
   "metadata": {
    "collapsed": false
   },
   "outputs": [],
   "source": [
    "(last-pair squares)"
   ]
  },
  {
   "cell_type": "markdown",
   "metadata": {},
   "source": [
    "#### Exercise 2.18"
   ]
  },
  {
   "cell_type": "code",
   "execution_count": null,
   "metadata": {
    "collapsed": false
   },
   "outputs": [],
   "source": [
    "(define (reverse items)\n",
    "  (if (null? items)\n",
    "      items\n",
    "      (append (reverse (cdr items)) (list (car items)))))"
   ]
  },
  {
   "cell_type": "code",
   "execution_count": null,
   "metadata": {
    "collapsed": false
   },
   "outputs": [],
   "source": [
    "(reverse odds)"
   ]
  },
  {
   "cell_type": "code",
   "execution_count": null,
   "metadata": {
    "collapsed": false
   },
   "outputs": [],
   "source": [
    "(append nil (list 1))"
   ]
  },
  {
   "cell_type": "markdown",
   "metadata": {
    "collapsed": false
   },
   "source": [
    "#### Exercise 2.19"
   ]
  },
  {
   "cell_type": "code",
   "execution_count": null,
   "metadata": {
    "collapsed": false
   },
   "outputs": [],
   "source": [
    "(define us-coins (list 50 25 10 5 1))\n",
    "(define uk-coins (list 100 50 20 10 5 2 1 0.5))"
   ]
  },
  {
   "cell_type": "code",
   "execution_count": null,
   "metadata": {
    "collapsed": false
   },
   "outputs": [],
   "source": [
    "; Section 1.2.2\n",
    "\n",
    "(define (count-change amount) (cc amount 5))\n",
    "\n",
    "(define (cc amount kinds-of-coins)\n",
    "  (cond ((= amount 0) 1)\n",
    "        ((or (< amount 0) (= kinds-of-coins 0)) 0)\n",
    "        (else (+ (cc amount\n",
    "                     (- kinds-of-coins 1))\n",
    "                 (cc (- amount\n",
    "                        (first-denomination\n",
    "                         kinds-of-coins))\n",
    "                     kinds-of-coins)))))\n",
    "\n",
    "(define (first-denomination kinds-of-coins)\n",
    "  (cond ((= kinds-of-coins 1) 1)\n",
    "        ((= kinds-of-coins 2) 5)\n",
    "        ((= kinds-of-coins 3) 10)\n",
    "        ((= kinds-of-coins 4) 25)\n",
    "        ((= kinds-of-coins 5) 50)))\n",
    "\n",
    ";(count-change 100) => 292"
   ]
  },
  {
   "cell_type": "code",
   "execution_count": null,
   "metadata": {
    "collapsed": true
   },
   "outputs": [],
   "source": [
    "(define (cc amount coin-values)\n",
    "  (cond ((= amount 0) 1)\n",
    "        ((or (< amount 0) (no-more? coin-values)) 0)\n",
    "        (else\n",
    "         (+ (cc amount\n",
    "                (except-first-denomination\n",
    "                coin-values))\n",
    "            (cc (- amount\n",
    "                   (first-denomination\n",
    "                    coin-values))\n",
    "                coin-values)))))"
   ]
  },
  {
   "cell_type": "code",
   "execution_count": null,
   "metadata": {
    "collapsed": true
   },
   "outputs": [],
   "source": [
    "(define (first-denomination coins)\n",
    "  (car coins))"
   ]
  },
  {
   "cell_type": "code",
   "execution_count": null,
   "metadata": {
    "collapsed": true
   },
   "outputs": [],
   "source": [
    "(define (except-first-denomination coins)\n",
    "  (cdr coins))"
   ]
  },
  {
   "cell_type": "code",
   "execution_count": null,
   "metadata": {
    "collapsed": true
   },
   "outputs": [],
   "source": [
    "(define (no-more? coins)\n",
    "  (null? coins))"
   ]
  },
  {
   "cell_type": "code",
   "execution_count": null,
   "metadata": {
    "collapsed": false
   },
   "outputs": [],
   "source": [
    "(cc 100 us-coins)"
   ]
  },
  {
   "cell_type": "markdown",
   "metadata": {},
   "source": [
    "#### Exercise 2.20"
   ]
  },
  {
   "cell_type": "code",
   "execution_count": null,
   "metadata": {
    "collapsed": false
   },
   "outputs": [],
   "source": [
    "; my solution\n",
    "(define (same-parity x . xs)\n",
    "  (let ([p (mod x 2)])\n",
    "    (define (sp xs)\n",
    "      (if (not (null? (cdr xs)))\n",
    "          (if (= p (mod (car xs) 2))\n",
    "              (cons (car xs ) (sp (cdr xs)))\n",
    "              (sp (cdr xs)))\n",
    "          (if (= p (mod (car xs) 2))\n",
    "                 (list (car xs))\n",
    "                 nil)))\n",
    "    (cons x (sp xs))))"
   ]
  },
  {
   "cell_type": "code",
   "execution_count": null,
   "metadata": {
    "collapsed": true
   },
   "outputs": [],
   "source": [
    "(define (same-parity x . xs)\n",
    "  (define (sp? y)\n",
    "    (= (mod (- x y) 2) 0))\n",
    "  (define (sp xs)\n",
    "    (if (null? xs)\n",
    "      xs\n",
    "      (if (sp? (car xs))\n",
    "               (cons (car xs) (sp (cdr xs)))\n",
    "               (sp (cdr xs)))))\n",
    "  (cons x (sp xs)))"
   ]
  },
  {
   "cell_type": "code",
   "execution_count": null,
   "metadata": {
    "collapsed": false
   },
   "outputs": [],
   "source": [
    "(same-parity 1 2 3 4 5 6 7 8 9 10 11 12)"
   ]
  },
  {
   "cell_type": "code",
   "execution_count": null,
   "metadata": {
    "collapsed": false
   },
   "outputs": [],
   "source": [
    "(same-parity 2 3 4 5 6 7)"
   ]
  },
  {
   "cell_type": "markdown",
   "metadata": {},
   "source": [
    "### Mapping over lists"
   ]
  },
  {
   "cell_type": "code",
   "execution_count": null,
   "metadata": {
    "collapsed": true
   },
   "outputs": [],
   "source": [
    "(define (scale-list items factor)\n",
    "  (if (null? items)\n",
    "      nil\n",
    "      (cons (* (car items) factor)\n",
    "            (scale-list (cdr items) factor))))\n"
   ]
  },
  {
   "cell_type": "code",
   "execution_count": null,
   "metadata": {
    "collapsed": false
   },
   "outputs": [],
   "source": [
    "(scale-list (list 1 2 3 4 5) 10)"
   ]
  },
  {
   "cell_type": "code",
   "execution_count": null,
   "metadata": {
    "collapsed": false
   },
   "outputs": [],
   "source": [
    "(define (my_map proc items)\n",
    "  (if (null? items)\n",
    "      nil\n",
    "      (cons (proc (car items))\n",
    "            (my_map proc (cdr items)))))"
   ]
  },
  {
   "cell_type": "code",
   "execution_count": null,
   "metadata": {
    "collapsed": false
   },
   "outputs": [],
   "source": [
    "(my_map abs (list  -10 2.4 -11 19))"
   ]
  },
  {
   "cell_type": "code",
   "execution_count": null,
   "metadata": {
    "collapsed": false
   },
   "outputs": [],
   "source": [
    "(my_map (lambda (x) (* x x)) (list 1 2 3 4))"
   ]
  },
  {
   "cell_type": "code",
   "execution_count": null,
   "metadata": {
    "collapsed": true
   },
   "outputs": [],
   "source": [
    "; a new definition of *scale-list* in terms of map:\n",
    "\n",
    "(define (scale-list items factor)\n",
    "  (my_map (lambda (x) (* x factor))\n",
    "       items))"
   ]
  },
  {
   "cell_type": "markdown",
   "metadata": {},
   "source": [
    ">***map*** is an important construct, not only because it captures a\n",
    "common pattern, but because it estalished a higher level of abstraction in dealing with lists."
   ]
  },
  {
   "cell_type": "markdown",
   "metadata": {},
   "source": [
    "#### Exercise 2.21"
   ]
  },
  {
   "cell_type": "code",
   "execution_count": null,
   "metadata": {
    "collapsed": true
   },
   "outputs": [],
   "source": [
    "(define (square-list items)\n",
    "  (if (null? items)\n",
    "      nil\n",
    "      (cons (* (car items) (car items)) (square-list (cdr items)))))"
   ]
  },
  {
   "cell_type": "code",
   "execution_count": null,
   "metadata": {
    "collapsed": true
   },
   "outputs": [],
   "source": [
    "(define (square-list items)\n",
    "  (map (lambda (x) (* x x)) items))"
   ]
  },
  {
   "cell_type": "code",
   "execution_count": null,
   "metadata": {
    "collapsed": false
   },
   "outputs": [],
   "source": [
    "(square-list (list 1 2 3 4))"
   ]
  },
  {
   "cell_type": "markdown",
   "metadata": {},
   "source": [
    "#### Exercise 2.22"
   ]
  },
  {
   "cell_type": "code",
   "execution_count": null,
   "metadata": {
    "collapsed": false
   },
   "outputs": [],
   "source": [
    "(define (square x) (* x x))\n",
    "\n",
    "(define (square-list items)\n",
    "  (define (iter things answer)\n",
    "    (if (null? things)\n",
    "        answer\n",
    "        (iter (cdr things)\n",
    "              (cons (square (car things))\n",
    "                    answer))))\n",
    "  (iter items nil))"
   ]
  },
  {
   "cell_type": "code",
   "execution_count": null,
   "metadata": {
    "collapsed": false
   },
   "outputs": [],
   "source": [
    "(square-list (list 1 2 3 4))"
   ]
  },
  {
   "cell_type": "code",
   "execution_count": null,
   "metadata": {
    "collapsed": true
   },
   "outputs": [],
   "source": [
    "(define (square-list items)\n",
    "  (define (iter things answer)\n",
    "    (if (null? things)\n",
    "        answer\n",
    "        (iter (cdr things)\n",
    "              (cons answer\n",
    "                    (square (car things))))))\n",
    "  (iter items nil))"
   ]
  },
  {
   "cell_type": "code",
   "execution_count": null,
   "metadata": {
    "collapsed": false
   },
   "outputs": [],
   "source": [
    "(square-list (list 1 2 3 4))"
   ]
  },
  {
   "cell_type": "markdown",
   "metadata": {},
   "source": [
    "実行してるのは、\n",
    "```scheme\n",
    "(cons ... (cons (cons 1 4) 9) ...)\n",
    "```\n",
    "\n",
    "実行したいのは\n",
    "```scheme\n",
    "(cons 1 (cons 4 ... (cons 9 nil)...)\n",
    "```\n",
    "\n",
    "解法の一つは、listにlistを結合,appendする."
   ]
  },
  {
   "cell_type": "code",
   "execution_count": null,
   "metadata": {
    "collapsed": false
   },
   "outputs": [],
   "source": [
    "(define (square-list items)\n",
    "  (define (iter things answer)\n",
    "    (if (null? things)\n",
    "        answer\n",
    "        (iter (cdr things)\n",
    "              (append answer\n",
    "                      (list (square (car things)))))))\n",
    "  (iter items nil))"
   ]
  },
  {
   "cell_type": "code",
   "execution_count": null,
   "metadata": {
    "collapsed": false
   },
   "outputs": [],
   "source": [
    "(square-list (list 1 2 3 4 5))"
   ]
  },
  {
   "cell_type": "code",
   "execution_count": null,
   "metadata": {
    "collapsed": true
   },
   "outputs": [],
   "source": [
    "(define (square-list items)\n",
    "  (define (iter things answer)\n",
    "    (if (null? things)\n",
    "        answer\n",
    "        (iter (cdr things)\n",
    "              (append answer ; cons -> append\n",
    "                    (list (square (car things))))))) ; (...) -> (list (...))\n",
    "  (iter items nil))"
   ]
  },
  {
   "cell_type": "code",
   "execution_count": null,
   "metadata": {
    "collapsed": false
   },
   "outputs": [],
   "source": [
    "(square-list (list 1 2 3 4 5))"
   ]
  },
  {
   "cell_type": "markdown",
   "metadata": {},
   "source": [
    "#### Exercise 2.23"
   ]
  },
  {
   "cell_type": "code",
   "execution_count": null,
   "metadata": {
    "collapsed": false
   },
   "outputs": [],
   "source": [
    ";Bad solution\n",
    "\n",
    "(define (for-each procedure items)\n",
    "  (procedure (car items))\n",
    "  (if (null? (cdr items))\n",
    "      nil\n",
    "      (for-each procedure (cdr items))))"
   ]
  },
  {
   "cell_type": "code",
   "execution_count": null,
   "metadata": {
    "collapsed": false
   },
   "outputs": [],
   "source": [
    "(for-each (lambda (x) (print x)) (list 1 2 3 4 5))"
   ]
  },
  {
   "cell_type": "code",
   "execution_count": null,
   "metadata": {
    "collapsed": false
   },
   "outputs": [],
   "source": [
    "(for-each (lambda (x) (* x x x)) (list 1 2 3 4 5))"
   ]
  },
  {
   "cell_type": "code",
   "execution_count": null,
   "metadata": {
    "collapsed": false
   },
   "outputs": [],
   "source": [
    "(for-each (lambda (x) (print (* x x x))) (list 1 2 3 4 5))"
   ]
  },
  {
   "cell_type": "code",
   "execution_count": null,
   "metadata": {
    "collapsed": false
   },
   "outputs": [],
   "source": [
    "(for-each (lambda (x) (print x)) nil) ; "
   ]
  },
  {
   "cell_type": "code",
   "execution_count": null,
   "metadata": {
    "collapsed": true
   },
   "outputs": [],
   "source": [
    "(define (for-each procedure items)\n",
    "  (cond ((null? items) nil)\n",
    "        (else  (procedure (car items))\n",
    "               (for-each procedure (cdr items)))))\n",
    "\n",
    "; car / cdr を使うには、まず、items が nil かどうかをチェックしよう"
   ]
  },
  {
   "cell_type": "code",
   "execution_count": null,
   "metadata": {
    "collapsed": false
   },
   "outputs": [],
   "source": [
    "(for-each (lambda (x) (print x)) (list 1 2 3 4 5))"
   ]
  },
  {
   "cell_type": "code",
   "execution_count": null,
   "metadata": {
    "collapsed": false
   },
   "outputs": [],
   "source": [
    "(for-each (lambda (x) (print x)) nil) ; "
   ]
  },
  {
   "cell_type": "markdown",
   "metadata": {},
   "source": [
    "## 2.2.1 Hierarchical Structures"
   ]
  },
  {
   "cell_type": "code",
   "execution_count": null,
   "metadata": {
    "collapsed": false
   },
   "outputs": [],
   "source": [
    "(define x (cons (list 1 2) (list 3 4)))\n",
    "x"
   ]
  },
  {
   "cell_type": "code",
   "execution_count": null,
   "metadata": {
    "collapsed": true
   },
   "outputs": [],
   "source": [
    "(define (count-leaves tree)\n",
    "  (cond ((null? tree) 0)\n",
    "        ((not (pair? tree)) 1)\n",
    "        (else (+ (count-leaves (car tree))\n",
    "                 (count-leaves (cdr tree))))))"
   ]
  },
  {
   "cell_type": "code",
   "execution_count": null,
   "metadata": {
    "collapsed": false
   },
   "outputs": [],
   "source": [
    "(length x)"
   ]
  },
  {
   "cell_type": "code",
   "execution_count": null,
   "metadata": {
    "collapsed": false
   },
   "outputs": [],
   "source": [
    "(count-leaves x)"
   ]
  },
  {
   "cell_type": "code",
   "execution_count": null,
   "metadata": {
    "collapsed": false
   },
   "outputs": [],
   "source": [
    "(define y (list x x))\n",
    "y"
   ]
  },
  {
   "cell_type": "code",
   "execution_count": null,
   "metadata": {
    "collapsed": false
   },
   "outputs": [],
   "source": [
    "(length y)"
   ]
  },
  {
   "cell_type": "code",
   "execution_count": null,
   "metadata": {
    "collapsed": false
   },
   "outputs": [],
   "source": [
    "(count-leaves (list x x))"
   ]
  },
  {
   "cell_type": "markdown",
   "metadata": {},
   "source": [
    "#### Exercise 2.24"
   ]
  },
  {
   "cell_type": "code",
   "execution_count": null,
   "metadata": {
    "collapsed": false
   },
   "outputs": [],
   "source": [
    "(define x (list 1 (list 2 (list 3 4))))\n",
    "x"
   ]
  },
  {
   "cell_type": "code",
   "execution_count": null,
   "metadata": {
    "collapsed": false
   },
   "outputs": [],
   "source": [
    "(car x)"
   ]
  },
  {
   "cell_type": "code",
   "execution_count": null,
   "metadata": {
    "collapsed": false
   },
   "outputs": [],
   "source": [
    "(cdr x)"
   ]
  },
  {
   "cell_type": "code",
   "execution_count": null,
   "metadata": {
    "collapsed": false
   },
   "outputs": [],
   "source": [
    "(car (cdr x))"
   ]
  },
  {
   "cell_type": "code",
   "execution_count": null,
   "metadata": {
    "collapsed": false
   },
   "outputs": [],
   "source": [
    "(cdr (cdr x))"
   ]
  },
  {
   "cell_type": "markdown",
   "metadata": {},
   "source": [
    "---"
   ]
  },
  {
   "cell_type": "code",
   "execution_count": null,
   "metadata": {
    "collapsed": false
   },
   "outputs": [],
   "source": [
    "(define y (list 1 2 3 4))"
   ]
  },
  {
   "cell_type": "code",
   "execution_count": null,
   "metadata": {
    "collapsed": false
   },
   "outputs": [],
   "source": [
    "(car y)"
   ]
  },
  {
   "cell_type": "code",
   "execution_count": null,
   "metadata": {
    "collapsed": false
   },
   "outputs": [],
   "source": [
    "(cdr y)"
   ]
  },
  {
   "cell_type": "code",
   "execution_count": null,
   "metadata": {
    "collapsed": false
   },
   "outputs": [],
   "source": [
    "(car (cdr y))"
   ]
  },
  {
   "cell_type": "code",
   "execution_count": null,
   "metadata": {
    "collapsed": false
   },
   "outputs": [],
   "source": [
    "(cdr (cdr y))"
   ]
  },
  {
   "cell_type": "markdown",
   "metadata": {},
   "source": [
    "```bash\n",
    "                    (1 (2 (3 4))) -> [* *] --> [* /]\n",
    "                                      |         | # (2 (3 4))\n",
    "                                      ∨         ∨\n",
    "                                      1        [* *] --> [* /]\n",
    "                                                |         | # (3 4) \n",
    "                                                ∨         ∨\n",
    "                                                2        [* *] --> [* /]\n",
    "                                                          |         |\n",
    "                                                          ∨         ∨\n",
    "                                                          3         4\n",
    "```\n",
    "\n",
    "```bash\n",
    "参考\n",
    "                        (1 2 3 4) -> [* *] --> [* *] --> [* *] --> [* /]\n",
    "                                      |         |         |         |\n",
    "                                      ∨         ∨         ∨         ∨\n",
    "                                      1         2         3\n",
    "                                      \n",
    "\n",
    "\n",
    "```                                      \n",
    "                                                \n",
    "\n",
    "```bash\n",
    "\n",
    "                                      (1 (2 (3 4)))\n",
    "                                           /\\\n",
    "                                          /  \\\n",
    "                                         /    \\\n",
    "                                        1   (2 (3 4)) \n",
    "                                              /\\\n",
    "                                             /  \\\n",
    "                                            /    \\\n",
    "                                           2   (3 4)\n",
    "                                                 /\\\n",
    "                                                /  \\\n",
    "                                               /    \\\n",
    "                                              3      4\n",
    "\n",
    "```"
   ]
  },
  {
   "cell_type": "markdown",
   "metadata": {},
   "source": [
    "#### Exercise 2.25"
   ]
  },
  {
   "cell_type": "code",
   "execution_count": null,
   "metadata": {
    "collapsed": false
   },
   "outputs": [],
   "source": [
    "; 1.\n",
    "\n",
    "(list 1 3 (list 5 7) 9)"
   ]
  },
  {
   "cell_type": "code",
   "execution_count": null,
   "metadata": {
    "collapsed": false
   },
   "outputs": [],
   "source": [
    "(car (cdr (car (cdr (cdr (list 1 3 (list 5 7) 9))))))"
   ]
  },
  {
   "cell_type": "code",
   "execution_count": null,
   "metadata": {
    "collapsed": false
   },
   "outputs": [],
   "source": [
    "; 2.\n",
    "\n",
    "(list (list 7))"
   ]
  },
  {
   "cell_type": "code",
   "execution_count": null,
   "metadata": {
    "collapsed": false
   },
   "outputs": [],
   "source": [
    "(car (car (list (list 7))))"
   ]
  },
  {
   "cell_type": "code",
   "execution_count": null,
   "metadata": {
    "collapsed": false
   },
   "outputs": [],
   "source": [
    "; 3.\n",
    "\n",
    "(define prob3 (list 1 (list 2 (list 3 (list 4 (list 5 (list 6 7)))))))\n",
    "prob3"
   ]
  },
  {
   "cell_type": "code",
   "execution_count": null,
   "metadata": {
    "collapsed": false
   },
   "outputs": [],
   "source": [
    "(car (cdr  (car (cdr (car (cdr (car (cdr (car (cdr (car (cdr prob3))))))))))))"
   ]
  },
  {
   "cell_type": "markdown",
   "metadata": {
    "collapsed": true
   },
   "source": [
    "#### Exercise 2.26"
   ]
  },
  {
   "cell_type": "code",
   "execution_count": null,
   "metadata": {
    "collapsed": true
   },
   "outputs": [],
   "source": [
    "(define x (list 1 2 3))\n",
    "(define y (list 4 5 6))"
   ]
  },
  {
   "cell_type": "code",
   "execution_count": null,
   "metadata": {
    "collapsed": false
   },
   "outputs": [],
   "source": [
    "; append :: [a] -> [a] -> [a]\n",
    "(append x y) ; => (1 2 3 4 5 6)"
   ]
  },
  {
   "cell_type": "code",
   "execution_count": null,
   "metadata": {
    "collapsed": false
   },
   "outputs": [],
   "source": [
    ";cons :: a -> [a] -> [a]\n",
    "(cons x y) ; => ((1 2 3) 4 5 6)"
   ]
  },
  {
   "cell_type": "code",
   "execution_count": null,
   "metadata": {
    "collapsed": false
   },
   "outputs": [],
   "source": [
    ";list :: a -> a -> [a]\n",
    "(list x y) ; => ((1 2 3) (4 5 6))"
   ]
  },
  {
   "cell_type": "markdown",
   "metadata": {},
   "source": [
    "#### Exercise 2.27\n",
    "\n",
    "yet solved"
   ]
  },
  {
   "cell_type": "code",
   "execution_count": null,
   "metadata": {
    "collapsed": false
   },
   "outputs": [],
   "source": [
    ";(define (reverse2 items)\n",
    ";  (if (not (pair? items))\n",
    ";      items\n",
    ";      (if (null? items)\n",
    ";          items\n",
    ";          (append (reverse2 (cdr items)) (list (car items))))))"
   ]
  },
  {
   "cell_type": "code",
   "execution_count": null,
   "metadata": {
    "collapsed": true
   },
   "outputs": [],
   "source": [
    "(define (deep_reverse items)\n",
    "  (cond ((null? items) nil)\n",
    "        ((pair? (car items)) (append (deep_reverse (cdr items))\n",
    "                                     (list (deep_reverse (car items)))))\n",
    "        (else (append (deep_reverse (cdr items))\n",
    "                      (list (car items))))))"
   ]
  },
  {
   "cell_type": "code",
   "execution_count": null,
   "metadata": {
    "collapsed": true
   },
   "outputs": [],
   "source": [
    "(define (d-r l)\n",
    "  (cond ((null? l) l)\n",
    "        ((pair? (car l)) (push (d-r (car l)) (d-r (cdr l))))\n",
    "        (else (push (car l) (d-r (cdr l))))))\n",
    "\n",
    "(define (push a l)\n",
    "  (if (null? l)\n",
    "      (cons a l)\n",
    "      (cons (car l) (push a (cdr l)))))"
   ]
  },
  {
   "cell_type": "code",
   "execution_count": null,
   "metadata": {
    "collapsed": false
   },
   "outputs": [],
   "source": [
    "(deep_reverse(list (list 1 2) (list 3 4)))"
   ]
  },
  {
   "cell_type": "code",
   "execution_count": null,
   "metadata": {
    "collapsed": false
   },
   "outputs": [],
   "source": [
    "(d-r (list (list 1 2) (list 3 4)))"
   ]
  },
  {
   "cell_type": "code",
   "execution_count": null,
   "metadata": {
    "collapsed": false
   },
   "outputs": [],
   "source": [
    "(define x (list (list 1 2 (list 1 2)) (list 3 4)))\n",
    "x"
   ]
  },
  {
   "cell_type": "code",
   "execution_count": null,
   "metadata": {
    "collapsed": false
   },
   "outputs": [],
   "source": [
    "(deep_reverse x)"
   ]
  },
  {
   "cell_type": "code",
   "execution_count": null,
   "metadata": {
    "collapsed": false
   },
   "outputs": [],
   "source": [
    "(d-r x)"
   ]
  },
  {
   "cell_type": "markdown",
   "metadata": {},
   "source": [
    "#### Exercise 2.28"
   ]
  },
  {
   "cell_type": "code",
   "execution_count": null,
   "metadata": {
    "collapsed": true
   },
   "outputs": [],
   "source": [
    "(define (fringe items)\n",
    "  (cond ((null? items) nil)\n",
    "        ((pair? (car items)) (append (fringe (car items)) (fringe (cdr items))))\n",
    "        (else (append (list (car items)) (fringe (cdr items))))))"
   ]
  },
  {
   "cell_type": "code",
   "execution_count": null,
   "metadata": {
    "collapsed": false
   },
   "outputs": [],
   "source": [
    "(define x (list (list 1 2) (list 3 4)))\n",
    "(fringe x)"
   ]
  },
  {
   "cell_type": "code",
   "execution_count": null,
   "metadata": {
    "collapsed": false
   },
   "outputs": [],
   "source": [
    "(fringe (list x x))"
   ]
  },
  {
   "cell_type": "code",
   "execution_count": null,
   "metadata": {
    "collapsed": false
   },
   "outputs": [],
   "source": [
    "(fringe (list (list x 5) x))"
   ]
  },
  {
   "cell_type": "markdown",
   "metadata": {
    "collapsed": true
   },
   "source": [
    "#### Exercise 2.29"
   ]
  },
  {
   "cell_type": "code",
   "execution_count": null,
   "metadata": {
    "collapsed": true
   },
   "outputs": [],
   "source": [
    "(define (make-mobile left right)\n",
    "  (list left right))\n",
    "\n",
    "(define (make-branch length structure)\n",
    "  (list length structure))"
   ]
  },
  {
   "cell_type": "code",
   "execution_count": null,
   "metadata": {
    "collapsed": true
   },
   "outputs": [],
   "source": [
    "; a.\n",
    "\n",
    "(define (left-branch mobile)\n",
    "  (car mobile))\n",
    "\n",
    "(define (right-branch mobile)\n",
    "  (car (cdr mobile)))\n",
    "\n",
    "\n",
    "(define (branch-length branch)\n",
    "  (car branch))\n",
    "\n",
    "(define (branch-structure branch)\n",
    "      (car (cdr branch)))"
   ]
  },
  {
   "cell_type": "code",
   "execution_count": null,
   "metadata": {
    "collapsed": false
   },
   "outputs": [],
   "source": [
    "(define mobile1 (make-mobile (make-branch 1 5) (make-branch 1 5)))\n",
    "(define mobile2 (make-mobile (make-branch 1 15) (make-branch 3 5)))\n",
    "\n",
    "(define mobile3  (make-mobile (make-branch 2 mobile1)\n",
    "                              (make-branch 1 mobile2)))"
   ]
  },
  {
   "cell_type": "code",
   "execution_count": null,
   "metadata": {
    "collapsed": false
   },
   "outputs": [],
   "source": [
    "; b.\n",
    "\n",
    "(define (total-weight mobile)\n",
    "  (define (branch-weight branch)\n",
    "    (let ((structure (branch-structure branch)))\n",
    "        (if (not (pair? structure))\n",
    "            structure\n",
    "            (total-weight structure))))\n",
    "  (+ (branch-weight (left-branch mobile)) (branch-weight (right-branch mobile))))"
   ]
  },
  {
   "cell_type": "code",
   "execution_count": null,
   "metadata": {
    "collapsed": false
   },
   "outputs": [],
   "source": [
    "(total-weight mobile1)"
   ]
  },
  {
   "cell_type": "code",
   "execution_count": null,
   "metadata": {
    "collapsed": false
   },
   "outputs": [],
   "source": [
    "(total-weight mobile2)"
   ]
  },
  {
   "cell_type": "code",
   "execution_count": null,
   "metadata": {
    "collapsed": false
   },
   "outputs": [],
   "source": [
    "(total-weight mobile3)"
   ]
  },
  {
   "cell_type": "code",
   "execution_count": null,
   "metadata": {
    "collapsed": true
   },
   "outputs": [],
   "source": [
    "; c.\n",
    "\n",
    "(define (balanced? mobile)\n",
    "  (let [(left-weight (if (pair? (branch-structure (left-branch mobile)))\n",
    "                        (total-weight (branch-structure (left-branch mobile)))\n",
    "                        (branch-structure (left-branch mobile))))\n",
    "        (right-weight (if (pair? (branch-structure (right-branch mobile)))\n",
    "                          (total-weight (branch-structure (right-branch mobile)))\n",
    "                          (branch-structure (right-branch mobile))))]\n",
    "    \n",
    "      (= (* left-weight ; left weight\n",
    "            (branch-length (left-branch mobile))) ; left length\n",
    "         (* right-weight ; right weight\n",
    "            (branch-length (right-branch mobile)))))) ; right length"
   ]
  },
  {
   "cell_type": "code",
   "execution_count": null,
   "metadata": {
    "collapsed": false
   },
   "outputs": [],
   "source": [
    "(balanced? mobile1)"
   ]
  },
  {
   "cell_type": "code",
   "execution_count": null,
   "metadata": {
    "collapsed": false
   },
   "outputs": [],
   "source": [
    "(balanced? mobile2)"
   ]
  },
  {
   "cell_type": "code",
   "execution_count": null,
   "metadata": {
    "collapsed": false
   },
   "outputs": [],
   "source": [
    "(balanced? mobile3)"
   ]
  },
  {
   "cell_type": "code",
   "execution_count": null,
   "metadata": {
    "collapsed": true
   },
   "outputs": [],
   "source": [
    "; c.\n",
    "\n",
    "(define (make-mobile_2 left right) (cons left right))\n",
    "\n",
    "(define (make-branch_2 length structure)\n",
    "  (cons length structure))\n"
   ]
  },
  {
   "cell_type": "code",
   "execution_count": null,
   "metadata": {
    "collapsed": false
   },
   "outputs": [],
   "source": [
    "(define mobile1_2 (make-mobile_2 (make-branch_2 1 5) (make-branch_2 1 5)))\n",
    "\n",
    "(define mobile2_2 (make-mobile_2 (make-branch_2 1 15) (make-branch_2 3 5)))\n",
    "\n",
    "(define mobile3_2  (make-mobile_2 (make-branch_2 2 mobile1_2)\n",
    "                              (make-branch_2 1 mobile2_2)))\n"
   ]
  },
  {
   "cell_type": "code",
   "execution_count": null,
   "metadata": {
    "collapsed": false
   },
   "outputs": [],
   "source": [
    "(print mobile1_2)\n",
    "(print mobile2_2)\n",
    "(print mobile3_2)"
   ]
  },
  {
   "cell_type": "code",
   "execution_count": null,
   "metadata": {
    "collapsed": false
   },
   "outputs": [],
   "source": [
    "(print mobile1)\n",
    "(print mobile2)\n",
    "(print mobile3)"
   ]
  },
  {
   "cell_type": "code",
   "execution_count": null,
   "metadata": {
    "collapsed": false
   },
   "outputs": [],
   "source": [
    "(define (left-branch mobile)\n",
    "  (car mobile))\n",
    "\n",
    "(define (right-branch mobile)\n",
    "  (cons (car (cdr mobile))\n",
    "        (cdr (cdr mobile))))\n",
    "\n",
    "\n",
    "(define (branch-length branch)\n",
    "  (car branch))\n",
    "\n",
    "(define (branch-structure branch)\n",
    "  (cdr branch))"
   ]
  },
  {
   "cell_type": "code",
   "execution_count": null,
   "metadata": {
    "collapsed": false
   },
   "outputs": [],
   "source": [
    "(left-branch mobile2_2)"
   ]
  },
  {
   "cell_type": "code",
   "execution_count": null,
   "metadata": {
    "collapsed": false
   },
   "outputs": [],
   "source": [
    "(right-branch mobile2_2)"
   ]
  },
  {
   "cell_type": "code",
   "execution_count": null,
   "metadata": {
    "collapsed": false
   },
   "outputs": [],
   "source": [
    "(branch-length (left-branch mobile2_2))"
   ]
  },
  {
   "cell_type": "code",
   "execution_count": null,
   "metadata": {
    "collapsed": false
   },
   "outputs": [],
   "source": [
    "(branch-structure (left-branch mobile2_2))"
   ]
  },
  {
   "cell_type": "code",
   "execution_count": null,
   "metadata": {
    "collapsed": false
   },
   "outputs": [],
   "source": [
    "(total-weight mobile3_2)"
   ]
  },
  {
   "cell_type": "code",
   "execution_count": null,
   "metadata": {
    "collapsed": false
   },
   "outputs": [],
   "source": [
    "(balanced? mobile1_2)"
   ]
  },
  {
   "cell_type": "code",
   "execution_count": null,
   "metadata": {
    "collapsed": false
   },
   "outputs": [],
   "source": [
    "(balanced? mobile3_2)"
   ]
  },
  {
   "cell_type": "markdown",
   "metadata": {
    "collapsed": true
   },
   "source": [
    "#### Mapping over trees"
   ]
  },
  {
   "cell_type": "markdown",
   "metadata": {},
   "source": [
    "> Just as ***map*** is a powerful abstraction for dealing with sequaences,\n",
    "***map together with recursion*** is a powerful abstraction for daling with trees.\n"
   ]
  },
  {
   "cell_type": "code",
   "execution_count": null,
   "metadata": {
    "collapsed": false
   },
   "outputs": [],
   "source": [
    "(define (scale-tree tree factor)\n",
    "  (cond ((null? tree) nil)\n",
    "        ((not (pair? tree)) (* tree factor))\n",
    "        (else (cons (scale-tree (car tree) factor)\n",
    "                    (scale-tree (cdr tree) factor)))))\n",
    "\n",
    "(scale-tree (list 1 (list 2 (list 3 4) 5) (list 6 7)) 10)"
   ]
  },
  {
   "cell_type": "code",
   "execution_count": null,
   "metadata": {
    "collapsed": false
   },
   "outputs": [],
   "source": [
    "; Another way to implement ***scale-tree*** \n",
    "\n",
    "(define (scale-tree tree factor)\n",
    "  (map (lambda (sub-tree)\n",
    "         (if (pair? sub-tree)\n",
    "                    (scale-tree sub-tree factor)\n",
    "                    (* sub-tree factor)))\n",
    "         tree))\n",
    "\n",
    "(scale-tree (list 1 (list 2 (list 3 4) 5) (list 6 7)) 10)"
   ]
  },
  {
   "cell_type": "markdown",
   "metadata": {},
   "source": [
    "#### Exercise 2.30"
   ]
  },
  {
   "cell_type": "code",
   "execution_count": null,
   "metadata": {
    "collapsed": false
   },
   "outputs": [],
   "source": [
    "(define (square-tree tree)\n",
    "  (map (lambda (sub-tree)\n",
    "         (if (pair? sub-tree)\n",
    "             (square-tree sub-tree)\n",
    "             (square sub-tree)))\n",
    "       tree))\n"
   ]
  },
  {
   "cell_type": "code",
   "execution_count": null,
   "metadata": {
    "collapsed": false
   },
   "outputs": [],
   "source": [
    "(square-tree\n",
    "     (list 1\n",
    "           (list 2 (list 3 4) 5)\n",
    "           (list 6 7)))"
   ]
  },
  {
   "cell_type": "code",
   "execution_count": null,
   "metadata": {
    "collapsed": false,
    "scrolled": true
   },
   "outputs": [],
   "source": [
    "(square-tree (list 1 2 3 4))"
   ]
  },
  {
   "cell_type": "markdown",
   "metadata": {},
   "source": [
    "#### Exercise 2.31"
   ]
  },
  {
   "cell_type": "code",
   "execution_count": null,
   "metadata": {
    "collapsed": true
   },
   "outputs": [],
   "source": [
    "(define (tree-map proc tree)\n",
    "  (map (lambda (sub-tree)\n",
    "         (if (pair? sub-tree)\n",
    "             (tree-map proc sub-tree)\n",
    "             (proc sub-tree)))\n",
    "  tree))"
   ]
  },
  {
   "cell_type": "code",
   "execution_count": null,
   "metadata": {
    "collapsed": true
   },
   "outputs": [],
   "source": [
    "(define (square-tree tree) (tree-map square tree))"
   ]
  },
  {
   "cell_type": "code",
   "execution_count": null,
   "metadata": {
    "collapsed": false
   },
   "outputs": [],
   "source": [
    "(square-tree\n",
    "     (list 1\n",
    "           (list 2 (list 3 4) 5)\n",
    "           (list 6 7)))"
   ]
  },
  {
   "cell_type": "code",
   "execution_count": null,
   "metadata": {
    "collapsed": false
   },
   "outputs": [],
   "source": [
    "(square-tree (list 1 2 3 4))"
   ]
  },
  {
   "cell_type": "markdown",
   "metadata": {},
   "source": [
    "#### Exercise 2.32"
   ]
  },
  {
   "cell_type": "code",
   "execution_count": null,
   "metadata": {
    "collapsed": true
   },
   "outputs": [],
   "source": [
    "(define (subsets s)\n",
    "  (if (null? s)\n",
    "      (list nil)\n",
    "      (let ((rest (subsets (cdr s))))\n",
    "        ;; (print rest)\n",
    "        (append rest (map (lambda (x) (cons (car s) x)) rest)))))"
   ]
  },
  {
   "cell_type": "code",
   "execution_count": null,
   "metadata": {
    "collapsed": false
   },
   "outputs": [],
   "source": [
    "(subsets (list 1 2 3))"
   ]
  },
  {
   "cell_type": "code",
   "execution_count": null,
   "metadata": {
    "collapsed": false
   },
   "outputs": [],
   "source": [
    "(subsets (list 1 2 3 4))"
   ]
  },
  {
   "cell_type": "markdown",
   "metadata": {},
   "source": [
    "Explanation of why it works:"
   ]
  }
 ],
 "metadata": {
  "kernelspec": {
   "display_name": "Calysto Scheme 3",
   "language": "scheme",
   "name": "calysto_scheme"
  },
  "language_info": {
   "codemirror_mode": {
    "name": "scheme"
   },
   "mimetype": "text/x-scheme",
   "name": "scheme",
   "pygments_lexer": "scheme"
  },
  "latex_envs": {
   "bibliofile": "biblio.bib",
   "cite_by": "apalike",
   "current_citInitial": 1,
   "eqLabelWithNumbers": true,
   "eqNumInitial": 0
  }
 },
 "nbformat": 4,
 "nbformat_minor": 0
}
