{
 "cells": [
  {
   "cell_type": "markdown",
   "metadata": {},
   "source": [
    "## 2.2.3 Sequences Conventional Interfaces"
   ]
  },
  {
   "cell_type": "code",
   "execution_count": 1,
   "metadata": {
    "collapsed": true
   },
   "outputs": [],
   "source": [
    "(define (square x)\n",
    "  (* x x))\n",
    "\n",
    "(define (fib k)\n",
    "  (cond ((= k 0) 0)\n",
    "        ((= k 1) 1)\n",
    "        (else (+ (fib (- k 1)) (fib (- k 2))))))\n",
    "\n",
    "(define nil '())\n",
    "\n",
    "(define (prime? n)\n",
    "  (define (prime-to-n? m)\n",
    "    (not (= (remainder n m) 0)))\n",
    "  (and (> n 1)\n",
    "       (all prime-to-n?\n",
    "            (take-while (lambda (x) (<= (* x x) n))\n",
    "                        (enumerate-interval 2 (- n 1))))))\n",
    "\n",
    ";;;"
   ]
  },
  {
   "cell_type": "code",
   "execution_count": 2,
   "metadata": {
    "collapsed": false
   },
   "outputs": [],
   "source": [
    "(define (sum-odd-squares tree)\n",
    "  (cond ((null? tree) 0)\n",
    "        ((not (pair? tree))\n",
    "         (if (odd? tree) (square tree) 0))\n",
    "        (else (+ (sum-odd-squares (car tree))\n",
    "                 (sum-odd-squares (cdr tree))))))\n",
    "\n",
    ";(print (sum-odd-squares (list 1 2 (list 3 4 (list 5 6)) 7)))\n",
    "\n",
    "(define (even-fibs n)\n",
    "  (define (next k)\n",
    "    (if (> k n)\n",
    "        nil\n",
    "        (let ((f (fib k)))\n",
    "          (if (even? f)\n",
    "              (cons f (next (+ k 1)))\n",
    "              (next (+ k 1))))))\n",
    "  (next 0))\n",
    "\n",
    ";(print (even-fibs 10))"
   ]
  },
  {
   "cell_type": "code",
   "execution_count": 3,
   "metadata": {
    "collapsed": true
   },
   "outputs": [],
   "source": [
    "(define (filter predicate sequence)\n",
    "  (cond ((null? sequence) nil)\n",
    "        ((predicate (car sequence))\n",
    "         (cons (car sequence)\n",
    "               (filter predicate (cdr sequence))))\n",
    "        (else (filter predicate (cdr sequence)))))"
   ]
  },
  {
   "cell_type": "code",
   "execution_count": 4,
   "metadata": {
    "collapsed": false
   },
   "outputs": [
    {
     "data": {
      "text/plain": [
       "(1 3 5)"
      ]
     },
     "execution_count": 4,
     "metadata": {},
     "output_type": "execute_result"
    }
   ],
   "source": [
    "(filter odd? (list 1 2 3 4 5))"
   ]
  },
  {
   "cell_type": "code",
   "execution_count": 5,
   "metadata": {
    "collapsed": true
   },
   "outputs": [],
   "source": [
    "(define (accumulate op initial sequence)\n",
    "  (if (null? sequence)\n",
    "      initial\n",
    "      (op (car sequence)\n",
    "          (accumulate op initial (cdr sequence)))))"
   ]
  },
  {
   "cell_type": "code",
   "execution_count": 6,
   "metadata": {
    "collapsed": false
   },
   "outputs": [
    {
     "data": {
      "text/plain": [
       "45"
      ]
     },
     "execution_count": 6,
     "metadata": {},
     "output_type": "execute_result"
    }
   ],
   "source": [
    "(accumulate + 0 (list 1 2 3 4 5 6 7 8 9))"
   ]
  },
  {
   "cell_type": "code",
   "execution_count": 7,
   "metadata": {
    "collapsed": false
   },
   "outputs": [
    {
     "data": {
      "text/plain": [
       "120"
      ]
     },
     "execution_count": 7,
     "metadata": {},
     "output_type": "execute_result"
    }
   ],
   "source": [
    "(accumulate * 1 (list 1 2 3 4 5))"
   ]
  },
  {
   "cell_type": "code",
   "execution_count": 8,
   "metadata": {
    "collapsed": false
   },
   "outputs": [
    {
     "data": {
      "text/plain": [
       "(1 2 3 4 5 6 7 8 9 0)"
      ]
     },
     "execution_count": 8,
     "metadata": {},
     "output_type": "execute_result"
    }
   ],
   "source": [
    "(accumulate cons (list 0) (list 1 2 3 4 5 6 7 8 9))"
   ]
  },
  {
   "cell_type": "code",
   "execution_count": 9,
   "metadata": {
    "collapsed": true
   },
   "outputs": [],
   "source": [
    "(define (enumerate-interval low high)\n",
    "  (if (> low high)\n",
    "      nil\n",
    "      (cons low (enumerate-interval (+ low 1) high))))"
   ]
  },
  {
   "cell_type": "code",
   "execution_count": 10,
   "metadata": {
    "collapsed": false
   },
   "outputs": [
    {
     "data": {
      "text/plain": [
       "(2 3 4 5 6 7)"
      ]
     },
     "execution_count": 10,
     "metadata": {},
     "output_type": "execute_result"
    }
   ],
   "source": [
    "(enumerate-interval 2 7)"
   ]
  },
  {
   "cell_type": "code",
   "execution_count": 11,
   "metadata": {
    "collapsed": false
   },
   "outputs": [
    {
     "data": {
      "text/plain": [
       "(0 1 2 3 4 5 6 7 8 9)"
      ]
     },
     "execution_count": 11,
     "metadata": {},
     "output_type": "execute_result"
    }
   ],
   "source": [
    "(define (enumerate-tree tree)\n",
    "  (cond ((null? tree) nil)\n",
    "        ((not (pair? tree)) (list tree))\n",
    "        (else (append (enumerate-tree (car tree))\n",
    "                      (enumerate-tree (cdr tree))))))\n",
    "\n",
    "(enumerate-tree (list 0 (list 1 2 (list 3 4) 5) 6 7 (list 8 9)))"
   ]
  },
  {
   "cell_type": "code",
   "execution_count": 12,
   "metadata": {
    "collapsed": true
   },
   "outputs": [],
   "source": [
    "(define (sum-odd-squares tree)\n",
    "  (accumulate + 0 (map square (filter odd? (enumerate-interval tree)))))\n",
    "\n",
    "(define (even-fibs n)\n",
    "  (accumulate cons nil (filter even? (map fib (enumerate-interval 0 n)))))"
   ]
  },
  {
   "cell_type": "code",
   "execution_count": 13,
   "metadata": {
    "collapsed": false
   },
   "outputs": [
    {
     "data": {
      "text/plain": [
       "(0 1 1 4 9 25 64 169 441 1156 3025)"
      ]
     },
     "execution_count": 13,
     "metadata": {},
     "output_type": "execute_result"
    }
   ],
   "source": [
    "(define (list-fib-squares n)\n",
    "  (accumulate \n",
    "   cons\n",
    "   nil \n",
    "   (map square (map fib (enumerate-interval 0 n)))))\n",
    "\n",
    "(list-fib-squares 10)"
   ]
  },
  {
   "cell_type": "code",
   "execution_count": 14,
   "metadata": {
    "collapsed": false
   },
   "outputs": [
    {
     "data": {
      "text/plain": [
       "225"
      ]
     },
     "execution_count": 14,
     "metadata": {},
     "output_type": "execute_result"
    }
   ],
   "source": [
    "(define (product-of-squares-of-odd-elements sequence)\n",
    "  (accumulate * 1 (map square (filter odd? sequence))))\n",
    "\n",
    "(product-of-squares-of-odd-elements (list 1 2 3 4 5))"
   ]
  },
  {
   "cell_type": "code",
   "execution_count": 15,
   "metadata": {
    "collapsed": true
   },
   "outputs": [],
   "source": [
    "(define (salary-of-highest-paid-programmer records)\n",
    "  (accumulate max 0 (map salary (filter programmer? records))))"
   ]
  },
  {
   "cell_type": "markdown",
   "metadata": {},
   "source": [
    "### Exercise 2.33"
   ]
  },
  {
   "cell_type": "code",
   "execution_count": 16,
   "metadata": {
    "collapsed": false
   },
   "outputs": [
    {
     "data": {
      "text/plain": [
       "(1 4 9)"
      ]
     },
     "execution_count": 16,
     "metadata": {},
     "output_type": "execute_result"
    }
   ],
   "source": [
    "; map\n",
    "(define (my_map p seq)\n",
    "  (accumulate (lambda (x y) (cons (p x) y)) nil seq))\n",
    "\n",
    "(my_map (lambda (x) (* x x)) (list 1 2 3))"
   ]
  },
  {
   "cell_type": "code",
   "execution_count": 17,
   "metadata": {
    "collapsed": false
   },
   "outputs": [
    {
     "data": {
      "text/plain": [
       "(1 2 3 4 5)"
      ]
     },
     "execution_count": 17,
     "metadata": {},
     "output_type": "execute_result"
    }
   ],
   "source": [
    "; append\n",
    "\n",
    "(define (append seq1 seq2)\n",
    "  (accumulate cons seq2 seq1))\n",
    "\n",
    "(append (list 1 2 3) (list 4 5))"
   ]
  },
  {
   "cell_type": "code",
   "execution_count": 18,
   "metadata": {
    "collapsed": false
   },
   "outputs": [
    {
     "data": {
      "text/plain": [
       "9"
      ]
     },
     "execution_count": 18,
     "metadata": {},
     "output_type": "execute_result"
    }
   ],
   "source": [
    "; length\n",
    "\n",
    "(define (length seq)\n",
    "  (accumulate (lambda (x y) (+ 1 y)) 0 seq))\n",
    "\n",
    "(length (list 1 2 3 4 5 6 7 8 9))"
   ]
  },
  {
   "cell_type": "code",
   "execution_count": 19,
   "metadata": {
    "collapsed": false
   },
   "outputs": [
    {
     "name": "stdout",
     "output_type": "stream",
     "text": [
      "3\n",
      "4\n",
      "5\n"
     ]
    }
   ],
   "source": [
    "; list/scheme は最後に評価した値を返す。\n",
    "; マチガエカイトウ\n",
    "(define (bad-length seq)\n",
    "  (accumulate (lambda (x y) (+ 1 x)) 0 seq))\n",
    "\n",
    "(print (bad-length (list 2 3 4 5)))\n",
    "(print (bad-length (list 3 4 5)))\n",
    "(print (bad-length (list 4 5)))"
   ]
  },
  {
   "cell_type": "markdown",
   "metadata": {
    "collapsed": false
   },
   "source": [
    "### Exercise 2.34"
   ]
  },
  {
   "cell_type": "code",
   "execution_count": 20,
   "metadata": {
    "collapsed": false
   },
   "outputs": [],
   "source": [
    "(define (horner-eval x coefficient-sequence)\n",
    "  (accumulate (lambda (this-coeff higher-therms) (+ (* higher-therms x) this-coeff))\n",
    "              0\n",
    "                coefficient-sequence))"
   ]
  },
  {
   "cell_type": "code",
   "execution_count": 21,
   "metadata": {
    "collapsed": false
   },
   "outputs": [
    {
     "data": {
      "text/plain": [
       "79"
      ]
     },
     "execution_count": 21,
     "metadata": {},
     "output_type": "execute_result"
    }
   ],
   "source": [
    "(horner-eval 2 (list 1 3 0 5 0 1))"
   ]
  },
  {
   "cell_type": "markdown",
   "metadata": {},
   "source": [
    "### Exercise 2.35"
   ]
  },
  {
   "cell_type": "code",
   "execution_count": 22,
   "metadata": {
    "collapsed": false
   },
   "outputs": [
    {
     "data": {
      "text/plain": [
       "((1 2) (3 4) (5 (6 7) 8))"
      ]
     },
     "execution_count": 22,
     "metadata": {},
     "output_type": "execute_result"
    }
   ],
   "source": [
    "(define leaves (cons (list 1 2) (list (list 3 4) (list 5 (list 6 7) 8))))\n",
    "leaves"
   ]
  },
  {
   "cell_type": "code",
   "execution_count": 23,
   "metadata": {
    "collapsed": false
   },
   "outputs": [],
   "source": [
    ";(define (count-leaves t)\n",
    ";  (accumulate (lambda (x y) (+ 1 y)) 0 (enumerate-tree t)))\n",
    "\n",
    ";???????????????????\n",
    "\n",
    "; length\n",
    ";(define (length seq)\n",
    ";  (accumulate (lambda (x y) (+ 1 y)) 0 seq))\n",
    "\n",
    "(define (count-leaves t)\n",
    "  (if (not (pair? t))\n",
    "      1\n",
    "      (accumulate + 0 (map count-leaves t))))"
   ]
  },
  {
   "cell_type": "code",
   "execution_count": 24,
   "metadata": {
    "collapsed": false
   },
   "outputs": [
    {
     "data": {
      "text/plain": [
       "8"
      ]
     },
     "execution_count": 24,
     "metadata": {},
     "output_type": "execute_result"
    }
   ],
   "source": [
    "(count-leaves leaves)"
   ]
  },
  {
   "cell_type": "markdown",
   "metadata": {},
   "source": [
    "### Exercise 2.36"
   ]
  },
  {
   "cell_type": "code",
   "execution_count": 25,
   "metadata": {
    "collapsed": false
   },
   "outputs": [],
   "source": [
    "(define (accumulate-n op init seqs)\n",
    "   (if (null? (car seqs))\n",
    "       nil\n",
    "       (cons (accumulate op init (map car seqs))\n",
    "             (accumulate-n op init (map cdr seqs)))))"
   ]
  },
  {
   "cell_type": "code",
   "execution_count": 26,
   "metadata": {
    "collapsed": true
   },
   "outputs": [],
   "source": [
    "(define seqs1 (list (list 1 2 3) (list 4 5 6) (list 7 8 9) (list 10 11 12)))"
   ]
  },
  {
   "cell_type": "code",
   "execution_count": 27,
   "metadata": {
    "collapsed": false
   },
   "outputs": [
    {
     "data": {
      "text/plain": [
       "(22 26 30)"
      ]
     },
     "execution_count": 27,
     "metadata": {},
     "output_type": "execute_result"
    }
   ],
   "source": [
    "(accumulate-n + 0 seqs1)"
   ]
  },
  {
   "cell_type": "markdown",
   "metadata": {},
   "source": [
    "### Exercise 2.37"
   ]
  },
  {
   "cell_type": "code",
   "execution_count": 28,
   "metadata": {
    "collapsed": false
   },
   "outputs": [
    {
     "data": {
      "text/plain": [
       "14"
      ]
     },
     "execution_count": 28,
     "metadata": {},
     "output_type": "execute_result"
    }
   ],
   "source": [
    "(define (dot-product v w)\n",
    "  (accumulate + 0 (map * v w)))\n",
    "\n",
    "(dot-product (list 1 2 3) (list 1 2 3))"
   ]
  },
  {
   "cell_type": "code",
   "execution_count": 29,
   "metadata": {
    "collapsed": false
   },
   "outputs": [
    {
     "data": {
      "text/plain": [
       "((1 2) (2 4))"
      ]
     },
     "execution_count": 29,
     "metadata": {},
     "output_type": "execute_result"
    }
   ],
   "source": [
    "(define (matrix-*-vector m v)\n",
    "        (map (lambda (x) (map * x v)) m))\n",
    "\n",
    "(matrix-*-vector (list (list 1 1) (list 2 2)) (list 1 2))"
   ]
  },
  {
   "cell_type": "code",
   "execution_count": 30,
   "metadata": {
    "collapsed": false
   },
   "outputs": [
    {
     "data": {
      "text/plain": [
       "((1 4 7) (2 5 8) (3 6 9))"
      ]
     },
     "execution_count": 30,
     "metadata": {},
     "output_type": "execute_result"
    }
   ],
   "source": [
    "(define (transpose mtrx)\n",
    "  (accumulate-n cons nil mtrx))\n",
    "\n",
    "(transpose (list (list 1 2 3) (list 4 5 6) (list 7 8 9)))"
   ]
  },
  {
   "cell_type": "code",
   "execution_count": 31,
   "metadata": {
    "collapsed": false
   },
   "outputs": [
    {
     "data": {
      "text/plain": [
       "((5 5) (11 11))"
      ]
     },
     "execution_count": 31,
     "metadata": {},
     "output_type": "execute_result"
    }
   ],
   "source": [
    "(define (matrix-*-matrix m n)\n",
    "  (let ((cols (transpose n)))\n",
    "    (map (lambda (x)  (map (lambda (y) (dot-product y x)) cols)) m)))\n",
    "\n",
    "(matrix-*-matrix (list (list 1 2) (list 3 4)) (list (list 1 1) (list 2 2)))"
   ]
  },
  {
   "cell_type": "code",
   "execution_count": 32,
   "metadata": {
    "collapsed": false
   },
   "outputs": [
    {
     "data": {
      "text/plain": [
       "(2 8)"
      ]
     },
     "execution_count": 32,
     "metadata": {},
     "output_type": "execute_result"
    }
   ],
   "source": [
    "(map + (list 1 4) (list 1 4))"
   ]
  },
  {
   "cell_type": "markdown",
   "metadata": {},
   "source": [
    "### Exercise 2.38"
   ]
  },
  {
   "cell_type": "code",
   "execution_count": 33,
   "metadata": {
    "collapsed": true
   },
   "outputs": [],
   "source": [
    "(define (fold-right op initial sequence)\n",
    "  (if (null? sequence)\n",
    "      initial\n",
    "      (op (car sequence)\n",
    "          (fold-right op initial (cdr sequence)))))\n",
    "\n",
    "\n",
    "(define (fold-left op initial sequence)\n",
    "  (define (iter result rest)\n",
    "    (if (null? rest)\n",
    "        result\n",
    "        (iter (op result (car rest))\n",
    "              (cdr rest))))\n",
    "  (iter initial sequence))"
   ]
  },
  {
   "cell_type": "code",
   "execution_count": 34,
   "metadata": {
    "collapsed": false
   },
   "outputs": [
    {
     "data": {
      "text/plain": [
       "3/2"
      ]
     },
     "execution_count": 34,
     "metadata": {},
     "output_type": "execute_result"
    }
   ],
   "source": [
    "(fold-right / 1 (list 1 2 3)) ; (/ 1 (/ 2 (/ 3 1)))"
   ]
  },
  {
   "cell_type": "code",
   "execution_count": 35,
   "metadata": {
    "collapsed": false
   },
   "outputs": [
    {
     "data": {
      "text/plain": [
       "1/6"
      ]
     },
     "execution_count": 35,
     "metadata": {},
     "output_type": "execute_result"
    }
   ],
   "source": [
    "(fold-left / 1 (list 1 2 3)) ; (/ (/ (/ 1 1) 2) 3)"
   ]
  },
  {
   "cell_type": "code",
   "execution_count": 36,
   "metadata": {
    "collapsed": false
   },
   "outputs": [
    {
     "data": {
      "text/plain": [
       "(1 (2 (3 ())))"
      ]
     },
     "execution_count": 36,
     "metadata": {},
     "output_type": "execute_result"
    }
   ],
   "source": [
    "(fold-right list nil (list 1 2 3))"
   ]
  },
  {
   "cell_type": "code",
   "execution_count": 37,
   "metadata": {
    "collapsed": false
   },
   "outputs": [
    {
     "data": {
      "text/plain": [
       "(((() 1) 2) 3)"
      ]
     },
     "execution_count": 37,
     "metadata": {},
     "output_type": "execute_result"
    }
   ],
   "source": [
    "(fold-left list nil (list 1 2 3))"
   ]
  },
  {
   "cell_type": "markdown",
   "metadata": {},
   "source": [
    "op に必要な条件: 結合律が成り立つ。(init が\"単位元なら\")。((initが大いに関係する。initによっては可換だったり))"
   ]
  },
  {
   "cell_type": "markdown",
   "metadata": {},
   "source": [
    "### Exercise 2.39"
   ]
  },
  {
   "cell_type": "code",
   "execution_count": 38,
   "metadata": {
    "collapsed": false
   },
   "outputs": [
    {
     "data": {
      "text/plain": [
       "(25 16 9 4 1)"
      ]
     },
     "execution_count": 38,
     "metadata": {},
     "output_type": "execute_result"
    }
   ],
   "source": [
    "(define (reverse-r sequence)\n",
    "  (fold-right (lambda (x y) (append y (list x))) nil sequence))\n",
    "\n",
    "(reverse-r (list 1 4 9 16 25))"
   ]
  },
  {
   "cell_type": "code",
   "execution_count": 39,
   "metadata": {
    "collapsed": false
   },
   "outputs": [
    {
     "data": {
      "text/plain": [
       "(25 16 9 4 1)"
      ]
     },
     "execution_count": 39,
     "metadata": {},
     "output_type": "execute_result"
    }
   ],
   "source": [
    "(define (reverse-l sequence)\n",
    "  (fold-left (lambda (x y) (cons y x)) nil sequence))\n",
    "\n",
    "(reverse-l (list 1 4 9 16 25))"
   ]
  },
  {
   "cell_type": "markdown",
   "metadata": {},
   "source": [
    "## Nested Mappings"
   ]
  },
  {
   "cell_type": "code",
   "execution_count": 40,
   "metadata": {
    "collapsed": true
   },
   "outputs": [],
   "source": [
    "(define (smallest-divisor n) (find-divisor n 2)) (define (find-divisor n test-divisor)\n",
    "(cond ((> (square test-divisor) n) n)\n",
    "((divides? test-divisor n) test-divisor) (else (find-divisor n (+ test-divisor 1)))))\n",
    "(define (divides? a b) (= (remainder b a) 0))\n",
    "(define (prime? n)\n",
    "(= n (smallest-divisor n)))\n",
    "\n",
    ";;;"
   ]
  },
  {
   "cell_type": "code",
   "execution_count": 41,
   "metadata": {
    "collapsed": false
   },
   "outputs": [
    {
     "data": {
      "text/plain": [
       "((2 1) (3 1) (3 2) (4 1) (4 2) (4 3) (5 1) (5 2) (5 3) (5 4) (6 1) (6 2) (6 3) (6 4) (6 5))"
      ]
     },
     "execution_count": 41,
     "metadata": {},
     "output_type": "execute_result"
    }
   ],
   "source": [
    "(define n 6)\n",
    "(accumulate\n",
    " append nil (map (lambda (i)\n",
    "                    (map (lambda (j) (list i j))\n",
    "                         (enumerate-interval 1 (- i 1))))\n",
    "                  (enumerate-interval 1 n)))"
   ]
  },
  {
   "cell_type": "code",
   "execution_count": 42,
   "metadata": {
    "collapsed": true
   },
   "outputs": [],
   "source": [
    "(define (flatmap proc seq)\n",
    "  (accumulate append nil (map proc seq)))\n",
    "\n",
    "(define (prime-sum? pair)\n",
    "  (prime? (+ (car pair) (cadr pair))))\n",
    "\n",
    "(define (make-pair-sum pair)\n",
    "  (list (car pair) (cadr pair) (+ (car pair) (cadr pair))))"
   ]
  },
  {
   "cell_type": "code",
   "execution_count": 43,
   "metadata": {
    "collapsed": true
   },
   "outputs": [],
   "source": [
    "(define (prime-sum-pairs n)\n",
    "  (map make-pair-sum\n",
    "       (filter prime-sum? (flatmap\n",
    "                           (lambda (i)\n",
    "                             (map (lambda (j) (list i j))\n",
    "                                  (enumerate-interval 1 (- i 1))))\n",
    "                           (enumerate-interval 1 n)))))\n",
    "\n",
    "(define (permutations s)\n",
    "  (if (null? s)\n",
    "      (list nil)\n",
    "      (flatmap (lambda (x)\n",
    "                 (map (lambda (p) (cons x p))\n",
    "                      (permutations (remove x s))))\n",
    "               s)))\n",
    "\n",
    "(define (remove item sequence)\n",
    "  (filter (lambda (X) (not (= x item)))\n",
    "          sequence))"
   ]
  },
  {
   "cell_type": "code",
   "execution_count": 44,
   "metadata": {
    "collapsed": false
   },
   "outputs": [
    {
     "data": {
      "text/plain": [
       "((2 1 3) (3 2 5) (4 1 5) (4 3 7))"
      ]
     },
     "execution_count": 44,
     "metadata": {},
     "output_type": "execute_result"
    }
   ],
   "source": [
    "(prime-sum-pairs 4)"
   ]
  },
  {
   "cell_type": "markdown",
   "metadata": {},
   "source": [
    "### Exercise 2.40"
   ]
  },
  {
   "cell_type": "code",
   "execution_count": 70,
   "metadata": {
    "collapsed": false
   },
   "outputs": [],
   "source": [
    "(define (unique-pairs n)\n",
    "  (accumulate append nil\n",
    "              (map (lambda (i) \n",
    "                     (map (lambda (j) (list i j)) (enumerate-interval 1 (- i 1))))\n",
    "                   (enumerate-interval 1 n))))\n",
    "\n",
    ";(define (unique-pairs n)\n",
    ";  (accumulate append nil\n",
    ";              (map (lambda (i) \n",
    ";                     (map (lambda (j) (list i j)) (enumerate-interval (+ i 1) n)))\n",
    ";                   (enumerate-interval 1 n))))"
   ]
  },
  {
   "cell_type": "code",
   "execution_count": 71,
   "metadata": {
    "collapsed": false
   },
   "outputs": [
    {
     "data": {
      "text/plain": [
       "((2 1) (3 1) (3 2) (4 1) (4 2) (4 3) (5 1) (5 2) (5 3) (5 4))"
      ]
     },
     "execution_count": 71,
     "metadata": {},
     "output_type": "execute_result"
    }
   ],
   "source": [
    "(unique-pairs 5)"
   ]
  },
  {
   "cell_type": "code",
   "execution_count": 47,
   "metadata": {
    "collapsed": true
   },
   "outputs": [],
   "source": [
    "(define (prime-sum-pairs n)\n",
    "  (filter (lambda (x) (prime? (+ (car x) (cadr x)))) (unique-pairs n)))"
   ]
  },
  {
   "cell_type": "code",
   "execution_count": 48,
   "metadata": {
    "collapsed": false
   },
   "outputs": [
    {
     "data": {
      "text/plain": [
       "((2 1) (3 2) (4 1) (4 3) (5 2))"
      ]
     },
     "execution_count": 48,
     "metadata": {},
     "output_type": "execute_result"
    }
   ],
   "source": [
    "(prime-sum-pairs 5)"
   ]
  },
  {
   "cell_type": "markdown",
   "metadata": {},
   "source": [
    "### Exercise 2.41"
   ]
  },
  {
   "cell_type": "code",
   "execution_count": 49,
   "metadata": {
    "collapsed": false
   },
   "outputs": [],
   "source": [
    "(define (isSumS s n)\n",
    "  (filter (lambda (x) (= s (+ (car x)\n",
    "                              (cadr x)\n",
    "                              (cadr (cdr x))))) (trico n)))"
   ]
  },
  {
   "cell_type": "code",
   "execution_count": 50,
   "metadata": {
    "collapsed": false
   },
   "outputs": [],
   "source": [
    ";(define (trico n)\n",
    ";  (filter isntNil? \n",
    ";          (accumulate append nil\n",
    ";              (accumulate (lambda (i)\n",
    ";                     (map (lambda (j)\n",
    ";                            (map (lambda (k) (list i j k)) (enumerate-interval 1 (- j 1))))\n",
    ";                            (enumerate-interval 1 (- i 1))))\n",
    ";                   (enumerate-interval 1 n)))))\n",
    ";\n",
    "\n",
    "; 1. \n",
    "(define (trico n)\n",
    "  (accumulate append nil\n",
    "              (map (lambda (i) \n",
    "                     (map (lambda (j) (append i (list j))) (enumerate-interval 1 (- (cadr i) 1))))\n",
    "                   (unique-pairs n))))\n",
    "\n",
    "; 2.\n",
    "(define (trico n)\n",
    "  (flatmap (lambda (i)\n",
    "              (map (lambda (j) (append i (list j))) (enumerate-interval 1 (- (cadr i) 1))))\n",
    "           (unique-pairs n)))"
   ]
  },
  {
   "cell_type": "code",
   "execution_count": 51,
   "metadata": {
    "collapsed": false
   },
   "outputs": [
    {
     "data": {
      "text/plain": [
       "((3 2 1) (4 2 1) (4 3 1) (4 3 2) (5 2 1) (5 3 1) (5 3 2) (5 4 1) (5 4 2) (5 4 3))"
      ]
     },
     "execution_count": 51,
     "metadata": {},
     "output_type": "execute_result"
    }
   ],
   "source": [
    "(trico 5)"
   ]
  },
  {
   "cell_type": "code",
   "execution_count": 52,
   "metadata": {
    "collapsed": false
   },
   "outputs": [
    {
     "data": {
      "text/plain": [
       "((8 7 5) (9 6 5) (9 7 4) (9 8 3) (10 6 4) (10 7 3) (10 8 2) (10 9 1))"
      ]
     },
     "execution_count": 52,
     "metadata": {},
     "output_type": "execute_result"
    }
   ],
   "source": [
    "(isSumS 20 10)"
   ]
  },
  {
   "cell_type": "markdown",
   "metadata": {},
   "source": [
    "### Exercise 2.42"
   ]
  },
  {
   "cell_type": "code",
   "execution_count": 53,
   "metadata": {
    "collapsed": true
   },
   "outputs": [],
   "source": [
    "(define (queens board-size)\n",
    "  (define (queen-cols k)\n",
    "    (if (= k 0)\n",
    "        (list empty-board)\n",
    "        (filter\n",
    "         (lambda (position) (safe? k position))\n",
    "         (flatmap\n",
    "          (lambda (rest-of-queens)\n",
    "            (map (lambda (new-row)\n",
    "                   (adjoin-position\n",
    "                    new-row k rest-of-queens))\n",
    "                 (enumerate-interval 1 board-size)))\n",
    "          (queen-cols (- k 1))))))\n",
    "  (queen-cols board-size))"
   ]
  },
  {
   "cell_type": "code",
   "execution_count": 54,
   "metadata": {
    "collapsed": true
   },
   "outputs": [],
   "source": [
    "(define empty-board nil)"
   ]
  },
  {
   "cell_type": "code",
   "execution_count": 55,
   "metadata": {
    "collapsed": true
   },
   "outputs": [],
   "source": [
    "(define (adjoin-position new-row k rest-of-qs)\n",
    "  (cons (list new-row k) rest-of-qs))"
   ]
  },
  {
   "cell_type": "code",
   "execution_count": 56,
   "metadata": {
    "collapsed": false
   },
   "outputs": [],
   "source": [
    "(define (And bs)\n",
    "  (if (null? bs)\n",
    "      #t\n",
    "      (and (car bs)\n",
    "           (And (cdr bs)))))\n",
    "\n",
    "(define (safe? k position)\n",
    "  (let ((p (car position))\n",
    "        (ps (cdr position)))\n",
    "    (And (map (lambda (pos-q) (and (not (= (car p) (car pos-q)))\n",
    "                                   (not (= (cadr p) (cadr pos-q)))\n",
    "                                   (not (= 1 (/ (abs (- (car p) (car pos-q)))\n",
    "                                                (abs (- (cadr p) (cadr pos-q)))))))) ps))))\n",
    "\n",
    ";; (k , m) が　各　(x, y) \\in position\n",
    ";; と　k != x && m != y (タテ・ヨコ)\n",
    ";; かつ　abs(k-x)/abs(m-y) != 1　（ナナメ）\n",
    ";; をチェックすれば良い（？"
   ]
  },
  {
   "cell_type": "code",
   "execution_count": 57,
   "metadata": {
    "collapsed": false
   },
   "outputs": [
    {
     "data": {
      "text/plain": [
       "(((4 5) (2 4) (5 3) (3 2) (1 1)) ((3 5) (5 4) (2 3) (4 2) (1 1)) ((5 5) (3 4) (1 3) (4 2) (2 1)) ((4 5) (1 4) (3 3) (5 2) (2 1)) ((5 5) (2 4) (4 3) (1 2) (3 1)) ((1 5) (4 4) (2 3) (5 2) (3 1)) ((2 5) (5 4) (3 3) (1 2) (4 1)) ((1 5) (3 4) (5 3) (2 2) (4 1)) ((3 5) (1 4) (4 3) (2 2) (5 1)) ((2 5) (4 4) (1 3) (3 2) (5 1)))"
      ]
     },
     "execution_count": 57,
     "metadata": {},
     "output_type": "execute_result"
    }
   ],
   "source": [
    "(queens 5)"
   ]
  },
  {
   "cell_type": "code",
   "execution_count": 58,
   "metadata": {
    "collapsed": false
   },
   "outputs": [
    {
     "data": {
      "text/plain": [
       "(((3 4) (1 3) (4 2) (2 1)) ((2 4) (4 3) (1 2) (3 1)))"
      ]
     },
     "execution_count": 58,
     "metadata": {},
     "output_type": "execute_result"
    }
   ],
   "source": [
    "(queens 4)"
   ]
  },
  {
   "cell_type": "markdown",
   "metadata": {},
   "source": [
    "### Exercise 2.43"
   ]
  },
  {
   "cell_type": "code",
   "execution_count": 59,
   "metadata": {
    "collapsed": true
   },
   "outputs": [],
   "source": [
    "; Louis Reasoner's 8-queen\n",
    "\n",
    "(define (lr-queens board-size)\n",
    "  (define (queen-cols k)\n",
    "    (if (= k 0)\n",
    "        (list empty-board)\n",
    "        (filter\n",
    "         (lambda (positioin) (safe? k positioin))\n",
    "         (flatmap\n",
    "          (lambda (new-row)\n",
    "            (map (lambda (rest-of-queens)\n",
    "                   (adjoin-position\n",
    "                    new-row k rest-of-queens))\n",
    "                 (queen-cols (- k 1))))\n",
    "          (enumerate-interval 1 board-size)))))\n",
    "  (queen-cols board-size))\n"
   ]
  },
  {
   "cell_type": "code",
   "execution_count": 60,
   "metadata": {
    "collapsed": false
   },
   "outputs": [
    {
     "data": {
      "text/plain": [
       "(((2 4) (4 3) (1 2) (3 1)) ((3 4) (1 3) (4 2) (2 1)))"
      ]
     },
     "execution_count": 60,
     "metadata": {},
     "output_type": "execute_result"
    }
   ],
   "source": [
    "(lr-queens 4)"
   ]
  },
  {
   "cell_type": "markdown",
   "metadata": {},
   "source": [
    "```scheme\n",
    ";queen\n",
    "\n",
    "         (flatmap\n",
    "          (lambda (rest-of-queens)\n",
    "            (map (lambda (new-row)\n",
    "                   (adjoin-position\n",
    "                    new-row k rest-of-queens))\n",
    "                 (enumerate-interval 1 board-size)))\n",
    "          (queen-cols (- k 1)))\n",
    "```\n",
    "\n",
    "---\n",
    "\n",
    "```scheme\n",
    ";lr's slow queen\n",
    "\n",
    "         (flatmap\n",
    "          (lambda (new-row)\n",
    "            (map (lambda (rest-of-queens)\n",
    "                   (adjoin-position\n",
    "                    new-row k rest-of-queens))\n",
    "                 (queen-cols (- k 1))))\n",
    "          (enumerate-interval 1 board-size))\n",
    "```\n",
    "\n",
    "---\n",
    "\n"
   ]
  }
 ],
 "metadata": {
  "kernelspec": {
   "display_name": "Calysto Scheme 3",
   "language": "scheme",
   "name": "calysto_scheme"
  },
  "language_info": {
   "codemirror_mode": {
    "name": "scheme"
   },
   "mimetype": "text/x-scheme",
   "name": "scheme",
   "pygments_lexer": "scheme"
  },
  "latex_envs": {
   "bibliofile": "biblio.bib",
   "cite_by": "apalike",
   "current_citInitial": 1,
   "eqLabelWithNumbers": true,
   "eqNumInitial": 0
  }
 },
 "nbformat": 4,
 "nbformat_minor": 0
}
