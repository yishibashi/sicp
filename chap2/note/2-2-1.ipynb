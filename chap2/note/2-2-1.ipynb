{
 "cells": [
  {
   "cell_type": "markdown",
   "metadata": {},
   "source": [
    "# Chapter 2\n",
    "\n",
    "2 Building Abstractions with Data\n",
    "---\n",
    "\n",
    "In this chapter we are going to look at more complex data.\n",
    "\n",
    "(All the procedures in chap.1 operate on simple numerical data, and simple data.)\n",
    "\n",
    "- **Focus in Chapter 1** : building abstractions by combining procedures to form compound procedures   \n",
    "(**手続き**を組み合わせることで抽象化すること.)\n",
    "\n",
    "\n",
    "- **Focus in Chapter 2** : the means it provides for building abstractions by combining data object to form compound data\n",
    "(データオブジェクトを組み合わせて合成**データ**を与える手段)\n"
   ]
  },
  {
   "cell_type": "markdown",
   "metadata": {},
   "source": [
    "2.1 Introduction to Data Abstraction\n",
    "---\n",
    "\n",
    "- **Data abstraction** : methodology that enables us to isolate how a compound data object is used from the details of how it is constructed from more primitive data objects.\n",
    "(合成データオブジェクトがどのようにして基本的なデータオブジェクトから構成されているかを隔離する技法)\n",
    "\n"
   ]
  },
  {
   "cell_type": "markdown",
   "metadata": {},
   "source": [
    "2.1.1 Example: Arithmetic Operations for Rational Numbers\n",
    "---\n"
   ]
  },
  {
   "cell_type": "code",
   "execution_count": 1,
   "metadata": {
    "collapsed": true
   },
   "outputs": [],
   "source": [
    "(define (make-rat n d) (cons n d)) ; returns the rational number d/n\n",
    "\n",
    "(define (numer x) (car x)) ; returns the numerator of the rational number <x> => d\n",
    "\n",
    "(define (denom x) (cdr x)) ; returns the denominator of the rational number <x> => n\n",
    "\n",
    "(define (print-rat x)\n",
    "  (newline)\n",
    "  (display (numer x))\n",
    "  (display \"/\")\n",
    "  (display (denom x)))"
   ]
  },
  {
   "cell_type": "code",
   "execution_count": 2,
   "metadata": {
    "collapsed": false
   },
   "outputs": [
    {
     "name": "stdout",
     "output_type": "stream",
     "text": [
      "'(1 . 2)'(3 . 4)32"
     ]
    }
   ],
   "source": [
    "(define x (cons 1 2))\n",
    "\n",
    "(define y (cons 3 4))\n",
    "\n",
    "(define z (cons x y))\n",
    "\n",
    "(print (car z))\n",
    "(print (cdr z))\n",
    "\n",
    "(print (car (cdr z)))\n",
    "(print (cdr (car z)))"
   ]
  },
  {
   "cell_type": "markdown",
   "metadata": {},
   "source": [
    "$$\n",
    "\\frac{n_1}{d_1} + \\frac{n_2}{d_2} = \\frac{n_1d_2+n_2d_1}{d_1d_2}\\\\\n",
    "$$\n",
    "$$\n",
    "\\frac{n_1}{d_1} - \\frac{n_2}{d_2} = \\frac{n_1d_2-n_2d_1}{d_1d_2}\\\\ \n",
    "$$\n",
    "$$\n",
    "\\frac{n_1}{d_1} \\cdot \\frac{n_2}{d_2} = \\frac{n_1dn_2}{d_1d_2}\\\\ \n",
    "$$\n",
    "$$\n",
    "\\frac{n_1/d_1}{n_2/d_2} = \\frac{n_1d_2}{d_1n_2}\\\\\n",
    "$$\n",
    "$$\n",
    "\\frac{n_1}{d_1} = \\frac{n_2}{d_2} \\quad \\text{if and only if}\\quad n_1d_2 = n_2d_1\n",
    "$$"
   ]
  },
  {
   "cell_type": "code",
   "execution_count": 3,
   "metadata": {
    "collapsed": true
   },
   "outputs": [],
   "source": [
    "(define (add-rat x y)\n",
    "  (make-rat (+ (* (numer x) (denom y))\n",
    "               (* (numer y) (denom x)))\n",
    "            (* (denom x) (denom y))))\n",
    "\n",
    "\n",
    "(define (sub-rat x y)\n",
    " (make-rat (- (* (numer x) (denom y))\n",
    "               (* (numer y) (denom x)))\n",
    "            (* (denom x) (denom y))))\n",
    "\n",
    "\n",
    "(define (mul-rat x y)\n",
    "  (make-rat (* (numer x) (numer y))\n",
    "            (* (denom x) (denom y))))\n",
    "\n",
    "(define (div-rat x y)\n",
    "  (make-rat (* (numer x) (denom y))\n",
    "            (* (denom x) (numer y))))\n",
    "\n",
    "(define (equal-rat? x y)\n",
    "  (= (* (numer x) (denom y))\n",
    "     (* (numer y) (denom x))))\n",
    "\n"
   ]
  },
  {
   "cell_type": "code",
   "execution_count": 4,
   "metadata": {
    "collapsed": false
   },
   "outputs": [
    {
     "name": "stdout",
     "output_type": "stream",
     "text": [
      "\n",
      "1/2\n",
      "5/6\n",
      "1/6\n",
      "1/6\n",
      "3/2\n",
      "6/9"
     ]
    }
   ],
   "source": [
    "(define one-half (make-rat 1 2))\n",
    "(print-rat one-half)\n",
    "\n",
    "(define one-third (make-rat 1 3))\n",
    "\n",
    "(print-rat (add-rat one-half one-third))\n",
    "\n",
    "(print-rat (sub-rat one-half one-third))\n",
    "\n",
    "(print-rat (mul-rat one-half one-third))\n",
    "\n",
    "(print-rat (div-rat one-half one-third))\n",
    "\n",
    "(print-rat (add-rat one-third one-third))\n",
    ";^^^ our rational number implimentation does not \n",
    ";    reduce rational numbers to lowerst terems"
   ]
  },
  {
   "cell_type": "code",
   "execution_count": 5,
   "metadata": {
    "collapsed": true
   },
   "outputs": [],
   "source": [
    "(define (gcd a b)\n",
    "  (if (= b 0)\n",
    "      a\n",
    "      (gcd b (remainder a b))))\n",
    "\n",
    "(define (make-rat n d)\n",
    "  (let ((g (gcd n d)))\n",
    "    (cons (/ n g) (/ d g))))"
   ]
  },
  {
   "cell_type": "code",
   "execution_count": 6,
   "metadata": {
    "collapsed": false
   },
   "outputs": [
    {
     "name": "stdout",
     "output_type": "stream",
     "text": [
      "\n",
      "2/3"
     ]
    }
   ],
   "source": [
    "(print-rat (add-rat one-third one-third))\n",
    ";^^^ get rational number as desired!!"
   ]
  },
  {
   "cell_type": "markdown",
   "metadata": {},
   "source": [
    "### Exercise 2.1"
   ]
  },
  {
   "cell_type": "code",
   "execution_count": 7,
   "metadata": {
    "collapsed": false
   },
   "outputs": [],
   "source": [
    "(define (abs x)\n",
    "  (if (> 0 x)\n",
    "      (- x)\n",
    "      x))\n",
    "\n",
    "(define (make-rat n d)\n",
    "  (let ((g  (abs (gcd n d))))\n",
    "   (if (< (* n d) 0)\n",
    "     (cons (/ (abs n) (- g)) (/ (abs d) g))\n",
    "     (cons (/ (abs n)  g) (/ (abs d) g))\n",
    "     )\n",
    "   )\n",
    "  )\n"
   ]
  },
  {
   "cell_type": "markdown",
   "metadata": {
    "collapsed": true
   },
   "source": [
    "2.1.2 Abstraction Barrier\n",
    "---\n",
    "\n",
    "Simple idea has many advantages.\n",
    "\n",
    "- One advantage is that it makes programs much easier to maintainand to modify.  \n",
    "(保守性保つことや変更を加える事がより容易になる.)\n",
    "\n"
   ]
  },
  {
   "cell_type": "markdown",
   "metadata": {},
   "source": [
    "### Exercise 2.2"
   ]
  },
  {
   "cell_type": "code",
   "execution_count": 8,
   "metadata": {
    "collapsed": true
   },
   "outputs": [],
   "source": [
    ";; define Point\n",
    "\n",
    "(define (make-point px py)\n",
    "  (cons px py))\n",
    "\n",
    "(define (x-point p)\n",
    "  (car p))\n",
    "\n",
    "(define (y-point p)\n",
    "  (cdr p))\n",
    "\n",
    "\n",
    "(define (print-point p)\n",
    "  (newline)\n",
    "  (display \"(\")\n",
    "  (display (x-point p))\n",
    "  (display \",\")\n",
    "  (display (y-point p))\n",
    "  (display \")\")\n",
    "  (newline))\n",
    "\n",
    "\n",
    "\n",
    ";; define Line\n",
    "\n",
    "(define (make-segment p1 p2)\n",
    "  (cons p1 p2))\n",
    "\n",
    "(define (start-segment line)\n",
    "  (car line))\n",
    "\n",
    "(define (end-segment line)\n",
    "  (cdr line))\n",
    "\n",
    "\n",
    "\n",
    ";; get mid-point\n",
    "\n",
    "(define (midpoint-segment line)\n",
    "  (cons (/ (+ (car (start-segment line)) (car (end-segment line))) 2.0)\n",
    "        (/ (+ (cdr (start-segment line)) (cdr (end-segment line))) 2.0)))\n",
    "\n"
   ]
  },
  {
   "cell_type": "code",
   "execution_count": 9,
   "metadata": {
    "collapsed": false
   },
   "outputs": [
    {
     "name": "stdout",
     "output_type": "stream",
     "text": [
      "\n",
      "(0,0)\n",
      "\n",
      "(1,1)\n",
      "\n",
      "(-1,-1)\n",
      "\n",
      "(0,0)\n",
      "\n",
      "(1,1)\n",
      "\n",
      "(0.5,0.5)\n"
     ]
    }
   ],
   "source": [
    "(define a (make-point 0 0))\n",
    "(print-point a)\n",
    "\n",
    "(define b (make-point 1 1))\n",
    "(print-point b)\n",
    "\n",
    "(define c (make-point -1 -1))\n",
    "(print-point c)\n",
    "\n",
    "\n",
    "(define a2b (make-segment a b))\n",
    "\n",
    "(print-point (start-segment a2b))\n",
    "(print-point (end-segment a2b))\n",
    "(print-point (midpoint-segment a2b))"
   ]
  },
  {
   "cell_type": "markdown",
   "metadata": {},
   "source": [
    "### Exercise 2.3\n",
    "\n",
    "\n",
    "x軸,y軸に平行な場合\n",
    "\n",
    "```bash\n",
    "\n",
    "a_4                      a_3\n",
    "+-------------------------+\n",
    "|                         |\n",
    "|                         |\n",
    "|        THIS IS          |\n",
    "|       RECTANGLE         |\n",
    "|                         |\n",
    "|                         |\n",
    "+-------------------------+\n",
    "a_1                       a_2\n",
    "\n",
    "```\n",
    "\n",
    "\n"
   ]
  },
  {
   "cell_type": "code",
   "execution_count": 10,
   "metadata": {
    "collapsed": false
   },
   "outputs": [],
   "source": [
    "(define (abs x)\n",
    "  (if (> 0 x)\n",
    "      (- x)\n",
    "      x))\n",
    "\n",
    "(define (rectangle a1 a3)\n",
    "  (cons a1 a3))\n",
    "\n",
    "(define (get-perimeter rectangle)\n",
    "  (* 2 (+ (abs (- (x-point (cdr rectangle)) (x-point (car rectangle))))\n",
    "          (abs (- (y-point (cdr rectangle)) (y-point (car rectangle)))))))\n",
    "\n",
    "(define (get-area rectangle)\n",
    "  (* (abs (- (x-point (cdr rectangle)) (x-point (car rectangle))))\n",
    "     (abs (- (y-point (cdr rectangle)) (y-point (car rectangle))))))\n",
    "\n",
    "  "
   ]
  },
  {
   "cell_type": "code",
   "execution_count": 11,
   "metadata": {
    "collapsed": false
   },
   "outputs": [
    {
     "name": "stdout",
     "output_type": "stream",
     "text": [
      "\n",
      "(0,0)\n",
      "\n",
      "(3,3)\n",
      "129"
     ]
    }
   ],
   "source": [
    "(define a_1 (make-point 0 0))\n",
    "(print-point a_1)\n",
    "(define a_3 (make-point 3 3))\n",
    "(print-point a_3)\n",
    "\n",
    "\n",
    "(define rec (rectangle a_1 a_3))\n",
    "\n",
    "(print (get-perimeter rec))\n",
    "\n",
    "(print (get-area rec))"
   ]
  },
  {
   "cell_type": "markdown",
   "metadata": {},
   "source": [
    "2.1.3 What is Meant by Data?\n",
    "---\n",
    "\n"
   ]
  },
  {
   "cell_type": "markdown",
   "metadata": {},
   "source": [
    "### Exercise 2.4\n"
   ]
  },
  {
   "cell_type": "code",
   "execution_count": 12,
   "metadata": {
    "collapsed": true
   },
   "outputs": [],
   "source": [
    "(define (cons x y)\n",
    "  (lambda (m) (m x y))) \n",
    "\n",
    "(define (car z)\n",
    "  (z (lambda (p q) p)))\n"
   ]
  },
  {
   "cell_type": "markdown",
   "metadata": {},
   "source": [
    "$$\n",
    "cons :=\\ \\lambda m. m\\ x\\ y \\\\\n",
    "car :=\\ z\\ \\lambda\\ p.\\ q.\\ p\n",
    "$$"
   ]
  },
  {
   "cell_type": "code",
   "execution_count": 13,
   "metadata": {
    "collapsed": false
   },
   "outputs": [
    {
     "data": {
      "text/plain": [
       "x"
      ]
     },
     "execution_count": 13,
     "metadata": {},
     "output_type": "execute_result"
    }
   ],
   "source": [
    "(car (cons \"x\" \"y\"))\n",
    ";\n",
    ";(cons \"x\" \"y\") => (lambda (m) (m \"x\" \"y\"))\n",
    ";何か手続きを受け取って,その手続を　\"x\" \"y\" に作用させる関数\n",
    ";\n",
    ";(car (cons \"x\" \"y\")) => ((lambda (m) (m \"x\" \"y\")) (lambda (p q) p))\n",
    ";                     => ((lambda (p q) p) \"x\" \"y\")                     "
   ]
  },
  {
   "cell_type": "code",
   "execution_count": 14,
   "metadata": {
    "collapsed": true
   },
   "outputs": [],
   "source": [
    "(define (cdr z)\n",
    "  (z (lambda (p q) q)))"
   ]
  },
  {
   "cell_type": "code",
   "execution_count": 15,
   "metadata": {
    "collapsed": false
   },
   "outputs": [
    {
     "data": {
      "text/plain": [
       "y"
      ]
     },
     "execution_count": 15,
     "metadata": {},
     "output_type": "execute_result"
    }
   ],
   "source": [
    "(cdr (cons \"x\" \"y\"))"
   ]
  },
  {
   "cell_type": "markdown",
   "metadata": {},
   "source": [
    "### Exercise 2.5"
   ]
  },
  {
   "cell_type": "code",
   "execution_count": 16,
   "metadata": {
    "collapsed": false
   },
   "outputs": [],
   "source": [
    "(define (product x a)\n",
    "  (define (iter v a) \n",
    "    (if (= a 0)\n",
    "        v\n",
    "        (iter (* v x) (- a 1))))\n",
    "  (iter 1 a))"
   ]
  },
  {
   "cell_type": "code",
   "execution_count": 17,
   "metadata": {
    "collapsed": false
   },
   "outputs": [],
   "source": [
    "(define (pair-cons a b)\n",
    "  (* (product 2 a)\n",
    "     (product 3 b)))\n",
    "\n",
    "\n",
    "(define (pair-car z)\n",
    "  (define (iter n)\n",
    "    (if (not (= (remainder z (product 2 n)) 0)) \n",
    "      (- n 1)\n",
    "      (iter (+ n 1))))\n",
    "  (iter 0))\n",
    "\n",
    "\n",
    "(define (pair-cdr z)\n",
    "  (define (iter n)\n",
    "    (if (not (= (remainder z (product 3 n)) 0)) \n",
    "      (- n 1)\n",
    "      (iter (+ n 1))))\n",
    "  (iter 0))"
   ]
  },
  {
   "cell_type": "markdown",
   "metadata": {
    "collapsed": true
   },
   "source": [
    "### Exercise 2.6"
   ]
  },
  {
   "cell_type": "code",
   "execution_count": 18,
   "metadata": {
    "collapsed": false
   },
   "outputs": [],
   "source": [
    "(define zero (lambda (f) (lambda (x) x)))\n",
    "\n",
    "(define (add1 n)\n",
    "  (lambda (f) (lambda (x) (f ((n f) x)))))"
   ]
  },
  {
   "cell_type": "markdown",
   "metadata": {},
   "source": [
    "```scheme\n",
    "(add1 zero)\n",
    "\n",
    "=>(lambda (f) (lambda (x) (f ((zero f) x))))\n",
    "\n",
    "=>(lambda (f) (lambda (x) (f ((lambda (f) (lambda (x) x)) f) x)))\n",
    "\n",
    "```\n",
    "\n",
    "\n",
    "$$\n",
    "zero := \\lambda\\ f\\ x.\\ x\n",
    "\\\\\n",
    "add1 := \\lambda\\ f\\ x.\\ f\\ (n\\ f\\ x)\n",
    "\\\\\n",
    "one := \\lambda\\ f\\ x.\\ f\\ x\n",
    "\\\\\n",
    "(add1\\ zero) := \\lambda\\ f\\ x.\\ f\\ (zero\\ f\\ x)\\\\\n",
    "\\\\\n",
    "             = \\lambda\\ f\\ x.\\ f\\ (\\lambda f x. f x)\\\\\n",
    "             = \\lambda\\ f\\ x.\\ f\\ x\n",
    "\\\\\n",
    "two := \\lambda\\ f\\ x.\\ f\\ (f\\ x)\n",
    "\\\\\n",
    "three :== two := \\lambda\\ f\\ x.\\ f\\ ( f\\ (f\\ x))\n",
    "$$\n",
    "\n"
   ]
  },
  {
   "cell_type": "code",
   "execution_count": 19,
   "metadata": {
    "collapsed": false
   },
   "outputs": [],
   "source": [
    "(define one\n",
    "  (lambda (f)\n",
    "    (lambda (x)\n",
    "      (f x)\n",
    "      )\n",
    "    )\n",
    "  )\n",
    "\n",
    "\n",
    "(define two\n",
    "  (lambda (f)\n",
    "    (lambda (x)\n",
    "      (f (f x)\n",
    "         )\n",
    "      )\n",
    "    )\n",
    "  )"
   ]
  },
  {
   "cell_type": "markdown",
   "metadata": {
    "collapsed": false
   },
   "source": [
    "2.1.4 Extended Exercise: Interval Arithmetic\n",
    "---"
   ]
  },
  {
   "cell_type": "code",
   "execution_count": 20,
   "metadata": {
    "collapsed": true
   },
   "outputs": [],
   "source": [
    "(define (add-interval x y)\n",
    "  (make-interval (+ (lower-bound x) (lower-bound y))\n",
    "                 (+ (upper-bound x) (upper-bound y))))\n",
    "\n",
    "(define (mul-interval x y)\n",
    "  (let ((p1 (* (lower-bound x) (lower-bound y)))\n",
    "        (p2 (* (lower-bound x) (upper-bound y)))\n",
    "        (p3 (* (upper-bound x) (lower-bound y)))\n",
    "        (p4 (* (upper-bound x) (upper-bound y))))\n",
    "    (make-interval (min p1 p2 p3 p4) (max p1 p2 p3 p4))))\n",
    "\n",
    "(define (div-interval x y)\n",
    "  (mul-interval\n",
    "   x\n",
    "   (make-interval (/ 1.0 (upper-bound y))\n",
    "                  (/ 1.0 (lower-bound y)))))\n"
   ]
  },
  {
   "cell_type": "markdown",
   "metadata": {},
   "source": [
    "### Exercise 2.7"
   ]
  },
  {
   "cell_type": "code",
   "execution_count": 21,
   "metadata": {
    "collapsed": true
   },
   "outputs": [],
   "source": [
    "(define (make-interval a b) (cons a b))\n",
    "\n",
    "(define (lower-bound x) (car x))\n",
    "(define (upper-bound x) (cdr x))"
   ]
  },
  {
   "cell_type": "markdown",
   "metadata": {},
   "source": [
    "### Exercise 2.8"
   ]
  },
  {
   "cell_type": "code",
   "execution_count": 22,
   "metadata": {
    "collapsed": true
   },
   "outputs": [],
   "source": [
    "(define (sub-interval x y)\n",
    "  (make-interval (- (lower-bound x) (upper-bound y))\n",
    "                 (- (upper-bound x) (lower-bound y))))"
   ]
  },
  {
   "cell_type": "markdown",
   "metadata": {},
   "source": [
    "### Exercise 2.9"
   ]
  },
  {
   "cell_type": "code",
   "execution_count": 23,
   "metadata": {
    "collapsed": true
   },
   "outputs": [],
   "source": [
    "(define (width-interval x)\n",
    "  (/ (- (upper-bound x) (lower-bound x)) 2.0))\n"
   ]
  },
  {
   "cell_type": "markdown",
   "metadata": {},
   "source": [
    "$x := (a, b)\\\\y := (c, d)$  \n",
    "\n",
    "$x+y = (a+c, b+d),\\\\x-y = (a-d, b-c) $\n",
    "\n",
    "\n",
    "\\begin{eqnarray*}\n",
    "width(x+y) = \\frac{(b+d)-(a+c)}{2}\\\\     \n",
    "           = \\frac{(b-a)+(d-c)}{2}\\\\\n",
    "           = \\frac{b-a}{2} + \\frac{d-c}{2}\\\\\n",
    "           = width(x) + width(y)\n",
    "\\end{eqnarray*}\n",
    "\\\\\n",
    "\n",
    "\\begin{eqnarray*}\n",
    "width(x-y) = \\frac{(b-c)-(a-d)}{2}\\\\     \n",
    "           = \\frac{(b-a)+(d-c)}{2}\\\\\n",
    "           = \\frac{b-a}{2} + \\frac{d-c}{2}\\\\\n",
    "           = width(x) + width(y)\n",
    "\\end{eqnarray*}\n"
   ]
  },
  {
   "cell_type": "markdown",
   "metadata": {},
   "source": [
    "### Exercise 2.10"
   ]
  },
  {
   "cell_type": "code",
   "execution_count": 24,
   "metadata": {
    "collapsed": false
   },
   "outputs": [],
   "source": [
    "(define (div-interval x y)\n",
    "  (if (< (* (lower-bound y) (upper-bound y)) 0)\n",
    "      (error \"Divide by an interval that spans zero.\")\n",
    "      (mul-interval\n",
    "       x\n",
    "       (make-interval (/ 1.0 (upper-bound y))\n",
    "                      (/ 1.0 (lower-bound y))))))\n"
   ]
  },
  {
   "cell_type": "markdown",
   "metadata": {},
   "source": [
    "### Exercise 2.11"
   ]
  },
  {
   "cell_type": "markdown",
   "metadata": {},
   "source": [
    "9パターンは,\n",
    "\n",
    "1. [+ +] * [- -] \n",
    "2. [+ +] * [- +]\n",
    "3. [+ +] * [+ +]\n",
    "4. [- +] * [- -]\n",
    "5. [- +] * [- +]\n",
    "6. [- +] * [+ +]\n",
    "7. [- -] * [- -]\n",
    "8. [- -] * [- +]\n",
    "9. [- -] * [+ +]\n",
    "\n",
    "このうち,2回以上掛け算が必要となるのは 5. のみ\n",
    "\n",
    "---\n",
    "\n",
    "\n",
    "---"
   ]
  },
  {
   "cell_type": "code",
   "execution_count": 25,
   "metadata": {
    "collapsed": true
   },
   "outputs": [],
   "source": [
    "(define (make-center-width c v)\n",
    "  (make-interval (- c w) (+ c w)))\n",
    "\n",
    "(define (center i)\n",
    "  (/ (+ (lower-bound i) (upper-bound i)) 2))\n",
    "\n",
    "(define (width i)\n",
    "  (/ (- (upper-bound i) (lower-bound i)) 2))"
   ]
  },
  {
   "cell_type": "markdown",
   "metadata": {
    "collapsed": true
   },
   "source": [
    "### Exercise 2.12"
   ]
  },
  {
   "cell_type": "code",
   "execution_count": 26,
   "metadata": {
    "collapsed": true
   },
   "outputs": [],
   "source": [
    "(define (percent2w c p)\n",
    "  (* c (/ p 100)))\n",
    "\n",
    "(define (make-center-percent c p)\n",
    "  (make-interval (- c (percent2w c p)) (+ c (percent2w c p))))\n",
    "\n",
    "\n",
    "(define (get-percent x)\n",
    "  (* (/ (width x) (center x)) 100))"
   ]
  },
  {
   "cell_type": "code",
   "execution_count": 27,
   "metadata": {
    "collapsed": false
   },
   "outputs": [],
   "source": [
    "(define x (make-center-percent 50 1.0))"
   ]
  },
  {
   "cell_type": "code",
   "execution_count": 28,
   "metadata": {
    "collapsed": false
   },
   "outputs": [
    {
     "name": "stdout",
     "output_type": "stream",
     "text": [
      "49.550.5"
     ]
    }
   ],
   "source": [
    "(print (car x))\n",
    "(print (cdr x))"
   ]
  },
  {
   "cell_type": "code",
   "execution_count": 29,
   "metadata": {
    "collapsed": false
   },
   "outputs": [
    {
     "data": {
      "text/plain": [
       "1.0"
      ]
     },
     "execution_count": 29,
     "metadata": {},
     "output_type": "execute_result"
    }
   ],
   "source": [
    "(get-percent x)"
   ]
  },
  {
   "cell_type": "markdown",
   "metadata": {},
   "source": [
    "### Exercise 2.13"
   ]
  },
  {
   "cell_type": "markdown",
   "metadata": {},
   "source": [
    "区間$X:\\ (c_1-p_1, c_1+p_1)$, 区間$Y:\\ (c_2-p_2, c_2+p_2)$ とする.\n",
    "\n",
    "このとき,それぞれの区間におけるパーセント許容誤差は\n",
    "\n",
    "それぞれ$(p_1/c_1)*100$,$(p_2/c_2)*100$\n",
    "\n",
    "区間の積は\n",
    "$$\n",
    "(c_1-p_1, c_1+p_1)*(c_2-p_2, c_2+p_2) = ((c_1-p_1)(c_2-p_2), (c_1+p_1)(c_2+p_2))\\\\\n",
    "                                      = ((c_1 c_2 - c_1 p_2 - c_2 p_1 + p_1 p_2),(c_1 c_2 + c_1 p_2 + c_2 p_1 + p_1 p_2))\n",
    "$$\n",
    "\n",
    "いま、パーセント許容誤差が小さいので,$p_1, p_2$も小さくなるだろう.故にその積$p_1p_2 \\approx 0$である.\n",
    "\n",
    "したがって,この区間の積における誤差は$c_1p_2+c_2p_1$,パーセント許容誤差は$((c_1p_2+c_2p_1)/c_1c_2)*100$\n",
    "\n",
    "つまり,区間X,Yのパーセント許容誤差の和である.\n",
    "\n",
    "\n",
    "---"
   ]
  },
  {
   "cell_type": "code",
   "execution_count": 30,
   "metadata": {
    "collapsed": true
   },
   "outputs": [],
   "source": [
    "(define (par1 r1 r2)\n",
    "  (div-interval (mul-interval r1 r2)\n",
    "                (add-interval r1 r2)))\n",
    "\n",
    "\n",
    "(define (par2 r1 r2)\n",
    "  (let ((one (make-interval 1 1)))\n",
    "    (div-interval\n",
    "        one (add-interval (div-interval one r1)\n",
    "                          (div-interval one r2)))))"
   ]
  },
  {
   "cell_type": "markdown",
   "metadata": {},
   "source": [
    "### Exercise 2.14"
   ]
  },
  {
   "cell_type": "code",
   "execution_count": 31,
   "metadata": {
    "collapsed": false
   },
   "outputs": [
    {
     "name": "stdout",
     "output_type": "stream",
     "text": [
      "\"A : interval (10 +- 1% ) \"\"B : interval (15 +- 5% ) \"\"A:\"9.910.1\"B:\"14.2515.75\n",
      "\"par1 A/A :\"4.85198019801980255.152020202020202\"par2 A/A :\"4.955.05\n",
      "\"center A/A: \"\"par1 :\"5.002000200020002\"par2 :\"5.0\n",
      "\"par1 A/B :\"5.4574468085106386.58695652173913\"par2 A/B :\"5.8416149068322996.153771760154739"
     ]
    }
   ],
   "source": [
    "\n",
    "(print \"A : interval (10 +- 1% ) \")\n",
    "(define A (make-center-percent 10 1.0))\n",
    "(print \"B : interval (15 +- 5% ) \")\n",
    "(define B (make-center-percent 15 5.0))\n",
    "\n",
    "(print \"A:\")\n",
    "(print (lower-bound A))\n",
    "(print (upper-bound A))\n",
    "\n",
    "(print \"B:\")\n",
    "(print (lower-bound B))\n",
    "(print (upper-bound B))\n",
    "(newline)\n",
    "\n",
    "(print \"par1 A/A :\")\n",
    "(print (lower-bound (par1 A A)))\n",
    "(print (upper-bound (par1 A A)))\n",
    "(print \"par2 A/A :\")\n",
    "(print (lower-bound (par2 A A)))\n",
    "(print (upper-bound (par2 A A)))\n",
    "(newline)\n",
    "\n",
    "(print \"center A/A: \")\n",
    "(print \"par1 :\")\n",
    "(print (center (par1 A A)))\n",
    "(print \"par2 :\")\n",
    "(print (center (par2 A A)))\n",
    "(newline)\n",
    "\n",
    "(print \"par1 A/B :\")\n",
    "(print (lower-bound (par1 A B)))\n",
    "(print (upper-bound (par1 A B)))\n",
    "(print \"par2 A/B :\")\n",
    "(print (lower-bound (par2 A B)))\n",
    "(print (upper-bound (par2 A B)))\n"
   ]
  },
  {
   "cell_type": "code",
   "execution_count": 32,
   "metadata": {
    "collapsed": false
   },
   "outputs": [
    {
     "name": "stdout",
     "output_type": "stream",
     "text": [
      "\"par1 A1 B1\"2.999200239928031\"par2 A1 B1\"1.000000000000007\"par1 A1 B10\"16.389950846531946\"par2 A1 B10\"5.522388059701501\"par1 A1 B50\"67.51024183956655\"par2 A1 B50\"28.998799931424653\"par1 A10 B1\"16.389950846531946\"par2 A10 B1\"5.522388059701501\"par1 A10 B10\"29.223300970873794\"par2 A10 B10\"10.0\"par1 A10 B50\"74.39024390243902\"par2 A10 B50\"32.75862068965517\"par1 A50 B1\"67.51024183956655\"par2 A50 B1\"28.998799931424653\"par1 A50 B10\"74.39024390243902\"par2 A50 B10\"32.75862068965517\"par1 A50 B50\"92.85714285714285\"par2 A50 B50\"50.0"
     ]
    }
   ],
   "source": [
    "(define A1 (make-center-percent 100 1))\n",
    "(define A10 (make-center-percent 100 10))\n",
    "(define A50 (make-center-percent 100 50))\n",
    "\n",
    "(define B1 (make-center-percent 100 1))\n",
    "(define B10 (make-center-percent 100 10))\n",
    "(define B50 (make-center-percent 100 50))\n",
    "\n",
    "(print \"par1 A1 B1\")\n",
    ";(print (lower-bound (par1 A1 B1)))\n",
    ";(print (upper-bound (par1 A1 B1)))\n",
    "(print (get-percent (par1 A1 B1)))\n",
    "\n",
    "(print \"par2 A1 B1\")\n",
    ";(print (lower-bound (par2 A1 B1)))\n",
    ";(print (upper-bound (par2 A1 B1)))\n",
    "(print (get-percent (par2 A1 B1)))\n",
    "\n",
    "\n",
    "(print \"par1 A1 B10\")\n",
    ";(print (lower-bound (par1 A1 B10)))\n",
    ";(print (upper-bound (par1 A1 B10)))\n",
    "(print (get-percent (par1 A1 B10)))\n",
    "\n",
    "(print \"par2 A1 B10\")\n",
    ";(print (lower-bound (par2 A1 B10)))\n",
    ";(print (upper-bound (par2 A1 B10)))\n",
    "(print (get-percent (par2 A1 B10)))\n",
    "\n",
    "\n",
    "(print \"par1 A1 B50\")\n",
    ";(print (lower-bound (par1 A1 B50)))\n",
    ";(print (upper-bound (par1 A1 B50)))\n",
    "(print (get-percent (par1 A1 B50)))\n",
    "\n",
    "(print \"par2 A1 B50\")\n",
    ";(print (lower-bound (par2 A1 B50)))\n",
    ";(print (upper-bound (par2 A1 B50)))\n",
    "(print (get-percent (par2 A1 B50)))\n",
    "\n",
    "\n",
    ";;;;;;;;\n",
    "\n",
    "(print \"par1 A10 B1\")\n",
    ";(print (lower-bound (par1 A10 B1)))\n",
    ";(print (upper-bound (par1 A10 B1)))\n",
    "(print (get-percent (par1 A10 B1)))\n",
    "\n",
    "\n",
    "(print \"par2 A10 B1\")\n",
    ";(print (lower-bound (par2 A10 B1)))\n",
    ";(print (upper-bound (par2 A10 B1)))\n",
    "(print (get-percent (par2 A10 B1)))\n",
    "\n",
    "\n",
    "(print \"par1 A10 B10\")\n",
    ";(print (lower-bound (par1 A10 B10)))\n",
    ";(print (upper-bound (par1 A10 B10)))\n",
    "(print (get-percent (par1 A10 B10)))\n",
    "\n",
    "\n",
    "\n",
    "(print \"par2 A10 B10\")\n",
    ";(print (lower-bound (par2 A10 B10)))\n",
    ";(print (upper-bound (par2 A10 B10)))\n",
    "(print (get-percent (par2 A10 B10)))\n",
    "\n",
    "\n",
    "(print \"par1 A10 B50\")\n",
    ";(print (lower-bound (par1 A10 B50)))\n",
    ";(print (upper-bound (par1 A10 B50)))\n",
    "(print (get-percent (par1 A10 B50)))\n",
    "\n",
    "\n",
    "(print \"par2 A10 B50\")\n",
    ";(print (lower-bound (par2 A10 B50)))\n",
    ";(print (upper-bound (par2 A10 B50)))\n",
    "(print (get-percent (par2 A10 B50)))\n",
    "\n",
    "\n",
    ";;;;;;;;;;\n",
    "\n",
    "\n",
    "\n",
    "(print \"par1 A50 B1\")\n",
    ";(print (lower-bound (par1 A50 B1)))\n",
    ";(print (upper-bound (par1 A50 B1)))\n",
    "(print (get-percent (par1 A50 B1)))\n",
    "\n",
    "\n",
    "(print \"par2 A50 B1\")\n",
    ";(print (lower-bound (par2 A50 B1)))\n",
    ";(print (upper-bound (par2 A50 B1)))\n",
    "(print (get-percent (par2 A50 B1)))\n",
    "\n",
    "\n",
    "(print \"par1 A50 B10\")\n",
    ";(print (lower-bound (par1 A50 B10)))\n",
    ";(print (upper-bound (par1 A50 B10)))\n",
    "(print (get-percent (par1 A50 B10)))\n",
    "\n",
    "\n",
    "(print \"par2 A50 B10\")\n",
    ";(print (lower-bound (par2 A50 B10)))\n",
    ";(print (upper-bound (par2 A50 B10)))\n",
    "(print (get-percent (par2 A50 B10)))\n",
    "\n",
    "\n",
    "(print \"par1 A50 B50\")\n",
    ";(print (lower-bound (par1 A50 B50)))\n",
    ";(print (upper-bound (par1 A50 B50)))\n",
    "(print (get-percent (par1 A50 B50)))\n",
    "\n",
    "(print \"par2 A50 B50\")\n",
    ";(print (lower-bound (par2 A50 B50)))\n",
    ";(print (upper-bound (par2 A50 B50)))\n",
    "(print (get-percent (par2 A50 B50)))\n"
   ]
  },
  {
   "cell_type": "code",
   "execution_count": 33,
   "metadata": {
    "collapsed": false
   },
   "outputs": [
    {
     "name": "stdout",
     "output_type": "stream",
     "text": [
      "\"div-interval A1 B1\"1.99980001999800771.0002000200020003\"div-interval A1 B10\"10.9890109890109941.011111111111111\"div-interval A1 B50\"50.746268656716411.34\"div-interval A10 B1\"10.989010989010991.001100110011001\"div-interval A10 B10\"19.801980198019811.0202020202020203\"div-interval A10 B50\"57.142857142857141.4000000000000001\"div-interval A50 B1\"50.746268656716431.005100510051005\"div-interval A50 B10\"57.142857142857151.0606060606060606\"div-interval A50 B50\"80.01.6666666666666667"
     ]
    }
   ],
   "source": [
    "(define A1 (make-center-percent 100 1))\n",
    "(define A10 (make-center-percent 100 10))\n",
    "(define A50 (make-center-percent 100 50))\n",
    "\n",
    "(define B1 (make-center-percent 100 1))\n",
    "(define B10 (make-center-percent 100 10))\n",
    "(define B50 (make-center-percent 100 50))\n",
    "\n",
    "(print \"div-interval A1 B1\")\n",
    ";(print (lower-bound (par1 A1 B1)))\n",
    ";(print (upper-bound (par1 A1 B1)))\n",
    "(print (get-percent (div-interval A1 B1)))\n",
    "(print (center (div-interval A1 B1)))\n",
    "\n",
    "\n",
    "(print \"div-interval A1 B10\")\n",
    ";(print (lower-bound (par1 A1 B10)))\n",
    ";(print (upper-bound (par1 A1 B10)))\n",
    "(print (get-percent (div-interval A1 B10)))\n",
    "(print (center (div-interval A1 B10)))\n",
    "\n",
    "(print \"div-interval A1 B50\")\n",
    ";(print (lower-bound (par1 A1 B50)))\n",
    ";(print (upper-bound (par1 A1 B50)))\n",
    "(print (get-percent (div-interval A1 B50)))\n",
    "(print (center (div-interval A1 B50)))\n",
    "\n",
    ";;;;;;;;\n",
    "\n",
    "\n",
    "(print \"div-interval A10 B1\")\n",
    ";(print (lower-bound (par1 A1 B1)))\n",
    ";(print (upper-bound (par1 A1 B1)))\n",
    "(print (get-percent (div-interval A10 B1)))\n",
    "(print (center (div-interval A10 B1)))\n",
    "\n",
    "\n",
    "(print \"div-interval A10 B10\")\n",
    ";(print (lower-bound (par1 A1 B10)))\n",
    ";(print (upper-bound (par1 A1 B10)))\n",
    "(print (get-percent (div-interval A10 B10)))\n",
    "(print (center (div-interval A10 B10)))\n",
    "\n",
    "(print \"div-interval A10 B50\")\n",
    ";(print (lower-bound (par1 A1 B50)))\n",
    ";(print (upper-bound (par1 A1 B50)))\n",
    "(print (get-percent (div-interval A10 B50)))\n",
    "(print (center (div-interval A10 B50)))\n",
    "\n",
    ";;;;;;;;\n",
    "\n",
    "(print \"div-interval A50 B1\")\n",
    ";(print (lower-bound (par1 A1 B1)))\n",
    ";(print (upper-bound (par1 A1 B1)))\n",
    "(print (get-percent (div-interval A50 B1)))\n",
    "(print (center (div-interval A50 B1)))\n",
    "\n",
    "\n",
    "(print \"div-interval A50 B10\")\n",
    ";(print (lower-bound (par1 A1 B10)))\n",
    ";(print (upper-bound (par1 A1 B10)))\n",
    "(print (get-percent (div-interval A50 B10)))\n",
    "(print (center (div-interval A50 B10)))\n",
    "\n",
    "\n",
    "(print \"div-interval A50 B50\")\n",
    ";(print (lower-bound (par1 A1 B50)))\n",
    ";(print (upper-bound (par1 A1 B50)))\n",
    "(print (get-percent (div-interval A50 B50)))\n",
    "(print (center (div-interval A50 B50)))\n",
    "\n",
    ";;;;;;;;"
   ]
  },
  {
   "cell_type": "markdown",
   "metadata": {},
   "source": [
    "### Exercise 2.15"
   ]
  },
  {
   "cell_type": "markdown",
   "metadata": {},
   "source": [
    "$R_1 : [a, b],\\ R_2 : [c, d]$としてpar1, par2 を計算する.\n",
    "\n",
    "**par1**\n",
    "\n",
    "$$\n",
    "\\frac{R_1R_2}{R_1+R_2} = \\frac{[a,b]*[c,d]}{[a,b]+[c,d]} = \\frac{[ac,bd]}{[a+c,b+d]} = [\\frac{ac}{b+d},\\frac{bd}{a+c}]\n",
    "$$\n",
    "\n",
    "**par2**\n",
    "\n",
    "$$\n",
    "\\frac{1}{\\frac{1}{R_1} + \\frac{1}{R_2}} = \\frac{1}{[1/b,1/a]+[1/d,1/c]} = \\frac{1}{[\\frac{b+d}{bd},\\frac{a+c}{ac}]} = [\\frac{ac}{a+c},\\frac{bd}{b+d}]\n",
    "$$\n",
    "\n"
   ]
  },
  {
   "cell_type": "code",
   "execution_count": 34,
   "metadata": {
    "collapsed": false
   },
   "outputs": [
    {
     "data": {
      "text/plain": [
       "5.457446808510639"
      ]
     },
     "execution_count": 34,
     "metadata": {},
     "output_type": "execute_result"
    }
   ],
   "source": [
    "(/ (* 9.9 14.25) (+ 10.1 15.75)) ; = 5.457446808510638 , par1 lower-bound"
   ]
  },
  {
   "cell_type": "markdown",
   "metadata": {},
   "source": [
    "$R_1,R_2$をただの実数だと考えるとpar1とpar2は等価な式になるが,区間をもつ値と考えると等価な式でなくなる.\n",
    "\n",
    "どちらが良いのか.\n",
    "\n",
    "上の式のを書き換える.\n",
    "\n",
    "$R_1 : [x-dx, x+dx],\\ R_2 : [y-dy, y+dy]$\n",
    "\n",
    "このとき,pair1,pair2は,\n",
    "\n",
    "**pair1**\n",
    "\n",
    "$$\n",
    "\\frac{R_1R_2}{R_1+R_2} = [\\frac{xy-xdy-ydx-dxdy}{x+y+dx+dy},\\frac{xy+xdy+ydx+dxdy}{x+y-dx-dy}]\n",
    "$$\n",
    "\n",
    "**pair2**\n",
    "\n",
    "$$\n",
    "\\frac{1}{\\frac{1}{R_1} + \\frac{1}{R_2}} = [\\frac{xy-xdy-ydx-dxdy}{x+y-dx-dy},\\frac{xy+xdy+ydx+dxdy}{x+y+dx+dy}]\n",
    "$$\n",
    "  \n",
    "pair2は,lowerの分母が小さく,upperの分母が大きくなっている.つまりlower,upperが中央の値に近づいていることがわかる.\n",
    "誤差が小さいのはpair2.\n"
   ]
  },
  {
   "cell_type": "markdown",
   "metadata": {},
   "source": [
    "### Exercise 2.16"
   ]
  }
 ],
 "metadata": {
  "kernelspec": {
   "display_name": "Racket",
   "language": "racket",
   "name": "racket"
  },
  "language_info": {
   "codemirror_mode": "scheme",
   "file_extension": ".rkt",
   "mimetype": "text/x-racket",
   "name": "Racket",
   "pygments_lexer": "racket",
   "version": "6.7"
  },
  "latex_envs": {
   "bibliofile": "biblio.bib",
   "cite_by": "apalike",
   "current_citInitial": 1,
   "eqLabelWithNumbers": true,
   "eqNumInitial": 0
  }
 },
 "nbformat": 4,
 "nbformat_minor": 0
}
