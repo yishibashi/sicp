{
 "cells": [
  {
   "cell_type": "code",
   "execution_count": 1,
   "metadata": {
    "collapsed": false
   },
   "outputs": [],
   "source": [
    "; sin, cos\n",
    "(import \"math\")\n",
    "(define (cos x) (math.cos x))\n",
    "(define (sin x) (math.sin x))\n",
    "(define (tan x) (math.tan x))\n",
    "(define (int-floor x) (math.floor x))\n",
    "(define (atan y x) (math.atan2 y x))\n",
    "; tag\n",
    "\n",
    ";(define (attach-tag tag contents)\n",
    ";  (cons tag contents))\n",
    ";(define (type-tag datum)\n",
    ";  (if (pair? datum)\n",
    ";      (car datum)\n",
    ";      (error \"Bad tagged datum: TYPE-TAG\" datum)))\n",
    ";(define (contents dataum)\n",
    ";  (if (pair? dataum)\n",
    ";      (cdr dataum)\n",
    ";      (error \"Bad tagged dataum: CONTENTS\" dataum)))\n",
    "\n",
    "\n",
    "; ex 2.78\n",
    "(define (attach-tag tag contents)\n",
    "  (if (number? contents)\n",
    "      contents\n",
    "      (cons tag contents)))\n",
    "(define (type-tag datum)\n",
    "  (cond ((number? datum) 'scheme-number)\n",
    "        ((pair? datum) (car datum))\n",
    "        (else (error \"Bad tagged datum: TYPE-TAG\" datum))))\n",
    "(define (contents datum)\n",
    "  (cond ((number? datum) datum)\n",
    "        ((pair? datum) (cdr datum))\n",
    "        (else (error \"Bad tagged dataum: CONTENTS\" dataum))))\n",
    "\n",
    "\n",
    "(define (apply-generic op . args)\n",
    "  (let ((type-tags (map type-tag args)))\n",
    "    (let ((proc (get op type-tags)))\n",
    "      (if proc\n",
    "          (apply proc (map contents args)) \n",
    "          (error\n",
    "           \"No method for these types: APPLY-GENERIC\"\n",
    "           (list op type-tags))))))\n",
    "\n",
    "\n",
    "; to use put/get\n",
    "\n",
    "(define global-array '())\n",
    "\n",
    "(define (make-entry k v) (list k v))\n",
    "(define (key entry) (car entry))\n",
    "(define (value entry) (cadr entry))\n",
    "\n",
    "(define (put op type item)\n",
    "  (define (put-helper k array)\n",
    "    (cond ((null? array) (list(make-entry k item)))\n",
    "          ((equal? (key (car array)) k) array)\n",
    "          (else (cons (car array) (put-helper k (cdr array))))))\n",
    "  (set! global-array (put-helper (list op type) global-array)))\n",
    "\n",
    "(define (get op type)\n",
    "  (define (get-helper k array)\n",
    "    (cond ((null? array) #f)\n",
    "          ((equal? (key (car array)) k) (value (car array)))\n",
    "          (else (get-helper k (cdr array)))))\n",
    "  (get-helper (list op type) global-array))\n",
    "\n",
    "\n",
    "\n",
    ";;;get put;;;\n",
    ";(define global-array '())\n",
    ";\n",
    ";(define (make-entry k v) (list k v))\n",
    ";(define (key entry) (car entry))\n",
    ";(define (value entry) (cadr entry))\n",
    "\n",
    ";(define (put-table table key1 key2 item)\n",
    ";    (if (not (hash-has-key? table key1))\n",
    ";        (hash-set! table key1 (make-hash))\n",
    ";        true)\n",
    ";    (hash-set! (hash-ref table key1) key2 item))\n",
    " \n",
    ";(define (get-table table key1 key2)\n",
    ";    (define (not-found . msg)\n",
    ";          (display msg (current-error-port))\n",
    ";          (display \"\\n\")\n",
    "        ;false)\n",
    ";    (if (hash-has-key? table key1)\n",
    ";        (if (hash-has-key? (hash-ref table key1) key2)\n",
    ";            (hash-ref (hash-ref table key1) key2)\n",
    ";            (not-found \"Bad key -- KEY2\" key2))\n",
    ";        (not-found \"Bad key -- KEY1\" key1)))\n",
    "\n",
    ";(define *op-table* (make-hash))\n",
    ";(define (put op type item)\n",
    ";    (put-table *op-table* op type item))\n",
    ";(define (get op type)\n",
    ";    (get-table *op-table* op type))\n",
    "\n",
    ";(define *coercion-table* (make-hash))\n",
    ";(define (put-coercion type1 type2 item)\n",
    ";    (put-table *coercion-table* type1 type2 item))\n",
    ";(define (get-coercion type1 type2)\n",
    ";    (get-table *coercion-table* type1 type2))\n",
    "\n",
    "\n",
    "\n",
    "\n",
    "\n",
    "; \n",
    "\n",
    "(define (gcd a b) \n",
    "  (if (= b 0)\n",
    "      a\n",
    "      (gcd b (remainder a b))))\n",
    "\n",
    "(define (square x) (* x x))\n"
   ]
  },
  {
   "cell_type": "markdown",
   "metadata": {},
   "source": [
    "# 2.5 System with Generic Operation\n",
    "\n",
    "![](./images/2_5-1.png)"
   ]
  },
  {
   "cell_type": "code",
   "execution_count": 2,
   "metadata": {
    "collapsed": true
   },
   "outputs": [],
   "source": [
    "(define (add x y) (apply-generic 'add x y))\n",
    "(define (sub x y) (apply-generic 'sub x y))\n",
    "(define (mul x y) (apply-generic 'mul x y))\n",
    "(define (div x y) (apply-generic 'div x y))"
   ]
  },
  {
   "cell_type": "code",
   "execution_count": 3,
   "metadata": {
    "collapsed": true
   },
   "outputs": [],
   "source": [
    ";; 通常の算術演算\n",
    "(define (install-scheme-number-package)\n",
    "  (define (tag x) (attach-tag 'scheme-number x))\n",
    "  \n",
    "  ; ex 2.79\n",
    "  (define (equ-scm? x y) (= x y))\n",
    "  (put 'equ? '(scheme-number scheme-number)\n",
    "       (lambda (x y) (equ-scm? x y)))\n",
    "  ; ex 2.80\n",
    "  (define (=zero-scm? x) (= x 0))\n",
    "  (put '=zero? '(scheme-number)\n",
    "       (lambda (x) (=zero-scm? x)))\n",
    "  \n",
    "  (put 'add '(scheme-number scheme-number)\n",
    "       (lambda (x y) (tag (+ x y))))\n",
    "  (put 'sub '(scheme-number scheme-number)\n",
    "       (lambda (x y) (tag (- x y))))\n",
    "  (put 'mul '(scheme-number scheme-number)\n",
    "       (lambda (x y) (tag (* x y))))\n",
    "  (put 'div '(scheme-number scheme-number)\n",
    "       (lambda (x y) (tag (/ x y))))\n",
    "  (put 'make 'scheme-number (lambda (x) (tag x)))\n",
    "  \n",
    "  \n",
    "  ; ex 2.83\n",
    "  ;(define (raise->rat x)\n",
    "  ;  ((get 'make 'rational) x 1))\n",
    "  ;(put 'raise '(scheme-number)\n",
    "  ;     (lambda (x) (raise->rat x)))\n",
    "  \n",
    "  'done)\n",
    "\n",
    ";; （タグつきの）通常の数値を作成する\n",
    "(define (make-scheme-number n)\n",
    "  ((get 'make 'scheme-number) n))"
   ]
  },
  {
   "cell_type": "code",
   "execution_count": 4,
   "metadata": {
    "collapsed": false
   },
   "outputs": [
    {
     "data": {
      "text/plain": [
       "done"
      ]
     },
     "execution_count": 4,
     "metadata": {},
     "output_type": "execute_result"
    }
   ],
   "source": [
    "(install-scheme-number-package)"
   ]
  },
  {
   "cell_type": "markdown",
   "metadata": {},
   "source": [
    "; Ex 2.78以前\n",
    "```lisp\n",
    "(add 1 2)\n",
    ">>\n",
    "Traceback (most recent call last):\n",
    "  File \"In [5]\", line 1, col 1, in 'add'\n",
    "  File \"In [2]\", line 1, col 19, in 'apply-generic'\n",
    "  File \"In [1]\", line 37, col 20, in 'map'\n",
    "  File \"In [1]\", line 14, col 7, in 'error'\n",
    "UnhandledException: object of type 'int' has no len()\n",
    "```"
   ]
  },
  {
   "cell_type": "code",
   "execution_count": null,
   "metadata": {
    "collapsed": true
   },
   "outputs": [],
   "source": []
  },
  {
   "cell_type": "code",
   "execution_count": 5,
   "metadata": {
    "collapsed": false
   },
   "outputs": [
    {
     "data": {
      "text/plain": [
       "10"
      ]
     },
     "execution_count": 5,
     "metadata": {},
     "output_type": "execute_result"
    }
   ],
   "source": [
    "(define a (make-scheme-number 10))\n",
    "a"
   ]
  },
  {
   "cell_type": "code",
   "execution_count": 6,
   "metadata": {
    "collapsed": false
   },
   "outputs": [
    {
     "data": {
      "text/plain": [
       "3"
      ]
     },
     "execution_count": 6,
     "metadata": {},
     "output_type": "execute_result"
    }
   ],
   "source": [
    "(define b (make-scheme-number 3))\n",
    "b"
   ]
  },
  {
   "cell_type": "code",
   "execution_count": 7,
   "metadata": {
    "collapsed": false
   },
   "outputs": [
    {
     "data": {
      "text/plain": [
       "13"
      ]
     },
     "execution_count": 7,
     "metadata": {},
     "output_type": "execute_result"
    }
   ],
   "source": [
    "(add a b)"
   ]
  },
  {
   "cell_type": "code",
   "execution_count": 8,
   "metadata": {
    "collapsed": false
   },
   "outputs": [
    {
     "data": {
      "text/plain": [
       "7"
      ]
     },
     "execution_count": 8,
     "metadata": {},
     "output_type": "execute_result"
    }
   ],
   "source": [
    "(sub a b)"
   ]
  },
  {
   "cell_type": "code",
   "execution_count": 9,
   "metadata": {
    "collapsed": false
   },
   "outputs": [
    {
     "data": {
      "text/plain": [
       "30"
      ]
     },
     "execution_count": 9,
     "metadata": {},
     "output_type": "execute_result"
    }
   ],
   "source": [
    "(mul a b)"
   ]
  },
  {
   "cell_type": "code",
   "execution_count": 10,
   "metadata": {
    "collapsed": false
   },
   "outputs": [
    {
     "data": {
      "text/plain": [
       "10/3"
      ]
     },
     "execution_count": 10,
     "metadata": {},
     "output_type": "execute_result"
    }
   ],
   "source": [
    "(div a b)"
   ]
  },
  {
   "cell_type": "code",
   "execution_count": null,
   "metadata": {
    "collapsed": true
   },
   "outputs": [],
   "source": []
  },
  {
   "cell_type": "code",
   "execution_count": 59,
   "metadata": {
    "collapsed": false
   },
   "outputs": [],
   "source": [
    ";; 有理数算術演算\n",
    "(define (install-rational-package)\n",
    "  (define (numer x) (car x))\n",
    "  (define (denom x) (cdr x))\n",
    "  (define (make-rat n d)\n",
    "    (let ((g (gcd n d)))\n",
    "      (cons (/ n g) (/ d g))))\n",
    "  (define (add-rat x y)\n",
    "    (make-rat (+ (* (numer x) (denom y))\n",
    "                 (* (numer y) (denom x)))\n",
    "              (* (denom x) (denom y))))\n",
    "  (define (sub-rat x y)\n",
    "    (make-rat (- (* (numer x) (denom y))\n",
    "                 (* (numer y) (denom x)))\n",
    "              (* (denom x) (denom y))))\n",
    "  (define (mul-rat x y)\n",
    "    (make-rat (* (numer x) (numer y))\n",
    "              (* (denom x) (denom y))))\n",
    "  (define (div-rat x y)\n",
    "    (make-rat (* (numer x) (denom y))\n",
    "              (* (denom x) (numer y))))\n",
    "              \n",
    "  (define (dib-rat x y)\n",
    "    (make-rat (* (numer x) (denom y))\n",
    "              (* (denom x) (numer y))))\n",
    "  (define (tag x) (attach-tag 'rational x))\n",
    "  \n",
    "  (put 'add '(rational rational)\n",
    "       (lambda (x y) (tag (add-rat x y))))\n",
    "  (put 'sub '(rational rational)\n",
    "       (lambda (x y) (tag (sub-rat x y))))\n",
    "  (put 'mul '(rational rational)\n",
    "       (lambda (x y) (tag (mul-rat x y))))\n",
    "  (put 'div '(rational rational)\n",
    "       (lambda (x y) (tag (div-rat x y))))\n",
    "  (put 'make 'rational\n",
    "       (lambda (n d) (tag (make-rat n d))))\n",
    "  \n",
    "  ; ex 2.79\n",
    "  (define (equ-rat? x y)\n",
    "    (and (= (numer x) (numer y))\n",
    "         (= (denom x) (denom y))))\n",
    "  (put 'equ? '(rational rational)\n",
    "       (lambda (x y) (equ-rat? x y)))\n",
    "  \n",
    "  ; ex 2.80\n",
    "  (define (=zero-rat? x)\n",
    "    (= (numer x) 0))\n",
    "  (put '=zero? '(rational)\n",
    "       (lambda (x) (=zero-rat? x)))\n",
    "  \n",
    "  ; ex 2.83\n",
    "  (define (raise->real x) ; rational -> real \n",
    "    ((get 'make 'real) (* (/ (numer x) (denom x )) 1.0)))\n",
    "  (put 'raise '(rational)\n",
    "       (lambda (x) (raise->real x))) \n",
    "  \n",
    "  ; ex 2.85\n",
    "  (define (project->int x)\n",
    "  (let ((n (numer x))\n",
    "        (d (denom x)))\n",
    "    ((get 'make 'integer) (floor (/ n d))))) ;; floor:pythonのmath.floorを使用している. intを返す.\n",
    "  \n",
    "  (put 'project '(rational)\n",
    "       (lambda (x) (project->int x)))\n",
    "         \n",
    "\n",
    "  \n",
    "  'done)\n",
    "\n",
    "(define (make-rational n d)\n",
    "  ((get 'make 'rational) n d))\n"
   ]
  },
  {
   "cell_type": "code",
   "execution_count": 60,
   "metadata": {
    "collapsed": false
   },
   "outputs": [
    {
     "data": {
      "text/plain": [
       "done"
      ]
     },
     "execution_count": 60,
     "metadata": {},
     "output_type": "execute_result"
    }
   ],
   "source": [
    "(install-rational-package)"
   ]
  },
  {
   "cell_type": "code",
   "execution_count": 13,
   "metadata": {
    "collapsed": false
   },
   "outputs": [
    {
     "data": {
      "text/plain": [
       "(rational 10 . 3)"
      ]
     },
     "execution_count": 13,
     "metadata": {},
     "output_type": "execute_result"
    }
   ],
   "source": [
    "(define s (make-rational 10 3))\n",
    "s"
   ]
  },
  {
   "cell_type": "code",
   "execution_count": 14,
   "metadata": {
    "collapsed": false
   },
   "outputs": [
    {
     "data": {
      "text/plain": [
       "(rational 2 . 3)"
      ]
     },
     "execution_count": 14,
     "metadata": {},
     "output_type": "execute_result"
    }
   ],
   "source": [
    "(define t (make-rational 2 3))\n",
    "t"
   ]
  },
  {
   "cell_type": "code",
   "execution_count": 15,
   "metadata": {
    "collapsed": false
   },
   "outputs": [
    {
     "data": {
      "text/plain": [
       "(rational 4 . 1)"
      ]
     },
     "execution_count": 15,
     "metadata": {},
     "output_type": "execute_result"
    }
   ],
   "source": [
    "(add s t)"
   ]
  },
  {
   "cell_type": "code",
   "execution_count": 16,
   "metadata": {
    "collapsed": false
   },
   "outputs": [
    {
     "data": {
      "text/plain": [
       "(rational 8 . 3)"
      ]
     },
     "execution_count": 16,
     "metadata": {},
     "output_type": "execute_result"
    }
   ],
   "source": [
    "(sub s t)"
   ]
  },
  {
   "cell_type": "code",
   "execution_count": 17,
   "metadata": {
    "collapsed": false
   },
   "outputs": [
    {
     "data": {
      "text/plain": [
       "(rational 20 . 9)"
      ]
     },
     "execution_count": 17,
     "metadata": {},
     "output_type": "execute_result"
    }
   ],
   "source": [
    "(mul s t)"
   ]
  },
  {
   "cell_type": "code",
   "execution_count": 18,
   "metadata": {
    "collapsed": false
   },
   "outputs": [
    {
     "data": {
      "text/plain": [
       "(rational 5 . 1)"
      ]
     },
     "execution_count": 18,
     "metadata": {},
     "output_type": "execute_result"
    }
   ],
   "source": [
    "(div s t)"
   ]
  },
  {
   "cell_type": "code",
   "execution_count": null,
   "metadata": {
    "collapsed": false
   },
   "outputs": [],
   "source": []
  },
  {
   "cell_type": "code",
   "execution_count": 19,
   "metadata": {
    "collapsed": false
   },
   "outputs": [
    {
     "data": {
      "text/plain": [
       "done"
      ]
     },
     "execution_count": 19,
     "metadata": {},
     "output_type": "execute_result"
    }
   ],
   "source": [
    "; complex packages\n",
    "\n",
    "(define (install-rectangular-package)\n",
    "   ;; 内部手続き\n",
    "  (define (real-part z) (car z))\n",
    "  (define (imag-part z) (cdr z))\n",
    "  (define (make-from-real-imag x y) (cons x y))\n",
    "  (define (magnitude z)\n",
    "    (sqrt (+ (square (real-part z))\n",
    "             (square (imag-part z)))))\n",
    "  (define (angle z)\n",
    "    (atan (imag-part z) (real-part z)))\n",
    "  (define (make-from-mag-ang r a) \n",
    "    (cons (* r (cos a)) (* r (sin a))))\n",
    "\n",
    "   ;; システムの他の部分とのインターフェース\n",
    "  (define (tag x) (attach-tag 'rectangular x)) \n",
    "  (put 'real-part '(rectangular) real-part)\n",
    "  (put 'imag-part '(rectangular) imag-part)\n",
    "  (put 'magnitude '(rectangular) magnitude)\n",
    "  (put 'angle '(rectangular) angle)\n",
    "  (put 'make-from-real-imag 'rectangular \n",
    "       (lambda (x y) (tag (make-from-real-imag x y))))\n",
    "  (put 'make-from-mag-ang 'rectangular \n",
    "       (lambda (r a) (tag (make-from-mag-ang r a))))\n",
    "  'done)\n",
    "\n",
    "\n",
    "(define (install-polar-package)\n",
    "   ;; 内部手続き\n",
    "  (define (magnitude z) (car z))\n",
    "  (define (angle z) (cdr z))\n",
    "  (define (make-from-mag-ang r a) (cons r a))\n",
    "  (define (real-part z)\n",
    "    (* (magnitude z) (cos (angle z))))\n",
    "  (define (imag-part z)\n",
    "    (* (magnitude z) (sin (angle z))))\n",
    "  (define (make-from-real-imag x y) \n",
    "    (cons (sqrt (+ (square x) (square y)))\n",
    "          (atan y x)))\n",
    "\n",
    "   ;; システムの他の部分とのインターフェース\n",
    "  (define (tag x) (attach-tag 'polar x))\n",
    "  (put 'real-part '(polar) real-part)\n",
    "  (put 'imag-part '(polar) imag-part)\n",
    "  (put 'magnitude '(polar) magnitude)\n",
    "  (put 'angle '(polar) angle)\n",
    "  (put 'make-from-real-imag 'polar\n",
    "       (lambda (x y) (tag (make-from-real-imag x y))))\n",
    "  (put 'make-from-mag-ang 'polar \n",
    "       (lambda (r a) (tag (make-from-mag-ang r a))))\n",
    "  'done)\n",
    "\n",
    "(install-rectangular-package)\n",
    "(install-polar-package)"
   ]
  },
  {
   "cell_type": "code",
   "execution_count": 20,
   "metadata": {
    "collapsed": false
   },
   "outputs": [],
   "source": [
    "(define (install-complex-package)\n",
    "  (define (make-from-real-imag x y)\n",
    "    ((get 'make-from-real-imag 'rectangular) x y))\n",
    "  (define (make-from-mag-ang r a)\n",
    "    ((get 'make-from-mag-ang 'polar) r a))\n",
    "  \n",
    "  ; <-- add (exercise 2.77)\n",
    "  (define (real-part z)\n",
    "    (apply-generic 'real-part z))\n",
    "  (define (imag-part z)\n",
    "    (apply-generic 'imag-part z))\n",
    "  (define (magnitude z)\n",
    "    (apply-generic 'magnitude z))\n",
    "  (define (angle z)\n",
    "    (apply-generic 'angle z))\n",
    "  ; add -->\n",
    "\n",
    "  (define (add-complex z1 z2)\n",
    "    (print z1)\n",
    "    (make-from-real-imag (+ (real-part z1) (real-part z2))\n",
    "                         (+ (imag-part z1) (imag-part z2))))\n",
    "  (define (sub-complex z1 z2)\n",
    "    (make-from-real-imag (- (real-part z1) (real-part z2))\n",
    "                         (- (imag-part z1) (imag-part z2))))\n",
    "  (define (mul-complex z1 z2)\n",
    "    (make-from-mag-ang (* (magnitude z1) (magnitude z2))\n",
    "                       (+ (angle z1) (angle z2))))\n",
    "  (define (div-complex z1 z2)\n",
    "    (make-from-mag-ang (/ (magnitude z1) (magnitude z2))\n",
    "                       (- (angle z1) (angle z2))))\n",
    "  \n",
    "  (define (tag z) (attach-tag 'complex z))\n",
    "  \n",
    "  ; <- add for exercise 2.77\n",
    "  (put 'real-part '(complex) real-part)\n",
    "  (put 'imag-part '(complex) imag-part)\n",
    "  (put 'magnitude '(complex) magnitude)\n",
    "  (put 'angle '(complex) angle)\n",
    "  ; add -->\n",
    "  \n",
    "  (put 'add '(complex complex)\n",
    "       (lambda (z1 z2) (tag (add-complex z1 z2))))\n",
    "  (put 'sub '(complex complex)\n",
    "       (lambda (z1 z2) (tag (sub-complex z1 z2))))\n",
    "  (put 'mul '(complex complex)\n",
    "       (lambda (z1 z2) (tag (mul-complex z1 z2))))\n",
    "  (put 'div '(complex complex)\n",
    "       (lambda (z1 z2) (tag (div-complex z1 z2))))\n",
    "  (put 'make-from-real-imag 'complex\n",
    "       (lambda (x y) (tag (make-from-real-imag x y))))\n",
    "  (put 'make-from-mag-ang 'complex\n",
    "       (lambda (r a) (tag (make-from-mag-ang r a))))\n",
    "  \n",
    "  \n",
    "    \n",
    "  ; ex 2.79\n",
    "  (define (equ-comp? x y)\n",
    "    (and (= (real-part x) (real-part y))\n",
    "         (= (imag-part x) (imag-part y))))\n",
    "  (put 'equ? '(complex complex)\n",
    "       (lambda (x y) (equ-comp? x y)))\n",
    "  ; ex 2.80\n",
    "  (define (=zero-comp? x)\n",
    "    (and (= (imag-part x) 0)\n",
    "         (= (real-part x) 0)))\n",
    "  (put '=zero? '(complex)\n",
    "       (lambda (x) (=zero-comp? x)))\n",
    "  \n",
    "  ; または、　magnitude == 0 をチェック\n",
    "  \n",
    "  'done)\n",
    " \n",
    "(define (make-complex-from-real-imag x y)\n",
    "  ((get 'make-from-real-imag 'complex) x y))\n",
    "(define (make-complex-from-mag-ang r a)\n",
    "  ((get 'make-from-mag-ang 'complex) r a))\n",
    "\n",
    "(define (real-part z) (apply-generic 'real-part z))\n",
    "(define (imag-part z) (apply-generic 'imag-part z))\n",
    "(define (magnitude z) (apply-generic 'magnitude z))\n",
    "(define (angle z) (apply-generic 'angle z))\n"
   ]
  },
  {
   "cell_type": "code",
   "execution_count": 21,
   "metadata": {
    "collapsed": false
   },
   "outputs": [
    {
     "data": {
      "text/plain": [
       "done"
      ]
     },
     "execution_count": 21,
     "metadata": {},
     "output_type": "execute_result"
    }
   ],
   "source": [
    "(install-complex-package)"
   ]
  },
  {
   "cell_type": "code",
   "execution_count": 22,
   "metadata": {
    "collapsed": false
   },
   "outputs": [
    {
     "data": {
      "text/plain": [
       "(complex polar 1 . 2)"
      ]
     },
     "execution_count": 22,
     "metadata": {},
     "output_type": "execute_result"
    }
   ],
   "source": [
    "(define x (make-complex-from-mag-ang 1 2))\n",
    "x"
   ]
  },
  {
   "cell_type": "code",
   "execution_count": 23,
   "metadata": {
    "collapsed": false
   },
   "outputs": [
    {
     "data": {
      "text/plain": [
       "(complex rectangular 3 . 1)"
      ]
     },
     "execution_count": 23,
     "metadata": {},
     "output_type": "execute_result"
    }
   ],
   "source": [
    "(define y (make-complex-from-real-imag 3 1))\n",
    "y"
   ]
  },
  {
   "cell_type": "code",
   "execution_count": 24,
   "metadata": {
    "collapsed": false
   },
   "outputs": [
    {
     "data": {
      "text/plain": [
       "1"
      ]
     },
     "execution_count": 24,
     "metadata": {},
     "output_type": "execute_result"
    }
   ],
   "source": [
    "(magnitude x)"
   ]
  },
  {
   "cell_type": "code",
   "execution_count": 25,
   "metadata": {
    "collapsed": false
   },
   "outputs": [
    {
     "name": "stdout",
     "output_type": "stream",
     "text": [
      "(polar 1 . 2)\n"
     ]
    },
    {
     "data": {
      "text/plain": [
       "(complex rectangular 2.5838531634528574 . 1.9092974268256817)"
      ]
     },
     "execution_count": 25,
     "metadata": {},
     "output_type": "execute_result"
    }
   ],
   "source": [
    "(add x y)"
   ]
  },
  {
   "cell_type": "code",
   "execution_count": 26,
   "metadata": {
    "collapsed": false
   },
   "outputs": [
    {
     "data": {
      "text/plain": [
       "(complex rectangular -3.4161468365471426 . -0.09070257317431829)"
      ]
     },
     "execution_count": 26,
     "metadata": {},
     "output_type": "execute_result"
    }
   ],
   "source": [
    "(sub x y)"
   ]
  },
  {
   "cell_type": "code",
   "execution_count": 27,
   "metadata": {
    "collapsed": false
   },
   "outputs": [
    {
     "data": {
      "text/plain": [
       "(complex polar 3.1622776601683795 . 2.321750554396642)"
      ]
     },
     "execution_count": 27,
     "metadata": {},
     "output_type": "execute_result"
    }
   ],
   "source": [
    "(mul x y)"
   ]
  },
  {
   "cell_type": "code",
   "execution_count": 28,
   "metadata": {
    "collapsed": false
   },
   "outputs": [
    {
     "data": {
      "text/plain": [
       "(complex polar 0.31622776601683794 . 1.6782494456033579)"
      ]
     },
     "execution_count": 28,
     "metadata": {},
     "output_type": "execute_result"
    }
   ],
   "source": [
    "(div x y)"
   ]
  },
  {
   "cell_type": "markdown",
   "metadata": {
    "collapsed": false
   },
   "source": [
    "### Exercise 2.77\n",
    "\n",
    "z := (conplex rectangular 3 . 4)\n"
   ]
  },
  {
   "cell_type": "markdown",
   "metadata": {},
   "source": [
    "### Exercise 2.78\n",
    "\n",
    "\n",
    "change like this ∨∨∨∨∨\n",
    "```lisp\n",
    "(define (attach-tag tag contents)\n",
    "  (if (number? contents)\n",
    "      contents\n",
    "      (cons tag contents)))\n",
    "      \n",
    "(define (type-tag datum)\n",
    "  (cond ((number? datum) 'scheme-number)\n",
    "        ((pair? datum) (car datum))\n",
    "        (else (error \"Bad tagged datum: TYPE-TAG\" datum))))\n",
    "        \n",
    "(define (contents datum)\n",
    "  (cond ((number? datum) datum)\n",
    "        ((pair? datum) (cdr datum))\n",
    "        (else (error \"Bad tagged dataum: CONTENTS\" dataum))))\n",
    "\n",
    "```"
   ]
  },
  {
   "cell_type": "code",
   "execution_count": 29,
   "metadata": {
    "collapsed": false
   },
   "outputs": [
    {
     "data": {
      "text/plain": [
       "1"
      ]
     },
     "execution_count": 29,
     "metadata": {},
     "output_type": "execute_result"
    }
   ],
   "source": [
    "(make-scheme-number 1)"
   ]
  },
  {
   "cell_type": "code",
   "execution_count": 30,
   "metadata": {
    "collapsed": false
   },
   "outputs": [
    {
     "data": {
      "text/plain": [
       "2"
      ]
     },
     "execution_count": 30,
     "metadata": {},
     "output_type": "execute_result"
    }
   ],
   "source": [
    "(add 1 1)\n",
    "(sub 3 1)\n",
    "(div 2 1)\n",
    "(mul 1 2)"
   ]
  },
  {
   "cell_type": "markdown",
   "metadata": {},
   "source": [
    "### Exercise 2.79"
   ]
  },
  {
   "cell_type": "code",
   "execution_count": 31,
   "metadata": {
    "collapsed": true
   },
   "outputs": [],
   "source": [
    "(define (equ? x y) (apply-generic 'equ? x y))"
   ]
  },
  {
   "cell_type": "code",
   "execution_count": 32,
   "metadata": {
    "collapsed": false
   },
   "outputs": [
    {
     "name": "stdout",
     "output_type": "stream",
     "text": [
      "#f\n",
      "#t\n",
      "#f\n",
      "#t\n"
     ]
    }
   ],
   "source": [
    "(print (equ? (make-rational 1 2) (make-rational 3 4)))\n",
    "\n",
    "(print (equ? (make-rational 1 2) (make-rational 1 2)))\n",
    "\n",
    "(print (equ? (make-complex-from-real-imag 1 2) (make-complex-from-real-imag 2 3)))\n",
    "\n",
    "(print (equ? (make-complex-from-real-imag 1 2) (make-complex-from-real-imag 1 2)))"
   ]
  },
  {
   "cell_type": "markdown",
   "metadata": {},
   "source": [
    "### Exercise 2.80"
   ]
  },
  {
   "cell_type": "code",
   "execution_count": 33,
   "metadata": {
    "collapsed": true
   },
   "outputs": [],
   "source": [
    "(define (=zero? x) (apply-generic '=zero? x))"
   ]
  },
  {
   "cell_type": "code",
   "execution_count": 34,
   "metadata": {
    "collapsed": false
   },
   "outputs": [
    {
     "name": "stdout",
     "output_type": "stream",
     "text": [
      "#f\n",
      "#t\n",
      "#f\n",
      "#t\n"
     ]
    }
   ],
   "source": [
    "(print (=zero? (make-rational 1 2)))\n",
    "(print (=zero? (make-rational 0 2)))\n",
    "(print (=zero? (make-complex-from-real-imag 1 2)))\n",
    "(print (=zero? (make-complex-from-real-imag 0 0)))"
   ]
  },
  {
   "cell_type": "markdown",
   "metadata": {},
   "source": [
    "## 2.5.2 Combineing Data of Different Types\n",
    "\n",
    "---\n",
    "\n",
    "- クロスタイプ演算\n",
    "- 強制型変換　<- !\n",
    "\n",
    "---"
   ]
  },
  {
   "cell_type": "code",
   "execution_count": 35,
   "metadata": {
    "collapsed": true
   },
   "outputs": [],
   "source": [
    "(define (scheme-number->complex n)\n",
    "  (make-complex-from-real-imag (contents n) 0))\n",
    "\n",
    "; 特別な強制型変換テーブルに組み込むことにする。\n",
    "\n",
    ";(put-coercion 'scheme-number 'complex scheme-number->complex)\n"
   ]
  },
  {
   "cell_type": "code",
   "execution_count": 36,
   "metadata": {
    "collapsed": true
   },
   "outputs": [],
   "source": [
    "; 強制型変換テーブルが準備できたら apply-generic に変更を加え\n",
    "; ることで、強制型変換を統一的に行うことができるようになる。\n",
    "\n",
    "; 演算を適用することを求められたら、最初はこれまでと同じように引数の型に対して\n",
    "; 演算が定義されているかをチェックする。定義されていれば、演算-型テーブルで見つかった\n",
    "; 手続きにディスパッチする。定義されていなければ、強制型変換テーブルを見て、\n",
    "; 一つ目の型のオブジェクトが二つ目の型に強制型変換可能かどうか確認し、可能なら一つ目の\n",
    "; 引数を強制型変換し、もう一度演算を試みる。可能でない場合は、逆に二つ目の型の\n",
    "; オブジェクトが一つ目の型に強制型変換できないか試す。\n",
    "\n",
    "(define (apply-generic op . args)\n",
    "  (let ((type-tags (map type-tag args)))\n",
    "    (let ((type-tags (map type-tag args)))\n",
    "      (let ((proc (get op type-tags)))\n",
    "        (if proc\n",
    "            (apply proc (map contents args))\n",
    "            (if (= (length args) 2)\n",
    "                (let ((type1 (car type-tags))\n",
    "                      (type2 (cadr type-tags))\n",
    "                      (a1 (car args))\n",
    "                      (a2 (cadr args)))\n",
    "                  (let ((t1->t2 (get-coercion type1 type2))\n",
    "                        (t2->t1 (get-coercion type2 type1)))\n",
    "                    (cond (t1->t2\n",
    "                           (apply-generic op (t1->t2 a1) a2))\n",
    "                          (t2->t1\n",
    "                           (apply-generic op a1 (t2->t1 a2)))\n",
    "                          (else (error \"No method for these types\" \n",
    "                                       (list op type-tags))))))\n",
    "                (error \"No method for these types\" \n",
    "                       (list op type-tags))))))))\n",
    "\n"
   ]
  },
  {
   "cell_type": "markdown",
   "metadata": {},
   "source": [
    "### Exercise 2.81\n",
    "\n",
    "次のように、ある型をそれ自身に型変換する手続きを追加する。\n",
    "```lisp\n",
    "(define (scheme-number->scheme-number n) n)\n",
    "(define (complex->complex z) z)\n",
    "\n",
    "(put-coercion 'scheme-number\n",
    "              'scheme-number\n",
    "              scheme-number->scheme-number)\n",
    "(put-coercion 'complex 'complex complex->complex)              \n",
    "```\n",
    "\n",
    "By the way, procedure *expt* is defined as,\n",
    "\n",
    "```lisp\n",
    "(define (expt b n)\n",
    "    (if (= n 0)\n",
    "      1\n",
    "      (* b (expt b (- n 1)))))\n",
    "```\n",
    "\n",
    "- a. 無限ループ。apply-generic内で。\n",
    "- b. 正しくない。そのままで動く。\n",
    "- c. type1, type2 が 同じかチェックする。同じならエラーを返す(同じ型なのにprocはなかった。)\n",
    "\n",
    "```lisp\n",
    "(define (apply-generic op . args)\n",
    "  (let ((type-tags (map type-tag args)))\n",
    "    (let ((type-tags (map type-tag args)))\n",
    "      (let ((proc (get op type-tags)))\n",
    "        (if proc\n",
    "            (apply proc (map contents args))\n",
    "            (if (= (length args) 2)\n",
    "                (let ((type1 (car type-tags))\n",
    "                      (type2 (cadr type-tags))\n",
    "                      (a1 (car args))\n",
    "                      (a2 (cadr args)))\n",
    "                  (if (eq? type1 type2)\n",
    "                      (error \"ex 2.81 error\" (list op type-tag))\n",
    "                      (let ((t1->t2 (get-coercion type1 type2))\n",
    "                            (t2->t1 (get-coercion type2 type1)))\n",
    "                        (cond (t1->t2\n",
    "                               (apply-generic op (t1->t2 a1) a2))\n",
    "                              (t2->t1\n",
    "                               (apply-generic op a1 (t2->t1 a2)))\n",
    "                              (else (error \"No method for these types\" \n",
    "                                           (list op type-tags)))))))\n",
    "                (error \"No method for these types\" \n",
    "                       (list op type-tags))))))))\n",
    "```\n",
    "\n",
    "---"
   ]
  },
  {
   "cell_type": "markdown",
   "metadata": {},
   "source": [
    "## Exercise 2.82\n",
    "\n",
    "図2.26 の　正三角形、直角三角形、直角二等辺三角形を考えると良い.\n",
    "\n",
    "スカラ倍(real number)とベクトル(vector) の場合は型が異なってることが正しい。\n",
    "\n",
    "必ずしも二つの型が同じである事が要されているわけではない。\n",
    "\n",
    "---"
   ]
  },
  {
   "cell_type": "markdown",
   "metadata": {
    "collapsed": true
   },
   "source": [
    "## Exercise 2.83\n",
    "\n",
    "以下のコードを各 install-package　に追加。\n",
    "\n",
    "```lisp\n",
    "(define (raise->rat x) ; integer -> rational\n",
    "  ((get 'make 'rational) x 1))\n",
    "(put 'raise '(scheme-number)\n",
    "     (lambda (x) (raise->rat x)))\n",
    "\n",
    "(define (raise->real x) ; rational -> real \n",
    "  ((get 'make 'real) (* x 1.0)))\n",
    "(put 'raise '(rational)\n",
    "     (lambda (x) (raise->real x)))  \n",
    "\n",
    "```\n",
    "\n",
    "---"
   ]
  },
  {
   "cell_type": "code",
   "execution_count": 37,
   "metadata": {
    "collapsed": false
   },
   "outputs": [],
   "source": [
    "(define (attach-tag tag contents)\n",
    "  (cons tag contents))\n",
    "(define (type-tag datum)\n",
    "  (if (pair? datum)\n",
    "      (car datum)\n",
    "      (error \"Bad tagged datum: TYPE-TAG\" datum)))\n",
    "(define (contents dataum)\n",
    "  (if (pair? dataum)\n",
    "      (cdr dataum)\n",
    "      (error \"Bad tagged dataum: CONTENTS\" dataum)))\n",
    "\n",
    "\n",
    "(define (install-integer-package)\n",
    "  (define (tag x) (attach-tag 'integer x))\n",
    "  (put 'add '(integer integer)\n",
    "       (lambda (x y) (tag (+ x y))))\n",
    "  (put 'sub '(integer integer)\n",
    "       (lambda (x y) (tag (- x y))))\n",
    "  (put 'mul '(integer integer)\n",
    "       (lambda (x y) (tag (* x y))))\n",
    "  (put 'div '(integer integer)\n",
    "       (lambda (x y) (tag (/ x y))))\n",
    "  (put 'make 'integer (lambda (x) (tag x)))\n",
    "  (put '=zero? '(integer) (lambda (x) (= x 0)))\n",
    "  (put 'raise '(integer) (lambda (x) ((get 'make 'rational) x 1)))\n",
    "  'done)\n",
    "\n",
    "(define (install-real-package)\n",
    "  (define (tag x) (attach-tag 'real x))\n",
    "  (put 'add '(real real)\n",
    "       (lambda (x y) (tag (+ x y))))\n",
    "  (put 'sub '(real real)\n",
    "       (lambda (x y) (tag (- x y))))\n",
    "  (put 'mul '(real real)\n",
    "       (lambda (x y) (tag (* x y))))\n",
    "  (put 'div '(real real)\n",
    "       (lambda (x y) (tag (/ x y))))\n",
    "  (put 'make 'real (lambda (x) (tag (* 1.0 x))))\n",
    "  (put '=zero? '(real) (lambda (x) (= x 0)))\n",
    "  (put 'raise '(real)\n",
    "       (lambda (x) ((get 'make-from-real-imag 'complex) x 0)))\n",
    "  'done)\n",
    "\n"
   ]
  },
  {
   "cell_type": "code",
   "execution_count": 38,
   "metadata": {
    "collapsed": false
   },
   "outputs": [],
   "source": [
    "(install-integer-package)\n",
    "(define (make-integer x )\n",
    "  ((get 'make 'integer) x))"
   ]
  },
  {
   "cell_type": "code",
   "execution_count": 39,
   "metadata": {
    "collapsed": false
   },
   "outputs": [],
   "source": [
    "(install-real-package)\n",
    "(define (make-real x )\n",
    "  ((get 'make 'real) x))"
   ]
  },
  {
   "cell_type": "code",
   "execution_count": 40,
   "metadata": {
    "collapsed": true
   },
   "outputs": [],
   "source": [
    "(define (raise-number x) (apply-generic 'raise x))"
   ]
  },
  {
   "cell_type": "code",
   "execution_count": 41,
   "metadata": {
    "collapsed": false
   },
   "outputs": [],
   "source": [
    "(define i (make-integer 3))"
   ]
  },
  {
   "cell_type": "code",
   "execution_count": 42,
   "metadata": {
    "collapsed": false
   },
   "outputs": [
    {
     "data": {
      "text/plain": [
       "(rational 3 . 1)"
      ]
     },
     "execution_count": 42,
     "metadata": {},
     "output_type": "execute_result"
    }
   ],
   "source": [
    "(raise-number i)"
   ]
  },
  {
   "cell_type": "code",
   "execution_count": 43,
   "metadata": {
    "collapsed": false
   },
   "outputs": [
    {
     "data": {
      "text/plain": [
       "(real . 3.0)"
      ]
     },
     "execution_count": 43,
     "metadata": {},
     "output_type": "execute_result"
    }
   ],
   "source": [
    "(raise-number (raise-number i))"
   ]
  },
  {
   "cell_type": "code",
   "execution_count": 44,
   "metadata": {
    "collapsed": false
   },
   "outputs": [
    {
     "data": {
      "text/plain": [
       "(complex rectangular 3.0 . 0)"
      ]
     },
     "execution_count": 44,
     "metadata": {},
     "output_type": "execute_result"
    }
   ],
   "source": [
    "(raise-number (raise-number (raise-number i)))"
   ]
  },
  {
   "cell_type": "markdown",
   "metadata": {},
   "source": [
    "## Exercise 2.84"
   ]
  },
  {
   "cell_type": "code",
   "execution_count": 57,
   "metadata": {
    "collapsed": true
   },
   "outputs": [],
   "source": [
    "(define type-tower '(complex real rational integer))\n",
    "\n",
    "(define (apply-generic op . args)\n",
    "  (let ((type-tags (map type-tag args)))\n",
    "    (let ((proc (get op type-tags)))\n",
    "      (if proc\n",
    "          (apply proc (map contents args))\n",
    "          (if (= (length args) 2)\n",
    "              (let ((type1 (car type-tags))\n",
    "                    (type2 (cadr type-tags))\n",
    "                    (a1 (car args))\n",
    "                    (a2 (cadr args)))\n",
    "                (if (higher type1 type2)\n",
    "                    (apply-generic op a1 (raise a2))\n",
    "                    (apply-generic op (raise a1) a2)))\n",
    "              (error \"No method for these types\" (list op type-tags)))))))\n",
    "\n",
    "(define (higher? t1 t2) ; check t1 > t2 ?\n",
    "  (define (iter t1 t2 type-tower)\n",
    "    (cond ((eq? t1 t2) #t)\n",
    "          ((eq? t1 (car type-tower)) #f)\n",
    "          ((eq? t2 (car type-tower)) #f)\n",
    "          (else (iter t1 t2 (cdr type-tower)))))\n",
    "  (iter t1 t2 type-tower))\n",
    "\n",
    "\n",
    "(define (add x y) (apply-generic 'add x y))\n",
    "(define (sub x y) (apply-generic 'sub x y))\n",
    "(define (mul x y) (apply-generic 'mul x y))\n",
    "(define (div x y) (apply-generic 'div x y))"
   ]
  },
  {
   "cell_type": "code",
   "execution_count": null,
   "metadata": {
    "collapsed": false
   },
   "outputs": [],
   "source": []
  },
  {
   "cell_type": "code",
   "execution_count": null,
   "metadata": {
    "collapsed": true
   },
   "outputs": [],
   "source": []
  },
  {
   "cell_type": "code",
   "execution_count": 46,
   "metadata": {
    "collapsed": false
   },
   "outputs": [
    {
     "name": "stdout",
     "output_type": "stream",
     "text": [
      "(integer . 3)\n",
      "(rational 3 . 2)\n",
      "(real . 2.222)\n",
      "(complex rectangular 3 . 2)\n"
     ]
    }
   ],
   "source": [
    "(define i (make-integer 3))\n",
    "(define r (make-rational 3 2))\n",
    "(define rl (make-real 2.222))\n",
    "(define c (make-complex-from-real-imag 3 2))\n",
    "(print i)\n",
    "(print r)\n",
    "(print rl)\n",
    "(print c)"
   ]
  },
  {
   "cell_type": "code",
   "execution_count": 47,
   "metadata": {
    "collapsed": false
   },
   "outputs": [
    {
     "name": "stderr",
     "output_type": "stream",
     "text": [
      "\n",
      "Traceback (most recent call last):\n",
      "Raised Exception: (integer . 3)\n",
      "\n"
     ]
    }
   ],
   "source": [
    "; can't run in Calysto-Scheme3\n",
    "(add i r)\n",
    "(sub i rl)\n",
    "(mul c r)\n",
    "(div r i)"
   ]
  },
  {
   "cell_type": "markdown",
   "metadata": {},
   "source": [
    "## Exercise 2.85"
   ]
  },
  {
   "cell_type": "code",
   "execution_count": 48,
   "metadata": {
    "collapsed": true
   },
   "outputs": [],
   "source": [
    "(define (raise-number x) (apply-generic 'raise x))"
   ]
  },
  {
   "cell_type": "markdown",
   "metadata": {},
   "source": [
    "```lisp\n",
    "(define (raise->rat x) ; integer -> rational\n",
    "  ((get 'make 'rational) x 1))\n",
    "(put 'raise '(scheme-number)\n",
    "     (lambda (x) (raise->rat x)))\n",
    "```\n",
    "\n",
    "\n",
    "apply-generic ... dropで可能な限り単純にする\n",
    "\n",
    "\n",
    "memo\n",
    "```lisp\n",
    "\n",
    "; rational -> int\n",
    "(define (project->int x)\n",
    "  (let ((n (numer x))\n",
    "        (d (denom x)))\n",
    "    ((get 'make 'integer) (floor (/ n d))))) ;; floor:pythonのmath.floorを使用している. intを返す.\n",
    "    \n",
    "(put 'project '(rational)\n",
    "     (lambda (x) (project->int x)))\n",
    "         \n",
    "\n",
    "; real -> rational\n",
    "\n",
    "\n",
    "; complex -> real\n",
    "(define (project->real x)\n",
    "  (let (i (imag x))\n",
    "    ((get 'make 'real) i)))\n",
    "\n",
    "(put 'project '(complex)\n",
    "     (lambda (x) (project-> real x)))\n",
    "\n",
    "```\n",
    "\n",
    "---\n",
    "\n",
    "drop は次の通り\n",
    "\n",
    "```lisp\n",
    "\n",
    "(define (drop x)\n",
    "  (let (y (project x))\n",
    "    (if (equ? x (raise y))\n",
    "        (drop y)\n",
    "        x)))\n",
    "        \n",
    "```\n",
    "\n",
    "---\n",
    "\n",
    "apply-genericは次の通り\n",
    "\n",
    "```lisp\n",
    "\n",
    "(define (apply-generic op . args)\n",
    "  (let ((type-tags (map type-tag args)))\n",
    "    (let ((proc (get op type-tags)))\n",
    "      (if proc\n",
    "          (apply proc (map contents args))\n",
    "          (if (= (length args) 2)\n",
    "              (let ((type1 (car type-tags))\n",
    "                    (type2 (cadr type-tags))\n",
    "                    (a1 (car args))\n",
    "                    (a2 (cadr args)))\n",
    "                (if (higher type1 type2)\n",
    "                    (drop (apply-generic op a1 (raise a2)))\n",
    "                    (drop (apply-generic op (raise a1) a2))))\n",
    "              (error \"No method for these types\" (list op type-tags)))))))\n",
    "\n",
    "```\n"
   ]
  },
  {
   "cell_type": "code",
   "execution_count": 61,
   "metadata": {
    "collapsed": true
   },
   "outputs": [],
   "source": [
    "(define (project x)\n",
    "  (apply-generic 'project x))"
   ]
  },
  {
   "cell_type": "code",
   "execution_count": 63,
   "metadata": {
    "collapsed": true
   },
   "outputs": [],
   "source": [
    "(define (drop x)\n",
    "  (let (y (project x))\n",
    "    (if (equ? x (raise y))\n",
    "        (drop y)\n",
    "        x)))"
   ]
  },
  {
   "cell_type": "code",
   "execution_count": 64,
   "metadata": {
    "collapsed": true
   },
   "outputs": [],
   "source": [
    "(define (apply-generic op . args)\n",
    "  (let ((type-tags (map type-tag args)))\n",
    "    (let ((proc (get op type-tags)))\n",
    "      (if proc\n",
    "          (apply proc (map contents args))\n",
    "          (if (= (length args) 2)\n",
    "              (let ((type1 (car type-tags))\n",
    "                    (type2 (cadr type-tags))\n",
    "                    (a1 (car args))\n",
    "                    (a2 (cadr args)))\n",
    "                (if (higher type1 type2)\n",
    "                    (drop (apply-generic op a1 (raise a2)))\n",
    "                    (drop (apply-generic op (raise a1) a2))))\n",
    "              (error \"No method for these types\" (list op type-tags)))))))"
   ]
  },
  {
   "cell_type": "code",
   "execution_count": 66,
   "metadata": {
    "collapsed": false
   },
   "outputs": [
    {
     "name": "stderr",
     "output_type": "stream",
     "text": [
      "\n",
      "Traceback (most recent call last):\n",
      "  File \"In [66]\", line 1, col 1, in 'project'\n",
      "  File \"In [61]\", line 2, col 3, in 'apply-generic'\n",
      "  File \"In [64]\", line 2, col 3, in 'let'\n",
      "  File \"In [64]\", line 3, col 5, in 'let'\n",
      "  File \"In [64]\", line 14, col 15, in 'error'\n",
      "UnhandledException: Can't convert 'Symbol' object to str implicitly\n",
      "\n"
     ]
    }
   ],
   "source": [
    "(project (make-complex-from-real-imag 3 1))"
   ]
  },
  {
   "cell_type": "code",
   "execution_count": null,
   "metadata": {
    "collapsed": true
   },
   "outputs": [],
   "source": []
  },
  {
   "cell_type": "markdown",
   "metadata": {},
   "source": [
    "## Exercise 2.86"
   ]
  },
  {
   "cell_type": "code",
   "execution_count": null,
   "metadata": {
    "collapsed": true
   },
   "outputs": [],
   "source": [
    "(define (sine angle)\n",
    "  (if (not (> (abs angle) 0.1))\n",
    "      angle\n",
    "      (p (sine (/ angle 3.0)))))\n",
    "\n"
   ]
  }
 ],
 "metadata": {
  "kernelspec": {
   "display_name": "Calysto Scheme 3",
   "language": "scheme",
   "name": "calysto_scheme"
  },
  "language_info": {
   "codemirror_mode": {
    "name": "scheme"
   },
   "mimetype": "text/x-scheme",
   "name": "scheme",
   "pygments_lexer": "scheme"
  },
  "latex_envs": {
   "bibliofile": "biblio.bib",
   "cite_by": "apalike",
   "current_citInitial": 1,
   "eqLabelWithNumbers": true,
   "eqNumInitial": 0
  }
 },
 "nbformat": 4,
 "nbformat_minor": 0
}
