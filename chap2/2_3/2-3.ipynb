{
 "cells": [
  {
   "cell_type": "code",
   "execution_count": 1,
   "metadata": {
    "collapsed": true
   },
   "outputs": [],
   "source": [
    "(define nil '())"
   ]
  },
  {
   "cell_type": "markdown",
   "metadata": {},
   "source": [
    "# 2.3 Symbolic Data\n",
    "\n",
    "In this section we extend the representational capability of our language by introducing the ability to work with arbitrary symbols as data."
   ]
  },
  {
   "cell_type": "markdown",
   "metadata": {},
   "source": [
    "## 2.3.1 Quotation\n",
    "\n",
    "$(a\\ b) \\neq (list\\ a\\ b)$ "
   ]
  },
  {
   "cell_type": "code",
   "execution_count": 2,
   "metadata": {
    "collapsed": true
   },
   "outputs": [],
   "source": [
    "(define a 1)\n",
    "(define b 2)\n",
    "(define c 3)"
   ]
  },
  {
   "cell_type": "code",
   "execution_count": 3,
   "metadata": {
    "collapsed": false
   },
   "outputs": [
    {
     "data": {
      "text/plain": [
       "(1 2 3)"
      ]
     },
     "execution_count": 3,
     "metadata": {},
     "output_type": "execute_result"
    }
   ],
   "source": [
    "(list a b c )"
   ]
  },
  {
   "cell_type": "code",
   "execution_count": 4,
   "metadata": {
    "collapsed": false
   },
   "outputs": [
    {
     "data": {
      "text/plain": [
       "(a b 3)"
      ]
     },
     "execution_count": 4,
     "metadata": {},
     "output_type": "execute_result"
    }
   ],
   "source": [
    "(list 'a 'b c)"
   ]
  },
  {
   "cell_type": "code",
   "execution_count": 5,
   "metadata": {
    "collapsed": false
   },
   "outputs": [
    {
     "data": {
      "text/plain": [
       "a"
      ]
     },
     "execution_count": 5,
     "metadata": {},
     "output_type": "execute_result"
    }
   ],
   "source": [
    "(car '(a b c))"
   ]
  },
  {
   "cell_type": "code",
   "execution_count": 6,
   "metadata": {
    "collapsed": false
   },
   "outputs": [
    {
     "data": {
      "text/plain": [
       "(b c)"
      ]
     },
     "execution_count": 6,
     "metadata": {},
     "output_type": "execute_result"
    }
   ],
   "source": [
    "(cdr '(a b c))"
   ]
  },
  {
   "cell_type": "code",
   "execution_count": 7,
   "metadata": {
    "collapsed": false
   },
   "outputs": [
    {
     "data": {
      "text/plain": [
       "1"
      ]
     },
     "execution_count": 7,
     "metadata": {},
     "output_type": "execute_result"
    }
   ],
   "source": [
    "(eval (car '(a b)))"
   ]
  },
  {
   "cell_type": "code",
   "execution_count": 8,
   "metadata": {
    "collapsed": false
   },
   "outputs": [
    {
     "data": {
      "text/plain": [
       "#t"
      ]
     },
     "execution_count": 8,
     "metadata": {},
     "output_type": "execute_result"
    }
   ],
   "source": [
    "(eq? 1 a)"
   ]
  },
  {
   "cell_type": "code",
   "execution_count": 9,
   "metadata": {
    "collapsed": false
   },
   "outputs": [
    {
     "data": {
      "text/plain": [
       "#f"
      ]
     },
     "execution_count": 9,
     "metadata": {},
     "output_type": "execute_result"
    }
   ],
   "source": [
    "(eq? 1 'a)"
   ]
  },
  {
   "cell_type": "code",
   "execution_count": 10,
   "metadata": {
    "collapsed": true
   },
   "outputs": [],
   "source": [
    "; memq:\n",
    "; arguments - symbol\n",
    ";           - list\n",
    "; If the symbol is not contained in the list, then 'memq' returns false\n",
    "\n",
    "(define (memq item x)\n",
    "  (cond ((null? x) #f)\n",
    "        ((eq? item (car x)) x)\n",
    "        (else (memq item (cdr x)))))"
   ]
  },
  {
   "cell_type": "code",
   "execution_count": 11,
   "metadata": {
    "collapsed": false
   },
   "outputs": [
    {
     "data": {
      "text/plain": [
       "#f"
      ]
     },
     "execution_count": 11,
     "metadata": {},
     "output_type": "execute_result"
    }
   ],
   "source": [
    "(memq 'apple '(pepper banana prune))"
   ]
  },
  {
   "cell_type": "code",
   "execution_count": 12,
   "metadata": {
    "collapsed": false
   },
   "outputs": [
    {
     "data": {
      "text/plain": [
       "(apple pear)"
      ]
     },
     "execution_count": 12,
     "metadata": {},
     "output_type": "execute_result"
    }
   ],
   "source": [
    "(memq 'apple '(x (apple sauce) y apple pear))"
   ]
  },
  {
   "cell_type": "code",
   "execution_count": 13,
   "metadata": {
    "collapsed": false
   },
   "outputs": [
    {
     "data": {
      "text/plain": [
       "#f"
      ]
     },
     "execution_count": 13,
     "metadata": {},
     "output_type": "execute_result"
    }
   ],
   "source": [
    "(memq 1 '(a b c))"
   ]
  },
  {
   "cell_type": "code",
   "execution_count": 14,
   "metadata": {
    "collapsed": false
   },
   "outputs": [
    {
     "data": {
      "text/plain": [
       "(a b c)"
      ]
     },
     "execution_count": 14,
     "metadata": {},
     "output_type": "execute_result"
    }
   ],
   "source": [
    "(memq 'a '(a b c))"
   ]
  },
  {
   "cell_type": "markdown",
   "metadata": {},
   "source": [
    "### Exercise 2.53"
   ]
  },
  {
   "cell_type": "markdown",
   "metadata": {},
   "source": [
    "```lisp\n",
    "1. (list 'a 'b 'c)\n",
    "2. (list (list 'george))\n",
    "3. (cdr '((x1 x2) (y1 y2)))\n",
    "4. (cadr '((x1 x2) (y1 y2)))\n",
    "5. (pair? (car '(a short list)))\n",
    "6. (memq 'red '((red shoes) (blue socks)))\n",
    "7. (memq 'red '(red shoes blue socks))\n",
    "```\n",
    "1. (a b c)\n",
    "2. ((george))\n",
    "3. ((y1 y2))\n",
    "4. (y1 y2)\n",
    "5. #f\n",
    "6. #f\n",
    "7. (red hoes blue socks)"
   ]
  },
  {
   "cell_type": "code",
   "execution_count": 15,
   "metadata": {
    "collapsed": false
   },
   "outputs": [
    {
     "data": {
      "text/plain": [
       "(a b c)"
      ]
     },
     "execution_count": 15,
     "metadata": {},
     "output_type": "execute_result"
    }
   ],
   "source": [
    "(list 'a 'b 'c)"
   ]
  },
  {
   "cell_type": "code",
   "execution_count": 16,
   "metadata": {
    "collapsed": false
   },
   "outputs": [
    {
     "data": {
      "text/plain": [
       "((george))"
      ]
     },
     "execution_count": 16,
     "metadata": {},
     "output_type": "execute_result"
    }
   ],
   "source": [
    "(list (list 'george))"
   ]
  },
  {
   "cell_type": "code",
   "execution_count": 17,
   "metadata": {
    "collapsed": false
   },
   "outputs": [
    {
     "data": {
      "text/plain": [
       "((y1 y2))"
      ]
     },
     "execution_count": 17,
     "metadata": {},
     "output_type": "execute_result"
    }
   ],
   "source": [
    "(cdr '((x1 x2) (y1 y2)))"
   ]
  },
  {
   "cell_type": "code",
   "execution_count": 18,
   "metadata": {
    "collapsed": false
   },
   "outputs": [
    {
     "data": {
      "text/plain": [
       "(y1 y2)"
      ]
     },
     "execution_count": 18,
     "metadata": {},
     "output_type": "execute_result"
    }
   ],
   "source": [
    "(cadr '((x1 x2) (y1 y2)))"
   ]
  },
  {
   "cell_type": "code",
   "execution_count": 19,
   "metadata": {
    "collapsed": false
   },
   "outputs": [
    {
     "data": {
      "text/plain": [
       "#f"
      ]
     },
     "execution_count": 19,
     "metadata": {},
     "output_type": "execute_result"
    }
   ],
   "source": [
    "(pair? (car '(a short list)))"
   ]
  },
  {
   "cell_type": "code",
   "execution_count": 20,
   "metadata": {
    "collapsed": false
   },
   "outputs": [
    {
     "data": {
      "text/plain": [
       "#f"
      ]
     },
     "execution_count": 20,
     "metadata": {},
     "output_type": "execute_result"
    }
   ],
   "source": [
    "(memq 'red '((red shoes) (blue socks)))"
   ]
  },
  {
   "cell_type": "code",
   "execution_count": 21,
   "metadata": {
    "collapsed": false
   },
   "outputs": [
    {
     "data": {
      "text/plain": [
       "(red shoes blue socks)"
      ]
     },
     "execution_count": 21,
     "metadata": {},
     "output_type": "execute_result"
    }
   ],
   "source": [
    "(memq 'red '(red shoes blue socks))"
   ]
  },
  {
   "cell_type": "markdown",
   "metadata": {},
   "source": [
    "### Exercise 2.54"
   ]
  },
  {
   "cell_type": "code",
   "execution_count": 22,
   "metadata": {
    "collapsed": false
   },
   "outputs": [
    {
     "data": {
      "text/plain": [
       "#t"
      ]
     },
     "execution_count": 22,
     "metadata": {},
     "output_type": "execute_result"
    }
   ],
   "source": [
    "(equal? '(this is a list) '(this is a list))"
   ]
  },
  {
   "cell_type": "code",
   "execution_count": 23,
   "metadata": {
    "collapsed": false
   },
   "outputs": [
    {
     "data": {
      "text/plain": [
       "#f"
      ]
     },
     "execution_count": 23,
     "metadata": {},
     "output_type": "execute_result"
    }
   ],
   "source": [
    "(equal? '(this (is a) list) '(this is a list))"
   ]
  },
  {
   "cell_type": "code",
   "execution_count": 24,
   "metadata": {
    "collapsed": false
   },
   "outputs": [
    {
     "data": {
      "text/plain": [
       "#f"
      ]
     },
     "execution_count": 24,
     "metadata": {},
     "output_type": "execute_result"
    }
   ],
   "source": [
    "(equal? '(this a is list) '(this is a list))"
   ]
  },
  {
   "cell_type": "code",
   "execution_count": 25,
   "metadata": {
    "collapsed": false
   },
   "outputs": [],
   "source": [
    ";answer\n",
    "\n",
    "(define (my-equal? xs ys)\n",
    "  (cond ((and (null? xs) (null? ys)) #t)\n",
    "        ((or (null? xs) (null? ys)) #f)\n",
    "        ((and (not (pair? (car xs))) (not (pair? (car ys)))) (eq? (car xs) (car ys)))\n",
    "        ((equal? (car xs) (car ys)) (my-equal? (cdr xs) (cdr ys)))\n",
    "        (else #f)))"
   ]
  },
  {
   "cell_type": "code",
   "execution_count": 26,
   "metadata": {
    "collapsed": false
   },
   "outputs": [
    {
     "data": {
      "text/plain": [
       "#t"
      ]
     },
     "execution_count": 26,
     "metadata": {},
     "output_type": "execute_result"
    }
   ],
   "source": [
    "(my-equal? '(this is a list) '(this is a list))"
   ]
  },
  {
   "cell_type": "code",
   "execution_count": 27,
   "metadata": {
    "collapsed": false
   },
   "outputs": [
    {
     "data": {
      "text/plain": [
       "#t"
      ]
     },
     "execution_count": 27,
     "metadata": {},
     "output_type": "execute_result"
    }
   ],
   "source": [
    "(my-equal? '(this is a list) '(this (is a) list))"
   ]
  },
  {
   "cell_type": "code",
   "execution_count": 28,
   "metadata": {
    "collapsed": false
   },
   "outputs": [
    {
     "data": {
      "text/plain": [
       "#t"
      ]
     },
     "execution_count": 28,
     "metadata": {},
     "output_type": "execute_result"
    }
   ],
   "source": [
    "(my-equal? '(this a is list) '(this is a list))"
   ]
  },
  {
   "cell_type": "code",
   "execution_count": 29,
   "metadata": {
    "collapsed": false
   },
   "outputs": [
    {
     "data": {
      "text/plain": [
       "#t"
      ]
     },
     "execution_count": 29,
     "metadata": {},
     "output_type": "execute_result"
    }
   ],
   "source": [
    "(my-equal? '(this (is a) list) '(this (is a) list))"
   ]
  },
  {
   "cell_type": "markdown",
   "metadata": {},
   "source": [
    "### Exercise 2.55"
   ]
  },
  {
   "cell_type": "code",
   "execution_count": 30,
   "metadata": {
    "collapsed": false
   },
   "outputs": [
    {
     "data": {
      "text/plain": [
       "quote"
      ]
     },
     "execution_count": 30,
     "metadata": {},
     "output_type": "execute_result"
    }
   ],
   "source": [
    "(car ''abracadabra)"
   ]
  },
  {
   "cell_type": "code",
   "execution_count": 31,
   "metadata": {
    "collapsed": false
   },
   "outputs": [
    {
     "data": {
      "text/plain": [
       "(quote abracadabra)"
      ]
     },
     "execution_count": 31,
     "metadata": {},
     "output_type": "execute_result"
    }
   ],
   "source": [
    "''abracadabra"
   ]
  },
  {
   "cell_type": "code",
   "execution_count": 32,
   "metadata": {
    "collapsed": false
   },
   "outputs": [
    {
     "data": {
      "text/plain": [
       "abracadabra"
      ]
     },
     "execution_count": 32,
     "metadata": {},
     "output_type": "execute_result"
    }
   ],
   "source": [
    "(quasiquote abracadabra)"
   ]
  },
  {
   "cell_type": "code",
   "execution_count": 33,
   "metadata": {
    "collapsed": false
   },
   "outputs": [
    {
     "data": {
      "text/plain": [
       "(quasiquote abracadabra)"
      ]
     },
     "execution_count": 33,
     "metadata": {},
     "output_type": "execute_result"
    }
   ],
   "source": [
    "(quasiquote (quasiquote abracadabra))"
   ]
  },
  {
   "cell_type": "code",
   "execution_count": 34,
   "metadata": {
    "collapsed": false
   },
   "outputs": [
    {
     "data": {
      "text/plain": [
       "#t"
      ]
     },
     "execution_count": 34,
     "metadata": {},
     "output_type": "execute_result"
    }
   ],
   "source": [
    "(eq? 'abracadabra (quasiquote abracadabra))\n",
    "; =\n",
    ";(eq? 'abracadabra (quote abracadabra))"
   ]
  },
  {
   "cell_type": "markdown",
   "metadata": {},
   "source": [
    "`symbol　は　(quasiquote symbol)　のシンタックスシュガー"
   ]
  },
  {
   "cell_type": "markdown",
   "metadata": {},
   "source": [
    "## 2.3.2 Example: Symbolic Differentiation"
   ]
  },
  {
   "cell_type": "code",
   "execution_count": 35,
   "metadata": {
    "collapsed": false
   },
   "outputs": [],
   "source": [
    "(define (variable? e)\n",
    "  (symbol? e))\n",
    "\n",
    "(define (same-variable? v1 v2)\n",
    "  (and (variable? v1) (variable? v2) (eq? v1 v2)))\n",
    "\n",
    "(define (sum? e)\n",
    "  (and (pair? e) (eq? (car e) `+)))\n",
    "\n",
    "(define (addend e)\n",
    "  (cadr e))\n",
    "\n",
    "(define (augend e)\n",
    "  (caddr e))\n",
    "\n",
    ";(define (make-sum a1 a2)\n",
    ";  (list `+ a1 a2))\n",
    "\n",
    ";modify & add a function '=number?'\n",
    "(define (make-sum a1 a2)\n",
    "  (cond ((=number? a1 0) a2)\n",
    "        ((=number? a2 0) a1)\n",
    "        ((and (number? a1) (number? a2))\n",
    "         (+ a1 a2))\n",
    "        (else (list '+ a1 a2))))\n",
    "\n",
    "(define (=number? exp num)\n",
    "  (and (number? exp) (= exp num)))\n",
    "\n",
    "\n",
    "(define (product? e)\n",
    "  (and (pair? e) (eq? (car e) `*)))\n",
    "\n",
    "(define (multiplier e)\n",
    "  (cadr e))\n",
    "\n",
    "(define (multiplicand e)\n",
    "  (caddr e))\n",
    "\n",
    ";(define (make-product m1 m2)\n",
    ";  (list `* m1 m2))\n",
    "\n",
    "; modify\n",
    "(define (make-product m1 m2)\n",
    "  (cond ((or (=number? m1 0) (=number? m2 0)) 0)\n",
    "        ((=number? m1 1) m2)\n",
    "        ((=number? m2 1) m1)\n",
    "        ((and (number? m1) (number? m2)) (* m1 m2))\n",
    "        (else (list '* m1 m2))))"
   ]
  },
  {
   "cell_type": "code",
   "execution_count": 36,
   "metadata": {
    "collapsed": false
   },
   "outputs": [],
   "source": [
    "(define (deriv exp var)\n",
    "  (cond ((number? exp) 0)\n",
    "        ((variable? exp) (if (same-variable? exp var) 1 0))\n",
    "        ((sum? exp) (make-sum (deriv (addend exp) var)\n",
    "                              (deriv (augend exp) var)))\n",
    "        ((product? exp) (make-sum\n",
    "                             (make-product (multiplier exp)\n",
    "                                           (deriv (multiplicand exp) var))\n",
    "                             (make-product (deriv (multiplier exp) var)\n",
    "                                           (multiplicand exp))))\n",
    "        (else (error \"unknown expression type: DERIV\" \"hoge\"))))"
   ]
  },
  {
   "cell_type": "code",
   "execution_count": 37,
   "metadata": {
    "collapsed": false
   },
   "outputs": [
    {
     "data": {
      "text/plain": [
       "1"
      ]
     },
     "execution_count": 37,
     "metadata": {},
     "output_type": "execute_result"
    }
   ],
   "source": [
    "(deriv '(+ x 3) 'x)"
   ]
  },
  {
   "cell_type": "code",
   "execution_count": 38,
   "metadata": {
    "collapsed": false
   },
   "outputs": [
    {
     "data": {
      "text/plain": [
       "y"
      ]
     },
     "execution_count": 38,
     "metadata": {},
     "output_type": "execute_result"
    }
   ],
   "source": [
    "(deriv '(* x y) 'x)"
   ]
  },
  {
   "cell_type": "code",
   "execution_count": 39,
   "metadata": {
    "collapsed": false
   },
   "outputs": [
    {
     "data": {
      "text/plain": [
       "(+ (* x y) (* y (+ x 3)))"
      ]
     },
     "execution_count": 39,
     "metadata": {},
     "output_type": "execute_result"
    }
   ],
   "source": [
    "(deriv '(* (* x y) (+ x 3)) 'x)"
   ]
  },
  {
   "cell_type": "markdown",
   "metadata": {},
   "source": [
    "### Exercise 2.56"
   ]
  },
  {
   "cell_type": "code",
   "execution_count": 40,
   "metadata": {
    "collapsed": true
   },
   "outputs": [],
   "source": [
    "(define (exponentiation? v)\n",
    "  (and (pair? v)\n",
    "       (eq? '** (car v))))\n",
    "\n",
    "(define (base v)\n",
    "  (cadr v))\n",
    "\n",
    "(define (exponent v)\n",
    "  (caddr v))\n",
    "\n",
    "(define (make-exponentiation b e)\n",
    "  (cond ((=number? e 1) b)\n",
    "        ((=number? e 0) 1)\n",
    "        (else (list '** b e))))\n"
   ]
  },
  {
   "cell_type": "code",
   "execution_count": 41,
   "metadata": {
    "collapsed": false
   },
   "outputs": [],
   "source": [
    "(define (deriv exp var)\n",
    "  (cond ((number? exp) 0)\n",
    "        ((variable? exp) (if (same-variable? exp var) 1 0))\n",
    "        ((sum? exp) (make-sum (deriv (addend exp) var)\n",
    "                              (deriv (augend exp) var)))\n",
    "        ((product? exp) (make-sum\n",
    "                             (make-product (multiplier exp)\n",
    "                                           (deriv (multiplicand exp) var))\n",
    "                             (make-product (deriv (multiplier exp) var)\n",
    "                                           (multiplicand exp))))\n",
    "        ((exponentiation? exp) (make-product (exponent exp)\n",
    "                                             (make-product (make-exponentiation (base exp) (- (exponent exp) 1))\n",
    "                                                           (deriv (base exp) var))))\n",
    "        (else (error \"unknown expression type: DERIV\" \"error\"))))\n",
    "\n",
    "\n"
   ]
  },
  {
   "cell_type": "code",
   "execution_count": 42,
   "metadata": {
    "collapsed": false
   },
   "outputs": [
    {
     "data": {
      "text/plain": [
       "(* 3 (** (+ x 3) 2))"
      ]
     },
     "execution_count": 42,
     "metadata": {},
     "output_type": "execute_result"
    }
   ],
   "source": [
    "(deriv '(+ 3 (** (+ x 3) 3)) 'x)"
   ]
  },
  {
   "cell_type": "code",
   "execution_count": 43,
   "metadata": {
    "collapsed": false
   },
   "outputs": [
    {
     "data": {
      "text/plain": [
       "1"
      ]
     },
     "execution_count": 43,
     "metadata": {},
     "output_type": "execute_result"
    }
   ],
   "source": [
    "(make-exponentiation 'x 0)"
   ]
  },
  {
   "cell_type": "code",
   "execution_count": 44,
   "metadata": {
    "collapsed": false
   },
   "outputs": [
    {
     "data": {
      "text/plain": [
       "(** x 2)"
      ]
     },
     "execution_count": 44,
     "metadata": {},
     "output_type": "execute_result"
    }
   ],
   "source": [
    "(make-exponentiation 'x 2)"
   ]
  },
  {
   "cell_type": "markdown",
   "metadata": {},
   "source": [
    "### Exercise 2.57"
   ]
  },
  {
   "cell_type": "code",
   "execution_count": 45,
   "metadata": {
    "collapsed": false
   },
   "outputs": [],
   "source": [
    "(define (augend e)\n",
    "  (if (null? (cdddr e))\n",
    "      (caddr e)\n",
    "      (cons '+ (cddr e))))\n",
    "\n",
    "\n",
    "(define (multiplicand e)\n",
    "  (if (null? (cdddr e))\n",
    "      (caddr e)\n",
    "      (cons '* (cddr e))))\n",
    "\n",
    ";;\n",
    "(define (deriv exp var)\n",
    "  (cond ((number? exp) 0)\n",
    "        ((variable? exp) (if (same-variable? exp var) 1 0))\n",
    "        ((sum? exp) (make-sum (deriv (addend exp) var)\n",
    "                              (deriv (augend exp) var)))\n",
    "        ((product? exp) (make-sum\n",
    "                             (make-product (multiplier exp)\n",
    "                                           (deriv (multiplicand exp) var))\n",
    "                             (make-product (deriv (multiplier exp) var)\n",
    "                                           (multiplicand exp))))\n",
    "        ((exponentiation? exp) (make-product (exponent exp)\n",
    "                                             (make-product (make-exponentiation (base exp) (- (exponent exp) 1))\n",
    "                                                           (deriv (base exp) var))))\n",
    "        (else (error \"unknown expression type: DERIV\" \"error\"))))"
   ]
  },
  {
   "cell_type": "code",
   "execution_count": 46,
   "metadata": {
    "collapsed": false
   },
   "outputs": [
    {
     "data": {
      "text/plain": [
       "(+ (* x y) (* y (+ x 3)))"
      ]
     },
     "execution_count": 46,
     "metadata": {},
     "output_type": "execute_result"
    }
   ],
   "source": [
    "(deriv '(* x (* y (+ x 3))) 'x)"
   ]
  },
  {
   "cell_type": "code",
   "execution_count": 47,
   "metadata": {
    "collapsed": false
   },
   "outputs": [
    {
     "data": {
      "text/plain": [
       "(+ (* x y) (* y (+ x 3)))"
      ]
     },
     "execution_count": 47,
     "metadata": {},
     "output_type": "execute_result"
    }
   ],
   "source": [
    "(deriv '(* x y (+ x 3)) 'x)"
   ]
  },
  {
   "cell_type": "code",
   "execution_count": 48,
   "metadata": {
    "collapsed": false
   },
   "outputs": [
    {
     "data": {
      "text/plain": [
       "#t"
      ]
     },
     "execution_count": 48,
     "metadata": {},
     "output_type": "execute_result"
    }
   ],
   "source": [
    "(product? (multiplicand '(* x y (+ x 3))))"
   ]
  },
  {
   "cell_type": "code",
   "execution_count": 49,
   "metadata": {
    "collapsed": false
   },
   "outputs": [
    {
     "data": {
      "text/plain": [
       "(+ x 3)"
      ]
     },
     "execution_count": 49,
     "metadata": {},
     "output_type": "execute_result"
    }
   ],
   "source": [
    "(multiplicand (multiplicand '(* x y (+ x 3))))"
   ]
  },
  {
   "cell_type": "code",
   "execution_count": 50,
   "metadata": {
    "collapsed": false
   },
   "outputs": [
    {
     "data": {
      "text/plain": [
       "()"
      ]
     },
     "execution_count": 50,
     "metadata": {},
     "output_type": "execute_result"
    }
   ],
   "source": [
    "(cdddr '(* y (+ x 3)))"
   ]
  },
  {
   "cell_type": "markdown",
   "metadata": {},
   "source": [
    "### Exercise 2.58"
   ]
  },
  {
   "cell_type": "code",
   "execution_count": 51,
   "metadata": {
    "collapsed": true
   },
   "outputs": [],
   "source": [
    "; a.\n",
    "\n",
    "(define (variable? e)\n",
    "  (symbol? e))\n",
    "\n",
    "(define (same-variable? v1 v2)\n",
    "  (and (variable? v1) (variable? v2) (eq? v1 v2)))\n",
    "\n",
    "(define (sum? e)\n",
    "  (and (pair? e) (eq? (cadr e) `+)))\n",
    "\n",
    "(define (addend e)\n",
    "  (car e))\n",
    "\n",
    "(define (augend e)\n",
    "  (caddr e))\n",
    "\n",
    ";(define (make-sum a1 a2)\n",
    ";  (list  a1 '+ a2))\n",
    "\n",
    ";modify & add a function '=number?'\n",
    "(define (make-sum a1 a2)\n",
    "  (cond ((=number? a1 0) a2)\n",
    "        ((=number? a2 0) a1)\n",
    "        ((and (number? a1) (number? a2))\n",
    "         (+ a1 a2))\n",
    "        (else (list  a1 '+ a2))))\n",
    "\n",
    "(define (=number? exp num)\n",
    "  (and (number? exp) (= exp num)))\n",
    "\n",
    "\n",
    "(define (product? e)\n",
    "  (and (pair? e) (eq? (cadr e) `*)))\n",
    "\n",
    "(define (multiplier e)\n",
    "  (car e))\n",
    "\n",
    "(define (multiplicand e)\n",
    "  (caddr e))\n",
    "\n",
    ";(define (make-product m1 m2)\n",
    ";  (list  m1 '* m2))\n",
    "\n",
    "; modify\n",
    "(define (make-product m1 m2)\n",
    "  (cond ((or (=number? m1 0) (=number? m2 0)) 0)\n",
    "        ((=number? m1 1) m2)\n",
    "        ((=number? m2 1) m1)\n",
    "        ((and (number? m1) (number? m2)) (* m1 m2))\n",
    "        (else (list  m1 '* m2))))\n"
   ]
  },
  {
   "cell_type": "code",
   "execution_count": 52,
   "metadata": {
    "collapsed": true
   },
   "outputs": [],
   "source": [
    ";;\n",
    "(define (deriv exp var)\n",
    "  (cond ((number? exp) 0)\n",
    "        ((variable? exp) (if (same-variable? exp var) 1 0))\n",
    "        ((sum? exp) (make-sum (deriv (addend exp) var)\n",
    "                              (deriv (augend exp) var)))\n",
    "        ((product? exp) (make-sum\n",
    "                             (make-product (multiplier exp)\n",
    "                                           (deriv (multiplicand exp) var))\n",
    "                             (make-product (deriv (multiplier exp) var)\n",
    "                                           (multiplicand exp))))\n",
    "        ((exponentiation? exp) (make-product (exponent exp)\n",
    "                                             (make-product (make-exponentiation (base exp) (- (exponent exp) 1))\n",
    "                                                           (deriv (base exp) var))))\n",
    "        (else (error \"unknown expression type: DERIV\" \"error\"))))"
   ]
  },
  {
   "cell_type": "code",
   "execution_count": 53,
   "metadata": {
    "collapsed": false
   },
   "outputs": [
    {
     "data": {
      "text/plain": [
       "4"
      ]
     },
     "execution_count": 53,
     "metadata": {},
     "output_type": "execute_result"
    }
   ],
   "source": [
    "(deriv '(x + (3 * (x + (y + 2)))) 'x)"
   ]
  },
  {
   "cell_type": "code",
   "execution_count": 54,
   "metadata": {
    "collapsed": true
   },
   "outputs": [],
   "source": [
    "; b.\n",
    "\n",
    "(define (deriv exp var)\n",
    "  (cond ((number? exp) 0)\n",
    "        ((variable? exp) (if (same-variable? exp var) 1 0))\n",
    "        ((product? exp) (make-sum\n",
    "                             (make-product (multiplier exp)\n",
    "                                           (deriv (multiplicand exp) var))\n",
    "                             (make-product (deriv (multiplier exp) var)\n",
    "                                           (multiplicand exp))))\n",
    "        ((exponentiation? exp) (make-product (exponent exp)\n",
    "                                             (make-product (make-exponentiation (base exp) (- (exponent exp) 1))\n",
    "                                                           (deriv (base exp) var))))\n",
    "        ((sum? exp) (make-sum (deriv (addend exp) var)\n",
    "                              (deriv (augend exp) var)))\n",
    "        (else (error \"unknown expression type: DERIV\" \"error\"))))\n",
    "\n",
    "\n",
    "(define (augend e)\n",
    "  (if (null? (cdddr e))\n",
    "      (caddr e)\n",
    "      (cond ((product? (cddr e)) (cddr e))\n",
    "            ((sum? (cddr e)) (cddr e)))))\n",
    "\n",
    "\n",
    "(define (multiplicand e)\n",
    "  (if (null? (cdddr e))\n",
    "      (caddr e)\n",
    "      (cond ((product? (cddr e)) (cddr e))\n",
    "            ((sum? (cddr e)) (cddr e)))))\n"
   ]
  },
  {
   "cell_type": "code",
   "execution_count": 55,
   "metadata": {
    "collapsed": false
   },
   "outputs": [
    {
     "data": {
      "text/plain": [
       "4"
      ]
     },
     "execution_count": 55,
     "metadata": {},
     "output_type": "execute_result"
    }
   ],
   "source": [
    "(deriv '(x + 3 * (x + y + 2)) 'x)"
   ]
  },
  {
   "cell_type": "code",
   "execution_count": 56,
   "metadata": {
    "collapsed": false
   },
   "outputs": [
    {
     "data": {
      "text/plain": [
       "4"
      ]
     },
     "execution_count": 56,
     "metadata": {},
     "output_type": "execute_result"
    }
   ],
   "source": [
    "(deriv '(x + (x + y + 2) * 3) 'x)"
   ]
  },
  {
   "cell_type": "markdown",
   "metadata": {},
   "source": [
    "## 2.3.3 Example: Representing Sets\n",
    "\n",
    "### Sets as unordered lists"
   ]
  },
  {
   "cell_type": "code",
   "execution_count": 57,
   "metadata": {
    "collapsed": true
   },
   "outputs": [],
   "source": [
    "(define (element-of-sets? x set)\n",
    "  (cond ((null? set) #f)\n",
    "        ((equal? x (car set)) #t)\n",
    "        (else (element-of-sets? x (cdr set)))))"
   ]
  },
  {
   "cell_type": "code",
   "execution_count": 58,
   "metadata": {
    "collapsed": true
   },
   "outputs": [],
   "source": [
    "(define (adjoin-set x set)\n",
    "  (if (element-of-sets? x set)\n",
    "      set\n",
    "      (cons x set)))"
   ]
  },
  {
   "cell_type": "code",
   "execution_count": 59,
   "metadata": {
    "collapsed": true
   },
   "outputs": [],
   "source": [
    "(define (intersection-set set1 set2)\n",
    "  (cond ((or (null? set1) (null? set2)) '())\n",
    "        ((element-of-sets? (car set1) set2)\n",
    "         (cons (car set1) (intersection-set (cdr set1) set2)))\n",
    "        (else (intersection-set (cdr set1) set2))))"
   ]
  },
  {
   "cell_type": "markdown",
   "metadata": {},
   "source": [
    "### Exercise 2.59"
   ]
  },
  {
   "cell_type": "code",
   "execution_count": 60,
   "metadata": {
    "collapsed": true
   },
   "outputs": [],
   "source": [
    "(define (union-set set1 set2)\n",
    "  (cond ((null? set1) set2)\n",
    "        ((not (element-of-sets? (car set1) set2))\n",
    "         (cons (car set1) (union-set (cdr set1) set2)))\n",
    "        (else (union-set (cdr set1) set2))))"
   ]
  },
  {
   "cell_type": "markdown",
   "metadata": {},
   "source": [
    "### Exercise 2.60"
   ]
  },
  {
   "cell_type": "code",
   "execution_count": 61,
   "metadata": {
    "collapsed": true
   },
   "outputs": [],
   "source": [
    "(define (element-of-sets2? x set)\n",
    "  (cond ((null? set) #f)\n",
    "        ((equal? x (car set)) #t)\n",
    "        (else (element-of-sets? x (cdr set)))))\n",
    "; 探すのは一般的に遅くなる。"
   ]
  },
  {
   "cell_type": "code",
   "execution_count": 62,
   "metadata": {
    "collapsed": true
   },
   "outputs": [],
   "source": [
    "(define (adjoin-set2 x set)\n",
    "  (cons x set))\n",
    "; ただ cons すれば良いので早くなる。"
   ]
  },
  {
   "cell_type": "code",
   "execution_count": 63,
   "metadata": {
    "collapsed": true
   },
   "outputs": [],
   "source": [
    "(define (intersection-set2 set1 set2)\n",
    "  (cond ((or (null? set1) (null? set2)) '())\n",
    "        ((element-of-sets2? (car set1) set2)\n",
    "         (cons (car set1) (intersection-set2 (cdr set1) set2)))\n",
    "        (else (intersection-set2 (cdr set1) set2))))\n",
    "\n",
    "; コード自体は変更しなくて良い。 ele~ts2? の実行時間が遅くなったので、これも遅くなる。"
   ]
  },
  {
   "cell_type": "code",
   "execution_count": 64,
   "metadata": {
    "collapsed": true
   },
   "outputs": [],
   "source": [
    "(define (union-set2 set1 set2)\n",
    "  (append set1 set2))\n",
    "\n",
    "; append するだけ。早くなる。"
   ]
  },
  {
   "cell_type": "markdown",
   "metadata": {},
   "source": [
    "追加する事に関しては早くなる。（応用例はおもいつかない。）"
   ]
  },
  {
   "cell_type": "markdown",
   "metadata": {},
   "source": [
    "### Sets as ordered lists"
   ]
  },
  {
   "cell_type": "code",
   "execution_count": 65,
   "metadata": {
    "collapsed": true
   },
   "outputs": [],
   "source": [
    "(define (element-of-set? x set)\n",
    "  (cond ((null? set) #f)\n",
    "        ((= x (car set)) #t)\n",
    "        ((< x (car set)) #f)\n",
    "        (else (element-of-set? x (cdr set)))))\n",
    "\n",
    "\n",
    "\n",
    "(define (intersection-set set1 set2)\n",
    "  (if (or (null? set1) (null? set2))\n",
    "      '()\n",
    "      (let ((x1 (car set1)) (x2 (car set2)))\n",
    "        (cond ((= x1 x2)\n",
    "               (cons x1 (intersection-set (cdr set1) (cdr set2))))\n",
    "              ((< x1 x2)\n",
    "               (intersection-set (cdr set1) set2))\n",
    "              ((< x2 x1)\n",
    "               (intersection-set set1 (cdr set2)))))))"
   ]
  },
  {
   "cell_type": "markdown",
   "metadata": {},
   "source": [
    "### Exercise 2.61"
   ]
  },
  {
   "cell_type": "code",
   "execution_count": 66,
   "metadata": {
    "collapsed": true
   },
   "outputs": [],
   "source": [
    "(define (adjoin-set x set)\n",
    "  (cond ((null? set) (list x))\n",
    "        ((= x (car set)) set)\n",
    "        ((< x (car set)) (cons x set))\n",
    "        ((> x (car set)) (cons (car set) (adjoin-set x (cdr set))))))"
   ]
  },
  {
   "cell_type": "markdown",
   "metadata": {},
   "source": [
    "### Exercise 2.62"
   ]
  },
  {
   "cell_type": "code",
   "execution_count": 67,
   "metadata": {
    "collapsed": false
   },
   "outputs": [],
   "source": [
    "(define (union-set set1 set2)\n",
    "  (cond ((null? set1) set2)\n",
    "        ((null? set2) set1)\n",
    "        ((< (car set1) (car set2)) (cons (car set1) (union-set (cdr set1) set2)))\n",
    "        ((> (car set1) (car set2)) (cons (car set2) (union-set set1 (cdr set2))))\n",
    "        ((= (car set1) (car set2)) (cons (car set1) (union-set (cdr set1) (cdr set2))))))"
   ]
  },
  {
   "cell_type": "code",
   "execution_count": null,
   "metadata": {
    "collapsed": true
   },
   "outputs": [],
   "source": []
  },
  {
   "cell_type": "markdown",
   "metadata": {},
   "source": [
    "### Sets as binary trees."
   ]
  },
  {
   "cell_type": "code",
   "execution_count": 68,
   "metadata": {
    "collapsed": true
   },
   "outputs": [],
   "source": [
    "(define (entry tree) (car tree))\n",
    "(define (left-branch tree) (cadr tree))\n",
    "(define (right-branch tree) (caddr tree))\n",
    "(define (make-tree entry left right)\n",
    "  (list entry left right))\n",
    "\n",
    "(define (element-of-set? x set)\n",
    "  (cond ((null? set) #f)\n",
    "        ((= x (entry set)) #t)\n",
    "        ((< x (entry set)) \n",
    "         (element-of-set? x (left-branch set)))\n",
    "        ((> x (entry set))\n",
    "         (element-of-set? x (right-branch set)))))\n",
    "\n",
    "(define (adjoin-set x set)\n",
    "  (cond ((null? set) (make-tree x '() '()))\n",
    "        ((= x (entry set)) set)\n",
    "        ((< x (entry set))\n",
    "         (make-tree (entry set)\n",
    "                    (adjoin-set x (left-branch set))\n",
    "                    (right-branch set)))\n",
    "        ((> x (entry set))\n",
    "         (make-tree (entry set) (left-branch set)\n",
    "                    (adjoin-set x (right-branch set))))))\n"
   ]
  },
  {
   "cell_type": "code",
   "execution_count": 69,
   "metadata": {
    "collapsed": false
   },
   "outputs": [
    {
     "name": "stdout",
     "output_type": "stream",
     "text": [
      "(2 (1 () ()) (3 () ()))\n",
      "(7 (3 (1 () ()) (5 () ())) (9 () (11 () ())))\n",
      "(3 (1 () ()) (7 (5 () ()) (9 () (11 () ()))))\n",
      "(5 (3 (1 () ()) ()) (9 (7 () ()) (11 () ())))\n",
      "(1 () (2 () (3 () (4 () (5 () (6 () (7 () ())))))))\n"
     ]
    }
   ],
   "source": [
    "(define T0 (make-tree 2 (make-tree 1 '() '())\n",
    "                        (make-tree 3 '() '())))\n",
    "(print T0)\n",
    "\n",
    "(define T1 (make-tree 7 \n",
    "                      (make-tree 3 (make-tree 1 '() '()) (make-tree 5 '() '())) \n",
    "                      (make-tree 9 '() (make-tree 11 '() '()))))\n",
    "(print T1)\n",
    "\n",
    "(define T2 (make-tree 3 (make-tree 1 '() '())\n",
    "                        (make-tree 7 (make-tree 5 '() '())\n",
    "                                     (make-tree 9 '() (make-tree 11 '() '())))))\n",
    "(print T2)\n",
    "\n",
    "(define T3 (make-tree 5 (make-tree 3 (make-tree 1 '() '()) '())\n",
    "                        (make-tree 9 (make-tree 7 '() '()) (make-tree 11 '() '()))))\n",
    "(print T3)\n",
    "\n",
    "(define T4 '())\n",
    "(define T4 (adjoin-set 1 T4))\n",
    "(define T4 (adjoin-set 2 T4))\n",
    "(define T4 (adjoin-set 3 T4))\n",
    "(define T4 (adjoin-set 4 T4))\n",
    "(define T4 (adjoin-set 5 T4))\n",
    "(define T4 (adjoin-set 6 T4))\n",
    "(define T4 (adjoin-set 7 T4))\n",
    "(print T4)"
   ]
  },
  {
   "cell_type": "code",
   "execution_count": null,
   "metadata": {
    "collapsed": true
   },
   "outputs": [],
   "source": []
  },
  {
   "cell_type": "markdown",
   "metadata": {},
   "source": [
    "### Exercise 2.63"
   ]
  },
  {
   "cell_type": "code",
   "execution_count": 70,
   "metadata": {
    "collapsed": true
   },
   "outputs": [],
   "source": [
    "(define (tree->list_1 tree)\n",
    "  (if (null? tree)\n",
    "      '()\n",
    "      (append (tree->list_1 (left-branch tree))\n",
    "              (cons (entry tree)\n",
    "                    (tree->list_1\n",
    "                      (right-branch tree))))))\n",
    "\n",
    "(define (tree->list_2 tree)\n",
    "  (define (copy-to-list tree result-list)\n",
    "    (if (null? tree)\n",
    "        result-list\n",
    "        (copy-to-list (left-branch tree)\n",
    "                      (cons (entry tree)\n",
    "                            (copy-to-list\n",
    "                             (right-branch tree)\n",
    "                             result-list)))))\n",
    "  (copy-to-list tree '()))"
   ]
  },
  {
   "cell_type": "code",
   "execution_count": 71,
   "metadata": {
    "collapsed": false
   },
   "outputs": [
    {
     "name": "stdout",
     "output_type": "stream",
     "text": [
      "(1 2 3)\n",
      "(1 3 5 7 9 11)\n",
      "(1 3 5 7 9 11)\n",
      "(1 3 5 7 9 11)\n",
      "(1 2 3 4 5 6 7)\n"
     ]
    }
   ],
   "source": [
    "(print (tree->list_1 T0))\n",
    "(print (tree->list_1 T1))\n",
    "(print (tree->list_1 T2))\n",
    "(print (tree->list_1 T3))\n",
    "(print (tree->list_1 T4))"
   ]
  },
  {
   "cell_type": "code",
   "execution_count": 72,
   "metadata": {
    "collapsed": false
   },
   "outputs": [
    {
     "name": "stdout",
     "output_type": "stream",
     "text": [
      "(1 2 3)\n",
      "(1 3 5 7 9 11)\n",
      "(1 3 5 7 9 11)\n",
      "(1 3 5 7 9 11)\n",
      "(1 2 3 4 5 6 7)\n"
     ]
    }
   ],
   "source": [
    "(print (tree->list_2 T0))\n",
    "(print (tree->list_2 T1))\n",
    "(print (tree->list_2 T2))\n",
    "(print (tree->list_2 T3))\n",
    "(print (tree->list_2 T4))"
   ]
  },
  {
   "cell_type": "markdown",
   "metadata": {},
   "source": [
    "a. 見ての通り同じ結果を返す  \n",
    "b. ????????????????"
   ]
  },
  {
   "cell_type": "markdown",
   "metadata": {
    "collapsed": false
   },
   "source": [
    "### Exercise 2.64"
   ]
  },
  {
   "cell_type": "code",
   "execution_count": 73,
   "metadata": {
    "collapsed": false
   },
   "outputs": [],
   "source": [
    "(define (list->tree elements)\n",
    "  (car (partial-tree elements (length elements))))\n",
    "\n",
    "(define (partial-tree elts n)\n",
    "  (if (= n 0)\n",
    "      (cons '() elts)\n",
    "      (let ((left-size (quotient (- n 1) 2))) ; quotient : division in Z.\n",
    "        (let ((left-result\n",
    "               (partial-tree elts left-size)))\n",
    "          (let ((left-tree (car left-result))\n",
    "                (non-left-elts (cdr left-result))\n",
    "                (right-size (- n (+ left-size 1))))\n",
    "              (let ((this-entry (car non-left-elts))\n",
    "                    (right-result\n",
    "                     (partial-tree\n",
    "                      (cdr non-left-elts)\n",
    "                      right-size)))\n",
    "                (let ((right-tree (car right-result))\n",
    "                      (remaining-elts\n",
    "                       (cdr right-result)))\n",
    "                  (cons (make-tree this-entry\n",
    "                                   left-tree\n",
    "                                   right-tree)\n",
    "                        remaining-elts))))))))"
   ]
  },
  {
   "cell_type": "code",
   "execution_count": 74,
   "metadata": {
    "collapsed": false
   },
   "outputs": [
    {
     "name": "stdout",
     "output_type": "stream",
     "text": [
      "(5 (1 () (3 () ())) (9 (7 () ()) (11 () ())))\n",
      "(5 (3 () (9 () ())) (1 (7 () ()) (11 () ())))\n"
     ]
    }
   ],
   "source": [
    "(define lst1 (list 1 3 5 7 9 11))\n",
    "(print (list->tree lst1))\n",
    "\n",
    "(define lst2 (list 3 9 5 7 1 11))\n",
    "(print (list->tree lst2))\n"
   ]
  },
  {
   "cell_type": "markdown",
   "metadata": {},
   "source": [
    "a.  \n",
    "b."
   ]
  },
  {
   "cell_type": "code",
   "execution_count": 75,
   "metadata": {
    "collapsed": false
   },
   "outputs": [
    {
     "name": "stdout",
     "output_type": "stream",
     "text": [
      "(5 (9 (11 () ()) (7 () ())) (1 (3 () ()) (2 () ())))\n",
      "(11 9 7 5 3 1 2)\n"
     ]
    }
   ],
   "source": [
    "(define lst (list 11 9 7 5 3 1 2))\n",
    "(print (list->tree lst))\n",
    "(print (tree->list_1 (list->tree lst)))\n"
   ]
  },
  {
   "cell_type": "code",
   "execution_count": 76,
   "metadata": {
    "collapsed": false
   },
   "outputs": [
    {
     "data": {
      "text/plain": [
       "(1 3 7 5 3 1)"
      ]
     },
     "execution_count": 76,
     "metadata": {},
     "output_type": "execute_result"
    }
   ],
   "source": [
    "(define lst1 (list 1 3 7 5 3 1))\n",
    "(tree->list_1 (list->tree lst1))"
   ]
  },
  {
   "cell_type": "markdown",
   "metadata": {
    "collapsed": true
   },
   "source": [
    "### Exercise 2.65"
   ]
  },
  {
   "cell_type": "code",
   "execution_count": 77,
   "metadata": {
    "collapsed": true
   },
   "outputs": [],
   "source": [
    ";define (intersection-set set1 set2)\n",
    "; (cond ((or (null? set1) (null? set2)) '())\n",
    ";       ((element-of-sets? (car set1) set2)\n",
    ";         (cons (car set1) (intersection-set (cdr set1) set2)))\n",
    ";        (else (intersection-set (cdr set1) set2))))\n",
    ";  \n",
    ";(define (union-set set1 set2)\n",
    ";  (cond ((null? set1) set2)\n",
    ";        ((null? set2) set1)\n",
    ";        ((< (car set1) (car set2)) (cons (car set1) (union-set (cdr set1) set2)))\n",
    ";        ((> (car set1) (car set2)) (cons (car set2) (union-set set1 (cdr set2))))\n",
    ";        ((= (car set1) (car set2)) (cons (car set1) (union-set (cdr set1) (cdr st2))))))\n",
    "\n",
    "\n",
    ";(define (adjoin-set x set)\n",
    ";  (cond ((null? set) (make-tree x '() '()))\n",
    ";        ((= x (entry set)) set)\n",
    ";        ((< x (entry set))\n",
    ";         (make-tree (entry set)\n",
    ";                    (adjoin-set x (left-branch set))\n",
    ";                    (right-branch set)))\n",
    ";        ((> x (entry set))\n",
    ";         (make-tree (entry set) (left-branch set)\n",
    ";                    (adjoin-set x (right-branch set))))))\n",
    "\n",
    "\n",
    "\n",
    "(define (union-seT t1 t2)\n",
    "  (let ((s1 (tree->list_1 t1))\n",
    "        (s2 (tree->list_1 t2)))\n",
    "    (let ((s (union-set s1 s2)))\n",
    "      (list->tree s))))\n",
    "\n",
    "\n",
    "(define (intersection-seT t1 t2)\n",
    "  (let ((s1 (tree->list_1 t1))\n",
    "        (s2 (tree->list_1 t2)))\n",
    "    (let ((s (intersection-set s1 s2)))\n",
    "      (list->tree s))))"
   ]
  },
  {
   "cell_type": "code",
   "execution_count": 78,
   "metadata": {
    "collapsed": false
   },
   "outputs": [
    {
     "data": {
      "text/plain": [
       "(3 (1 () ()) (5 () (7 () ())))"
      ]
     },
     "execution_count": 78,
     "metadata": {},
     "output_type": "execute_result"
    }
   ],
   "source": [
    "(intersection-seT T3 T4)"
   ]
  },
  {
   "cell_type": "code",
   "execution_count": 79,
   "metadata": {
    "collapsed": false
   },
   "outputs": [
    {
     "data": {
      "text/plain": [
       "(5 (2 (1 () ()) (3 () (4 () ()))) (7 (6 () ()) (9 () (11 () ()))))"
      ]
     },
     "execution_count": 79,
     "metadata": {},
     "output_type": "execute_result"
    }
   ],
   "source": [
    "(union-seT T3 T4)"
   ]
  },
  {
   "cell_type": "code",
   "execution_count": null,
   "metadata": {
    "collapsed": true
   },
   "outputs": [],
   "source": []
  },
  {
   "cell_type": "markdown",
   "metadata": {},
   "source": [
    "### Sets and information retrieval"
   ]
  },
  {
   "cell_type": "code",
   "execution_count": null,
   "metadata": {
    "collapsed": true
   },
   "outputs": [],
   "source": []
  }
 ],
 "metadata": {
  "kernelspec": {
   "display_name": "Calysto Scheme 3",
   "language": "scheme",
   "name": "calysto_scheme"
  },
  "language_info": {
   "codemirror_mode": {
    "name": "scheme"
   },
   "mimetype": "text/x-scheme",
   "name": "scheme",
   "pygments_lexer": "scheme"
  },
  "latex_envs": {
   "bibliofile": "biblio.bib",
   "cite_by": "apalike",
   "current_citInitial": 1,
   "eqLabelWithNumbers": true,
   "eqNumInitial": 0
  }
 },
 "nbformat": 4,
 "nbformat_minor": 0
}
