{
 "cells": [
  {
   "cell_type": "markdown",
   "metadata": {},
   "source": [
    "# 2.5 System with Generic Operation\n",
    "\n",
    "![](./images/2_5-1.png)"
   ]
  },
  {
   "cell_type": "code",
   "execution_count": 1,
   "metadata": {
    "collapsed": true
   },
   "outputs": [],
   "source": [
    "(define (add x y) (apply-generic 'add x y))\n",
    "(define (sub x y) (apply-generic 'sub x y))\n",
    "(define (mul x y) (apply-generic 'mul x y))\n",
    "(define (div x y) (apply-generic 'div x y))"
   ]
  },
  {
   "cell_type": "code",
   "execution_count": 2,
   "metadata": {
    "collapsed": true
   },
   "outputs": [],
   "source": [
    ";; 通常の算術演算\n",
    "(define (install-scheme-number-package)\n",
    "  (define (tag x) (attach-tag 'scheme-number x))\n",
    "  (put 'add '(scheme-number scheme-number)\n",
    "       (lambda x y) (tag (+ x y)))\n",
    "  (put 'sub '(scheme-number scheme-number)\n",
    "       (lambda x y) (tag (- x y)))\n",
    "  (put 'mul '(scheme-number scheme-number)\n",
    "       (lambda x y) (tag (* x y)))\n",
    "  (put 'dib '(scheme-number scheme-number)\n",
    "       (lambda x y) (tag (/ x y)))\n",
    "  (put 'make 'scheme-number (lambda (x) (tag x)))\n",
    "  'done)"
   ]
  },
  {
   "cell_type": "code",
   "execution_count": 3,
   "metadata": {
    "collapsed": true
   },
   "outputs": [],
   "source": [
    ";; （タグつきの）通常の数値を作成する\n",
    "(define (make-scheme-number n)\n",
    "  ((get 'make 'scheme-number n)))"
   ]
  },
  {
   "cell_type": "code",
   "execution_count": 4,
   "metadata": {
    "collapsed": false
   },
   "outputs": [
    {
     "name": "stderr",
     "output_type": "stream",
     "text": [
      "\n",
      "Traceback (most recent call last):\n",
      "  File \"In [4]\", line 37, col 3\n",
      "ParseError: \"bad concrete syntax:\" (define (make-from-real-mag x y))\n",
      "\n"
     ]
    }
   ],
   "source": [
    ";; 有理数算術演算\n",
    "(define (install-rational-package)\n",
    "  (define (number x) (car x))\n",
    "  (define (denom x) (cdr x))\n",
    "  (define (make-rat n d)\n",
    "    (let ((g (gcd n d)))\n",
    "      (cons (/ n g) (/ d g))))\n",
    "  (define (add-rat x y)\n",
    "    (make-rat (+ (* (numer x) (denom y))\n",
    "                 (* (numer y) (denom x)))\n",
    "              (* (denom x) (denom y))))\n",
    "  (define (mul-rat x y)\n",
    "    (make-rat (* (numer x) (numer y))\n",
    "              (* (denom x) (denom y))))\n",
    "  (define (div-rat x y)\n",
    "    (make-rat (* (numer x) (numer y))\n",
    "              (* (denom x) (denom y))))\n",
    "  (define (dib-rat x y)\n",
    "    (make-rat (* (numer x) (denom y))\n",
    "              (* (denom x) (numer y))))\n",
    "  (define (tag x) (attach-tag 'ational x))\n",
    "  (put ('add '(rational rational))\n",
    "       (lambda (x y) (tag (add-rat x y))))\n",
    "  (put ('sub '(rational rational))\n",
    "       (lambda (x y) (tag (sub-rat x y))))\n",
    "  (put ('mul '(rational rational))\n",
    "       (lambda (x y) (tag (mul-rat x y))))\n",
    "  (put ('div '(rational rational))\n",
    "       (lambda (x y) (tag (div-rat x y))))\n",
    "  'done)\n",
    "\n",
    "(define (make-rational n d)\n",
    "  ((get 'make 'rational) n d))\n",
    "\n",
    "\n",
    "(define (install-complex-package)\n",
    "  (define (make-from-real-mag x y)))"
   ]
  },
  {
   "cell_type": "code",
   "execution_count": null,
   "metadata": {
    "collapsed": true
   },
   "outputs": [],
   "source": []
  }
 ],
 "metadata": {
  "kernelspec": {
   "display_name": "Calysto Scheme 3",
   "language": "scheme",
   "name": "calysto_scheme"
  },
  "language_info": {
   "codemirror_mode": {
    "name": "scheme"
   },
   "mimetype": "text/x-scheme",
   "name": "scheme",
   "pygments_lexer": "scheme"
  },
  "latex_envs": {
   "bibliofile": "biblio.bib",
   "cite_by": "apalike",
   "current_citInitial": 1,
   "eqLabelWithNumbers": true,
   "eqNumInitial": 0
  }
 },
 "nbformat": 4,
 "nbformat_minor": 0
}
