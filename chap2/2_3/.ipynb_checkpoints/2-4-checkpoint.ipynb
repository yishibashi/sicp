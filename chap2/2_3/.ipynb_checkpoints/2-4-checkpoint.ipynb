{
 "cells": [
  {
   "cell_type": "markdown",
   "metadata": {},
   "source": [
    "# 2.4 Multiple Representations for Abstract Data"
   ]
  },
  {
   "cell_type": "code",
   "execution_count": 1,
   "metadata": {
    "collapsed": true
   },
   "outputs": [],
   "source": [
    "(define nil '())"
   ]
  },
  {
   "cell_type": "code",
   "execution_count": null,
   "metadata": {
    "collapsed": true
   },
   "outputs": [],
   "source": []
  },
  {
   "cell_type": "code",
   "execution_count": 2,
   "metadata": {
    "collapsed": false
   },
   "outputs": [],
   "source": [
    ";(make-from-real-img (real-part z) (imag-part z))\n",
    ";(make-from-mag-ang (magnitude z) (angle z))\n",
    "\n",
    "(define (add-complex z1 z2)\n",
    "  (make-from-real-img (+ (real-part z1) (real-part z2))\n",
    "                      (+ (imag-part z1) (imag-part z2))))\n",
    "\n",
    "(define (sub-complex z1 z2)\n",
    "  (make-from-real-img (- (real-part z1) (real-part z2))\n",
    "                      (- (imag-part z1) (imag-part z2))))\n",
    "\n",
    "(define (mul-complex z1 z2)\n",
    "  (make-from-mag-ang (* (magnitude z1) (magnitude z2))\n",
    "                     (+ (angle z1) (angle z2))))\n",
    "\n",
    "(define (div-complex z1 z2)\n",
    "  (make-from-mag-ang (/ (magnitude z1) (magnitude z2))\n",
    "                     (- (angle z1) (angle z2))))\n"
   ]
  },
  {
   "cell_type": "code",
   "execution_count": 3,
   "metadata": {
    "collapsed": true
   },
   "outputs": [],
   "source": [
    ";;;;;;;;;;;;;;;;;;;;;;;;;;;;;;;;;;;;;;;;;;\n",
    "\n",
    "; Ben's implementation.\n",
    "\n",
    "(define (real-part z) (car z))\n",
    "(define (imag-part z) (cdr z))\n",
    "(define (magnitude z)\n",
    "  (sqrt (+ (square (real-part z))\n",
    "           (square (imag-part z)))))\n",
    "(define (angle z)\n",
    "  (atan (imag-part z) (real-part z)))\n",
    "(define (make-from-real-imag x y) (cons x y))\n",
    "(define (make-from-mag-ang r a)\n",
    "  (cons (* r (cos a)) (* r (sin a))))\n",
    "\n",
    "\n",
    "\n",
    "; Alyssa's implementation.\n",
    "\n",
    "(define (real-part z) (* (magnitude z) (cos (angle z))))\n",
    "(define (imag-part z) (* magnitude z) (sin (angle z)))\n",
    "(define (magnitude z) (car z))\n",
    "(define (angle z) (cdr z))\n",
    "(define (make-from-real-imag x y)\n",
    "  (cons (sqrt (+ (square x) (square y)))\n",
    "        (atan y x)))\n",
    "(define (make-from-mag-ang r a) (cons r a))\n",
    "\n",
    ";;;;;;;;;;;;;;;;;;;;;;;;;;;;;;;;;;;;;;;;;;"
   ]
  },
  {
   "cell_type": "code",
   "execution_count": 4,
   "metadata": {
    "collapsed": true
   },
   "outputs": [],
   "source": [
    "(define (attach-tag type-tag contents)\n",
    "  (cons type-tag contents))\n",
    "\n",
    "(define (type-tag datum)\n",
    "  (if (pair? datum)\n",
    "      (car datum)\n",
    "      (error \"Bad tagged datum: TYPE-TAG\" datum)))\n",
    "\n",
    "(define (contents datum)\n",
    "  (if (pair? datum)\n",
    "      (cdr datum)\n",
    "      (error \"Bad tagged datum: CONTENTS\" datum)))\n",
    "\n",
    "(define (rectangular? z)\n",
    "  (eq? (type-tag z) 'rectangular))\n",
    "\n",
    "(define (polar? z)\n",
    "  (eq? (type-tag z) 'polar))\n"
   ]
  },
  {
   "cell_type": "code",
   "execution_count": 5,
   "metadata": {
    "collapsed": true
   },
   "outputs": [],
   "source": [
    ";;;;;;;;;;;;;;;;;;;;;;;;;;;;;;;;;;;;;;;;;;\n",
    "\n",
    "; mod-Ben's implementation.\n",
    "\n",
    "(define (real-part-rectangular z) (car z))\n",
    "\n",
    "(define (imag-part-rectangular z) (cdr z))\n",
    "\n",
    "(define (magnitude-rectangular z)\n",
    "  (sqrt (+ (square (real-part-rectangular z))\n",
    "           (square (imag-part-rectangular z)))))\n",
    "\n",
    "(define (angle-rectangular z)\n",
    "  (atan (imag-part-rectangular z) (real-part-rectangular z)))\n",
    "\n",
    "(define (make-from-real-imag-rectangular x y)\n",
    "  (attach-tag 'rectangular\n",
    "              (cons x y)))\n",
    "\n",
    "(define (make-from-mag-ang-rectangular r a)\n",
    "  (attach-tag 'rectangular\n",
    "      (cons (* r (cos a)) (* r (sin a)))))\n",
    "\n",
    "\n",
    "; mod-Alyssa's implementation.\n",
    "\n",
    "(define (real-part-polar z)\n",
    "  (* (magnitude-polar z) (cos (angle-polar z))))\n",
    "\n",
    "(define (imag-part-polar z)\n",
    "  (* magnitude-polar z) (sin (angle-polar z)))\n",
    "\n",
    "(define (magnitude-polar z) (car z))\n",
    "\n",
    "(define (angle-polar z) (cdr z))\n",
    "\n",
    "(define (make-from-real-imag-polar x y)\n",
    "  (attach-tag 'polar\n",
    "      (cons (sqrt (+ (square x) (square y)))\n",
    "            (atan y x))))\n",
    "\n",
    "(define (make-from-mag-ang-polar r a)\n",
    "  (attach-tag 'polar (cons r a)))\n",
    "\n",
    ";;;;;;;;;;;;;;;;;;;;;;;;;;;;;;;;;;;;;;;;;;"
   ]
  },
  {
   "cell_type": "code",
   "execution_count": 6,
   "metadata": {
    "collapsed": true
   },
   "outputs": [],
   "source": [
    "(define (real-part z)\n",
    "  (cond ((rectangular? z) (real-part-rectangular (contents z)))\n",
    "        ((polar? z) (real-part-polar (contents z)))\n",
    "        (else (error \"Unknown type: REAL-PART\" z))))\n",
    "\n",
    "(define (imag-part z)\n",
    "  (cond ((rectangular? z) (imag-part-rectangular (contents z)))\n",
    "        ((polar? z) (imag-part-polar (contents z)))\n",
    "        (else (error \"Unknown type: MAGNITUDE\" z))))\n",
    "\n",
    "(define (angle z)\n",
    "  (cond ((rectangular? z) (angle-rectangular (contents z)))\n",
    "        ((polar? z) (angle-polar (contents z)))\n",
    "        (else (error \"Unknown type: ANGLE\" z))))\n"
   ]
  },
  {
   "cell_type": "code",
   "execution_count": 7,
   "metadata": {
    "collapsed": true
   },
   "outputs": [],
   "source": [
    "(define (add-complex z1 z2)\n",
    "  (make-from-real-imag (+ (real-part z1) (real-part z2))\n",
    "                       (+ (imag-part z1) (imag-part z2))))"
   ]
  },
  {
   "cell_type": "code",
   "execution_count": 8,
   "metadata": {
    "collapsed": true
   },
   "outputs": [],
   "source": [
    "(define (make-from-real-imag x y)\n",
    "  (make-from-real-imag-rectangular x y))\n",
    "\n",
    "(define (make-from-mag-ang r a)\n",
    "  (make-from-mag-ang-polar r a))"
   ]
  },
  {
   "cell_type": "markdown",
   "metadata": {
    "collapsed": true
   },
   "source": [
    "```lisp\n",
    " ; テーブルの<op>と<type>が指すところに<item>を入れる。\n",
    "(put <op> <type> <item>)\n",
    "\n",
    "; デーブルから<op>,<type>の項目を検索し、そこで見つかった項目を返す\n",
    "(get <op> <type>) \n",
    "```"
   ]
  },
  {
   "cell_type": "code",
   "execution_count": 9,
   "metadata": {
    "collapsed": true
   },
   "outputs": [],
   "source": [
    "; Ben's \n",
    "\n",
    "(define (install-recutangular-package)\n",
    "  (define (real-part z) (car z))\n",
    "  (define (imag-part z) (cdr z))\n",
    "  (define (make-from-real-imag x y) (cons x y))\n",
    "  (define (magnitude z)\n",
    "    (sqrt (+ (square (real-part z))\n",
    "             (square (imag-part z)))))\n",
    "  (define (angle z)\n",
    "    (atan (imag-part z) (real-part z)))\n",
    "  (define (make-from-mag-ang r a)\n",
    "    (cons (* r (cos a)) (* r (sin a))))\n",
    "  \n",
    "  ;;\n",
    "  (define (tag x) (attach-tag 'rectangular x))\n",
    "  (put 'real-part '(rectangular) real-part)\n",
    "  (put 'imag-part '(rectangular) (imag-part))\n",
    "  (put 'magnitude '(rectangular) magnitude)\n",
    "  (put 'angle '(rectangular) angle)\n",
    "  (put 'make-from-real-mag 'rectangular\n",
    "       (lambda (x y) (tag (make-from-real-imag x y))))\n",
    "  (put 'make-from-mag-ang 'rectangular\n",
    "       (lambda (r a) (tag (make-from-mag-ang r a))))\n",
    "  'done)\n",
    "\n"
   ]
  },
  {
   "cell_type": "code",
   "execution_count": 10,
   "metadata": {
    "collapsed": true
   },
   "outputs": [],
   "source": [
    "; Alyssa's\n",
    "\n",
    "(define (install-polar-package)\n",
    "  (define (magnitude z) (car z))\n",
    "  (define (angle z) (cdr z))\n",
    "  (define (make-from-mag-ang r a) (cons r a))\n",
    "  (define (real-part z) (* (magnitude z) (cos (angle z))))\n",
    "  (define (imag-part z) (* (magnitude z) (sin (angle z))))\n",
    "  (define (make-from-real-img x y)\n",
    "    (cons (sqrt (+ (square x) (square y)))\n",
    "          (atan y x)))\n",
    "  ;;\n",
    "  (define (tag x) (attach-tag 'polar x))\n",
    "  (put 'real-part '(polar) real-part)\n",
    "  (put 'imag-part '(polar) (imag-part))\n",
    "  (put 'magnitude '(polar) magnitude)\n",
    "  (put 'angle '(polar) angle)\n",
    "  (put 'make-from-real-mag 'polar\n",
    "       (lambda (x y) (tag (make-from-real-imag x y))))\n",
    "  (put 'make-from-mag-ang 'polar\n",
    "       (lambda (r a) (tag (make-from-mag-ang r a))))\n",
    "  'done)\n",
    "\n"
   ]
  },
  {
   "cell_type": "code",
   "execution_count": 11,
   "metadata": {
    "collapsed": true
   },
   "outputs": [],
   "source": [
    "(define (apply-generic op .args)\n",
    "  (let ((type-tags (map type-tag args)))\n",
    "    (let ((proc (get op type-tags)))\n",
    "      (if proc\n",
    "          (apply proc (map contents args))\n",
    "          (error\n",
    "           \"No method for these types: APPLY-GENERIC\"\n",
    "           (list op type-tag))))))\n",
    "\n",
    "(define (make-from-real-mag x y)\n",
    "  ((get 'make-from-real-imag 'rectangular) x y))\n",
    "(define (make-from-mag-ang r a)\n",
    "  ((get 'make-from-mag-ang 'polar) r a))\n"
   ]
  },
  {
   "cell_type": "code",
   "execution_count": null,
   "metadata": {
    "collapsed": true
   },
   "outputs": [],
   "source": []
  },
  {
   "cell_type": "markdown",
   "metadata": {},
   "source": [
    "## Exercise 2.73"
   ]
  },
  {
   "cell_type": "markdown",
   "metadata": {},
   "source": [
    "2.3.2節では、記号微分を行うプログラムを\n",
    "\n",
    "```lisp\n",
    "(define (deriv exp var)\n",
    "  (cond ((number? exp) 0)\n",
    "        ((variable? exp)\n",
    "         (if (same-variable? exp var) 1 0))\n",
    "        ((sum? exp) \n",
    "         (make-sum (deriv (addend exp) var)\n",
    "                   (deriv (augend exp) var)))\n",
    "        ((product? exp) \n",
    "         (make-sum (make-product \n",
    "                    (multiplier exp)\n",
    "                    (deriv (multiplicand exp) var))\n",
    "                   (make-product\n",
    "                    (deriv (multiplier exp) var)\n",
    "                    (multiplicand exp))))\n",
    "        ; <more rules can be added here>\n",
    "        (else (error \"unknown expression type: DERIV\" exp))))\n",
    "```\n",
    "とした。\n",
    "\n",
    "このプログラムは、微分する式の型によってディスパッチを実行していると捉えることもできる。\n",
    "\n",
    "次のように書き直すと、プログラムをデータ主導スタイルに変形できる。\n",
    "\n",
    "```lisp\n",
    "(define (deriv exp var)\n",
    "  (cond ((number? exp) 0)\n",
    "        ((variable? exp) (if (same-variable? exp var) 1 0))\n",
    "        (else ((get 'deriv (operator exp))\n",
    "               (operands exp) var))))\n",
    "\n",
    "(define (operator exp) (car exp))\n",
    "\n",
    "(defien (operands exp) (cdr exp))\n",
    "```"
   ]
  },
  {
   "cell_type": "markdown",
   "metadata": {},
   "source": [
    "- a. 代数演算記号によって手続きを別けて実行できるようになった。 / \n",
    "- b.　下記\n",
    "- c. bと同様\n",
    "- d. 微分システムに変更を加える必要はない"
   ]
  },
  {
   "cell_type": "code",
   "execution_count": 12,
   "metadata": {
    "collapsed": false
   },
   "outputs": [],
   "source": [
    ";b \n",
    ";(define install-deriv-sum\n",
    ";    ; addend, augend, make-sum などの定義を追加\n",
    ";    \n",
    ";    (put 'deriv '+\n",
    ";         (lambda (exp)\n",
    ";             (make-sum (deriv (addend exp) var)\n",
    ";                       (deriv (augend exp) var)))))\n",
    ";\n",
    ";(define install-deriv-product\n",
    ";  　; make-prduct , multiplier, multiplicandなどの定義を追加\n",
    ";    (lambda (exp)\n",
    ";        (put 'derib '*\n",
    ";             (make-sum (make-product \n",
    ";                        (multiplier exp)\n",
    ";                        (deriv (multiplicand exp) var))\n",
    ";                       (make-product\n",
    ";                        (deriv (multiplier exp) var)\n",
    ";                        (multiplicand exp))))))\n",
    ";"
   ]
  },
  {
   "cell_type": "markdown",
   "metadata": {},
   "source": [
    "## Exercise 2.74"
   ]
  },
  {
   "cell_type": "code",
   "execution_count": null,
   "metadata": {
    "collapsed": true
   },
   "outputs": [],
   "source": []
  },
  {
   "cell_type": "markdown",
   "metadata": {},
   "source": [
    "### Message passing"
   ]
  },
  {
   "cell_type": "code",
   "execution_count": 13,
   "metadata": {
    "collapsed": true
   },
   "outputs": [],
   "source": [
    "; message passing style programming.\n",
    "\n",
    "(define (make-from-real-imag x y)\n",
    "  (define (dispatch op)\n",
    "    (cond ((eq? op 'real-part) x)\n",
    "          ((eq? op 'imag-part) y)\n",
    "          ((eq? op 'magnitude) (sqrt (+ (square x) (square y))))\n",
    "          (eq? op 'angle) (atan y x)\n",
    "          (else (error \"Unknown op: MAKE-FROM-REAL-IMAG\" op))))\n",
    "  dispatch)\n",
    "\n",
    "(define (apply-generic op arg) (arg op))"
   ]
  },
  {
   "cell_type": "markdown",
   "metadata": {},
   "source": [
    "## Exercise 2.75"
   ]
  },
  {
   "cell_type": "code",
   "execution_count": 14,
   "metadata": {
    "collapsed": true
   },
   "outputs": [],
   "source": [
    "(define (make-from-mag-ang r a)\n",
    "  (define (dispatch op)\n",
    "    (cond ((eq? op 'magnitude) r)\n",
    "          ((eq? op 'angle) a)\n",
    "          ((eq? op 'real-part) (* (magnitude z) (cos (angle z))))\n",
    "          ((eq? op 'imag-part) (* magnitude z) (sin (angle z)))\n",
    "          (else (error \"Unknown op: MAKE-FROM-MAG-ANG\" op))))\n",
    "  dispatch)"
   ]
  },
  {
   "cell_type": "markdown",
   "metadata": {},
   "source": [
    "## Exercise 2.76"
   ]
  },
  {
   "cell_type": "code",
   "execution_count": null,
   "metadata": {
    "collapsed": true
   },
   "outputs": [],
   "source": []
  }
 ],
 "metadata": {
  "kernelspec": {
   "display_name": "Calysto Scheme 3",
   "language": "scheme",
   "name": "calysto_scheme"
  },
  "language_info": {
   "codemirror_mode": {
    "name": "scheme"
   },
   "mimetype": "text/x-scheme",
   "name": "scheme",
   "pygments_lexer": "scheme"
  },
  "latex_envs": {
   "bibliofile": "biblio.bib",
   "cite_by": "apalike",
   "current_citInitial": 1,
   "eqLabelWithNumbers": true,
   "eqNumInitial": 0
  }
 },
 "nbformat": 4,
 "nbformat_minor": 0
}
