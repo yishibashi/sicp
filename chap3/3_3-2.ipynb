{
 "cells": [
  {
   "cell_type": "markdown",
   "metadata": {},
   "source": [
    "## テーブルの表現"
   ]
  },
  {
   "cell_type": "code",
   "execution_count": 1,
   "metadata": {
    "collapsed": true
   },
   "outputs": [],
   "source": [
    ";; 3.3.3 テーブルの表現\n",
    "\n",
    "\n",
    "(define (lookup key table)\n",
    "  (let ((record (assoc key (cdr table))))\n",
    "    (if record\n",
    "        (cdr record)\n",
    "        #f)))\n",
    "\n",
    "(define (assoc key records)\n",
    "  (cond ((null? records) #f)\n",
    "        ((equal? key (caar records)) (car records))\n",
    "        (else (assoc key (cdr records)))))\n",
    "\n",
    "(define (insert! key value table)\n",
    "  (let ((record (assoc key (cdr table))))\n",
    "    (if record\n",
    "        (set-cdr! record value)\n",
    "        (set-cdr! table\n",
    "                  (cons (cons key value)\n",
    "                        (cdr table))))))\n",
    "\n",
    "(define (make-table)\n",
    "  (list '*table*))\n",
    "\n"
   ]
  },
  {
   "cell_type": "code",
   "execution_count": 2,
   "metadata": {
    "collapsed": true
   },
   "outputs": [],
   "source": [
    "\n",
    ";;; 2-d table\n",
    "\n",
    "\n",
    "\n",
    "(define (lookup2 key-1 key-2 table)\n",
    "  (let ((subtable\n",
    "         (assoc key-1 (cdr table))))\n",
    "    (if subtable\n",
    "        (let ((record\n",
    "               (assoc key-2 (cdr subtable))))\n",
    "          (if record\n",
    "              (cdr record)\n",
    "              false))\n",
    "        false)))\n",
    "\n",
    "\n",
    "(define (insert2! key-1 key-2 value table)\n",
    "  (let ((subtable (assoc key-1 (cdr table))))\n",
    "    (if subtable\n",
    "        (let ((record (assoc key-2 (cdr subtable))))\n",
    "          (if record\n",
    "              (set-cdr! record value)\n",
    "              (set-cdr! subtable\n",
    "                        (cons (cons key-2 value)\n",
    "                              (cdr subtable)))))\n",
    "        (set-cdr! table\n",
    "                  (cons (list key-1\n",
    "                              (cons key-2 value))\n",
    "                        (cdr table)))))\n",
    "  'ok)\n"
   ]
  },
  {
   "cell_type": "code",
   "execution_count": 3,
   "metadata": {
    "collapsed": true
   },
   "outputs": [],
   "source": [
    "\n",
    ";;; 局所テーブルの作成\n",
    "\n",
    "\n",
    "\n",
    "\n",
    "\n",
    "(define (make_table)\n",
    "  (let ((local-table (list '*table*)))\n",
    "    (define (lookup key-1 key-2)\n",
    "      (let ((subtable\n",
    "             (assoc key-1 (cdr local-table))))\n",
    "        (if subtable\n",
    "            (let ((record\n",
    "                   (assoc key-2 (cdr subtable))))\n",
    "              (if record (cdr record) #f))\n",
    "            #f)))\n",
    "    (define (insert! key-1 key-2 value)\n",
    "      (let ((subtable\n",
    "             (assoc key-1 (cdr local-table))))\n",
    "        (if subtable\n",
    "            (let ((record\n",
    "                   (assoc key-2 (cdr subtable))))\n",
    "              (if record\n",
    "                  (set-cdr! record value)\n",
    "                  (set-cdr! subtable\n",
    "                            (cons (cons key-2 value)\n",
    "                                  (cdr subtable)))))\n",
    "            (set-cdr! local-table\n",
    "                      (cons (list key-1 (cons key-2 value))\n",
    "                            (cdr local-table)))))\n",
    "      'ok)\n",
    "    (define (dispatch m)\n",
    "      (cond ((eq? m 'lookup) lookup)\n",
    "            ((eq? m 'insert!) insert!)\n",
    "            (else (error \"Unknown operation: TABLE\" m))))\n",
    "    dispatch))\n",
    "\n",
    "(define operation-table (make_table))\n",
    "(define get (operation-table 'lookup))\n",
    "(define put (operation-table 'insert!))\n",
    "\n"
   ]
  },
  {
   "cell_type": "markdown",
   "metadata": {},
   "source": [
    "#### Exercise 3.24\n",
    "\n",
    "```scheme\n",
    "(define (make-table same-key?)\n",
    "  .... ; assoc の equal? を　same-key? に書き換える。\n",
    "  ....\n",
    "  dispatch))\n",
    "```"
   ]
  },
  {
   "cell_type": "markdown",
   "metadata": {},
   "source": [
    "#### Exercise 3.25"
   ]
  },
  {
   "cell_type": "markdown",
   "metadata": {},
   "source": [
    "#### Exercise 3.26"
   ]
  },
  {
   "cell_type": "markdown",
   "metadata": {},
   "source": [
    "#### Exercise 3.27\n",
    "\n",
    "```scheme\n",
    ";Exercise 3.27\n",
    "\n",
    "(define (fib n)\n",
    "  (cond ((= n 0) 0)\n",
    "        ((= n 1) 1)\n",
    "        (else (+ (fib (- n 1)) (fib (- n 2))))))\n",
    "\n",
    "(define (memoize f)\n",
    "  (let ((table (make-table)))\n",
    "    (lambda (x)\n",
    "      (let ((previously-computed-result\n",
    "             (lookup x table)))\n",
    "        (or previously-computed-result\n",
    "            (let ((result (f x)))\n",
    "              (insert! x result table)\n",
    "              result))))))\n",
    "\n",
    "(define memo-fib\n",
    "  (memoize\n",
    "   (lambda (n)\n",
    "     (cond ((= n 0) 0)\n",
    "           ((= n 1) 1)\n",
    "           (else (+ (memo-fib (- n 1))\n",
    "                    (memo-fib (- n 2))))))))\n",
    "\n",
    "```"
   ]
  },
  {
   "cell_type": "code",
   "execution_count": null,
   "metadata": {
    "collapsed": true
   },
   "outputs": [],
   "source": []
  },
  {
   "cell_type": "code",
   "execution_count": null,
   "metadata": {
    "collapsed": true
   },
   "outputs": [],
   "source": []
  },
  {
   "cell_type": "code",
   "execution_count": null,
   "metadata": {
    "collapsed": true
   },
   "outputs": [],
   "source": []
  }
 ],
 "metadata": {
  "kernelspec": {
   "display_name": "Calysto Scheme 3",
   "language": "scheme",
   "name": "calysto_scheme"
  },
  "language_info": {
   "codemirror_mode": {
    "name": "scheme"
   },
   "mimetype": "text/x-scheme",
   "name": "scheme",
   "pygments_lexer": "scheme"
  },
  "latex_envs": {
   "bibliofile": "biblio.bib",
   "cite_by": "apalike",
   "current_citInitial": 1,
   "eqLabelWithNumbers": true,
   "eqNumInitial": 0
  }
 },
 "nbformat": 4,
 "nbformat_minor": 2
}
