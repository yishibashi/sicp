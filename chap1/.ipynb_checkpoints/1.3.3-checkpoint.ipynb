{
 "cells": [
  {
   "cell_type": "markdown",
   "metadata": {},
   "source": [
    "### Procedures as General Methods"
   ]
  },
  {
   "cell_type": "markdown",
   "metadata": {},
   "source": [
    "##### Finding roots of equations by the half-interval method"
   ]
  },
  {
   "cell_type": "code",
   "execution_count": 1,
   "metadata": {
    "collapsed": false
   },
   "outputs": [],
   "source": [
    "(define (close-enough? x y) (< (abs (- x y)) 0.00001))\n",
    "(define (average x y) (/ (+ x y) 2.0))\n",
    "(define (positive? x) (> x 0))\n",
    "(define (negative? x) (< x 0))"
   ]
  },
  {
   "cell_type": "code",
   "execution_count": 2,
   "metadata": {
    "collapsed": false
   },
   "outputs": [],
   "source": [
    "(define (search f neg-point pos-point)\n",
    "  (let ((midpoint (average neg-point pos-point)))\n",
    "    (if (close-enough? neg-point pos-point)\n",
    "        midpoint\n",
    "        (let ((test-value (f midpoint)))\n",
    "          (cond ((positive? test-value)\n",
    "                 (search f neg-point midpoint))\n",
    "                ((negative? test-value)\n",
    "                 (search f midpoint pos-point))\n",
    "                (else midpoint))))))"
   ]
  },
  {
   "cell_type": "code",
   "execution_count": 3,
   "metadata": {
    "collapsed": false
   },
   "outputs": [
    {
     "data": {
      "text/plain": [
       "-0.9999971389770508"
      ]
     },
     "execution_count": 3,
     "metadata": {},
     "output_type": "execute_result"
    }
   ],
   "source": [
    "(import \"math\")\n",
    "(search math.cos -1 2)"
   ]
  },
  {
   "cell_type": "code",
   "execution_count": 4,
   "metadata": {
    "collapsed": false
   },
   "outputs": [],
   "source": [
    "(define (half-interval-method f a b)\n",
    "  (let ((a-value (f a))\n",
    "        (b-value (f b)))\n",
    "    (cond ((and (negative? a-value) (positive? b-value))\n",
    "           (search f a b))\n",
    "           ((and (negative? b-value) (positive? a-value))\n",
    "            (search f b a))\n",
    "           (else\n",
    "            (error \"Value are not of opposite sign\" a b)))))"
   ]
  },
  {
   "cell_type": "code",
   "execution_count": 5,
   "metadata": {
    "collapsed": false
   },
   "outputs": [
    {
     "data": {
      "text/plain": [
       "3.141590118408203"
      ]
     },
     "execution_count": 5,
     "metadata": {},
     "output_type": "execute_result"
    }
   ],
   "source": [
    "(half-interval-method math.sin 2 4)"
   ]
  },
  {
   "cell_type": "code",
   "execution_count": 6,
   "metadata": {
    "collapsed": false
   },
   "outputs": [
    {
     "data": {
      "text/plain": [
       "1.8932914733886719"
      ]
     },
     "execution_count": 6,
     "metadata": {},
     "output_type": "execute_result"
    }
   ],
   "source": [
    "(half-interval-method (lambda (x) (- (* x x x) (* 2 x) 3))\n",
    "                      1.0\n",
    "                      2.0)"
   ]
  },
  {
   "cell_type": "markdown",
   "metadata": {},
   "source": [
    "##### Finding fixed points of functions\n",
    "---\n",
    "\n",
    " A number $x$ is called a **fixed point** of a function $f$ if $x$ statisfies the equation  $f(x) = x$.\n",
    "\n",
    "(schemeの処理系　エラー)"
   ]
  },
  {
   "cell_type": "code",
   "execution_count": 7,
   "metadata": {
    "collapsed": false
   },
   "outputs": [],
   "source": [
    "(define tolerance 0.00001)\n",
    "(define (fixed-point f first-guess)\n",
    "(define (close-enough? v1 v2) (< (abs (- v1 v2))\n",
    "tolerance)) (define (try guess)\n",
    "(let ((next (f guess)))\n",
    "(if (close-enough? guess next)\n",
    "          next\n",
    "          (try next))))\n",
    "  (try first-guess))"
   ]
  },
  {
   "cell_type": "code",
   "execution_count": 8,
   "metadata": {
    "collapsed": false
   },
   "outputs": [
    {
     "data": {
      "text/plain": [
       "1.0"
      ]
     },
     "execution_count": 8,
     "metadata": {},
     "output_type": "execute_result"
    }
   ],
   "source": [
    "(fixed-point math.cos 1.0)\n",
    ";; interpreter error"
   ]
  },
  {
   "cell_type": "markdown",
   "metadata": {},
   "source": [
    "Computing the square root of some number $x$ requires finding a $y$ such that $y^2 = x$. Putting this equation into the equivalent form $y = x/y$.\n",
    "\n",
    "Unfortunately, this fixed-point search does not converge.\n",
    "\n",
    "->> loop"
   ]
  },
  {
   "cell_type": "code",
   "execution_count": 9,
   "metadata": {
    "collapsed": false
   },
   "outputs": [],
   "source": [
    "(define (sqrt x)\n",
    "  (fixed-point (lambda (x) (/ x y))\n",
    "               1.0))\n",
    "; loop"
   ]
  },
  {
   "cell_type": "code",
   "execution_count": 10,
   "metadata": {
    "collapsed": false
   },
   "outputs": [],
   "source": [
    "(define (sqrt x)\n",
    "  (fixed-point (lambda (y) (average y (/ x y))) 1.0))"
   ]
  },
  {
   "cell_type": "code",
   "execution_count": 11,
   "metadata": {
    "collapsed": false
   },
   "outputs": [
    {
     "data": {
      "text/plain": [
       "1.0"
      ]
     },
     "execution_count": 11,
     "metadata": {},
     "output_type": "execute_result"
    }
   ],
   "source": [
    "(sqrt 4) ;interpreter error"
   ]
  },
  {
   "cell_type": "code",
   "execution_count": 12,
   "metadata": {
    "collapsed": false
   },
   "outputs": [],
   "source": [
    ";(fixed-point (lambda (y) (+ (sin y) (cos y))) 1.0)\n",
    "; >> 1.2587315962971173"
   ]
  },
  {
   "cell_type": "markdown",
   "metadata": {},
   "source": [
    "### Exercise 1.35"
   ]
  },
  {
   "cell_type": "code",
   "execution_count": 13,
   "metadata": {
    "collapsed": false
   },
   "outputs": [],
   "source": [
    "(define (golden-ratio y)\n",
    "  (fixed-point (lambda (y) (average y (+ 1 (/ 1 y)))) 1.0))"
   ]
  },
  {
   "cell_type": "code",
   "execution_count": 14,
   "metadata": {
    "collapsed": false
   },
   "outputs": [],
   "source": [
    ";(golden-ratio 1.0)\n",
    "; >> 1.6180311591702674"
   ]
  },
  {
   "cell_type": "markdown",
   "metadata": {},
   "source": [
    "### Exercise 1.36\n",
    "\n",
    "---\n",
    "\n",
    "$x^x = 1000 \\rightarrow x \\approx $[4.555535705195128023...](http://www.wolframalpha.com/input/?i=x%5Ex+%3D+1000,+x%3D%3F)"
   ]
  },
  {
   "cell_type": "code",
   "execution_count": 15,
   "metadata": {
    "collapsed": false
   },
   "outputs": [],
   "source": [
    "(define tolerance 0.00001)\n",
    "(define (mod-fixed-point f first-guess)\n",
    "  (define (close-enough? v1 v2)\n",
    "    (< (abs (- v1 v2))\n",
    "       tolerance))\n",
    "  (define (try guess)\n",
    "    (display  guess)\n",
    "    (newline)\n",
    "    (let ((next (f guess)))\n",
    "      (if (close-enough? guess next)\n",
    "          next\n",
    "          (try next))))\n",
    "  (try first-guess))"
   ]
  },
  {
   "cell_type": "code",
   "execution_count": 16,
   "metadata": {
    "collapsed": false
   },
   "outputs": [
    {
     "name": "stderr",
     "output_type": "stream",
     "text": [
      "\n",
      "Traceback (most recent call last):\n",
      "  File \"In [16]\", line 3, col 2\n",
      "ScanError: unexpected character '#\\|' encountered\n",
      "\n"
     ]
    }
   ],
   "source": [
    "(mod-fixed-point (lambda (x) (/ (log 1000) (log x))) 1.1)\n",
    ";\n",
    "#|1.1\n",
    "72.47657378429035\n",
    "72.47657378429035\n",
    "1.6127318474109593\n",
    "1.6127318474109593\n",
    "14.45350138636525\n",
    "14.45350138636525\n",
    "2.5862669415385087\n",
    "2.5862669415385087\n",
    "7.269672273367045\n",
    "7.269672273367045\n",
    "3.4822383620848467\n",
    "3.4822383620848467\n",
    "5.536500810236703\n",
    "5.536500810236703\n",
    "4.036406406288111\n",
    "4.036406406288111\n",
    "4.95053682041456\n",
    "4.95053682041456\n",
    "4.318707390180805\n",
    "4.318707390180805\n",
    "4.721778787145103\n",
    "4.721778787145103\n",
    "4.450341068884912\n",
    "4.450341068884912\n",
    "4.626821434106115\n",
    "4.626821434106115\n",
    "4.509360945293209\n",
    "4.509360945293209\n",
    "4.586349500915509\n",
    "4.586349500915509\n",
    "4.535372639594589\n",
    "4.535372639594589\n",
    "4.568901484845316\n",
    "4.568901484845316\n",
    "4.546751100777536\n",
    "4.546751100777536\n",
    "4.561341971741742\n",
    "4.561341971741742\n",
    "4.551712230641226\n",
    "4.551712230641226\n",
    "4.558059671677587\n",
    "4.558059671677587\n",
    "4.55387226495538\n",
    "4.55387226495538\n",
    "4.556633177654167\n",
    "4.556633177654167\n",
    "4.554812144696459\n",
    "4.554812144696459\n",
    "4.556012967736543\n",
    "4.556012967736543\n",
    "4.555220997683307\n",
    "4.555220997683307\n",
    "4.555743265552239\n",
    "4.555743265552239\n",
    "4.555398830243649\n",
    "4.555398830243649\n",
    "4.555625974816275\n",
    "4.555625974816275\n",
    "4.555476175432173\n",
    "4.555476175432173\n",
    "4.555574964557791\n",
    "4.555574964557791\n",
    "4.555509814636753\n",
    "4.555509814636753\n",
    "4.555552779647764\n",
    "4.555552779647764\n",
    "4.555524444961165\n",
    "4.555524444961165\n",
    "4.555543131130589\n",
    "4.555543131130589\n",
    "4.555530807938518\n",
    "4.555530807938518\n",
    "4.555538934848503\n",
    "|#\n",
    ";73stesp\n"
   ]
  },
  {
   "cell_type": "code",
   "execution_count": 17,
   "metadata": {
    "collapsed": false
   },
   "outputs": [
    {
     "name": "stderr",
     "output_type": "stream",
     "text": [
      "\n",
      "Traceback (most recent call last):\n",
      "  File \"In [17]\", line 3, col 2\n",
      "ScanError: unexpected character '#\\|' encountered\n",
      "\n"
     ]
    }
   ],
   "source": [
    "(mod-fixed-point (lambda (x) (average x (/ (log 1000) (log x)))) 1.0001)\n",
    "\n",
    "#|1.1\n",
    "36.78828689214517\n",
    "36.78828689214517\n",
    "19.352175531882512\n",
    "19.352175531882512\n",
    "10.84183367957568\n",
    "10.84183367957568\n",
    "6.870048352141772\n",
    "6.870048352141772\n",
    "5.227224961967156\n",
    "5.227224961967156\n",
    "4.701960195159289\n",
    "4.701960195159289\n",
    "4.582196773201124\n",
    "4.582196773201124\n",
    "4.560134229703681\n",
    "4.560134229703681\n",
    "4.5563204194309606\n",
    "4.5563204194309606\n",
    "4.555669361784037\n",
    "4.555669361784037\n",
    "4.555558462975639\n",
    "4.555558462975639\n",
    "4.55553957996306\n",
    "4.55553957996306\n",
    "4.555536364911781\n",
    "|#\n",
    ";26 steps"
   ]
  },
  {
   "cell_type": "markdown",
   "metadata": {},
   "source": [
    "### Exercise1.37\n",
    "\n",
    "$\\phi = 1.618033988749894848204586834365638117720309179805762862135... $"
   ]
  },
  {
   "cell_type": "code",
   "execution_count": 23,
   "metadata": {
    "collapsed": false
   },
   "outputs": [],
   "source": [
    "(define (cont-frac n d k)\n",
    "  (define (calc i)\n",
    "    (if (< k i)\n",
    "          0.0\n",
    "          (/ (n i) (+ (d i) (calc (+ 1.0 i))))))\n",
    "  (calc 1))"
   ]
  },
  {
   "cell_type": "code",
   "execution_count": 25,
   "metadata": {
    "collapsed": false
   },
   "outputs": [
    {
     "data": {
      "text/plain": [
       "1.6180257510729614"
      ]
     },
     "execution_count": 25,
     "metadata": {},
     "output_type": "execute_result"
    }
   ],
   "source": [
    "(/ 1 (cont-frac (lambda (i) 1.0)\n",
    "                (lambda (i) 1.0)\n",
    "                13))"
   ]
  },
  {
   "cell_type": "code",
   "execution_count": 20,
   "metadata": {
    "collapsed": false
   },
   "outputs": [],
   "source": [
    ";;;;;;;;;;;;;;;;;;;;;;;;;;;;;;\n",
    ";(define (cont-frac-l n d k)\n",
    ";  (define (next n d ))"
   ]
  },
  {
   "cell_type": "code",
   "execution_count": null,
   "metadata": {
    "collapsed": true
   },
   "outputs": [],
   "source": []
  },
  {
   "cell_type": "markdown",
   "metadata": {},
   "source": [
    "### Exercise1.38"
   ]
  },
  {
   "cell_type": "code",
   "execution_count": 79,
   "metadata": {
    "collapsed": true
   },
   "outputs": [],
   "source": [
    "(define (get_e k)\n",
    "  (define (getD i)\n",
    "    (cond ((= i 1) 1.0)\n",
    "          ((= i 2) 2.0)\n",
    "          ((= (remainder (+ i 1) 3) 0) (* 2.0 (/ (+ i 1) 3)))\n",
    "          (#t 1.0)))\n",
    "  (+ 2 (cont-frac (lambda (i) 1.0)\n",
    "             getD \n",
    "             k)))"
   ]
  },
  {
   "cell_type": "code",
   "execution_count": 80,
   "metadata": {
    "collapsed": false
   },
   "outputs": [
    {
     "data": {
      "text/plain": [
       "2.7182818284590455"
      ]
     },
     "execution_count": 80,
     "metadata": {},
     "output_type": "execute_result"
    }
   ],
   "source": [
    "(get_e 35)"
   ]
  },
  {
   "cell_type": "markdown",
   "metadata": {},
   "source": [
    "### Exercise 1.39"
   ]
  },
  {
   "cell_type": "code",
   "execution_count": 21,
   "metadata": {
    "collapsed": false
   },
   "outputs": [],
   "source": [
    "(define (tan-cf x k)\n",
    "  (cont-frac-r (lambda (i) (if (= i 1)\n",
    "                                  x\n",
    "                                  (- (* x x))))\n",
    "                  (lambda (i) (- (* 2 i) 1))\n",
    "                  k))"
   ]
  },
  {
   "cell_type": "code",
   "execution_count": 22,
   "metadata": {
    "collapsed": false,
    "scrolled": true
   },
   "outputs": [
    {
     "data": {
      "text/plain": [
       "0.06851424913903886"
      ]
     },
     "execution_count": 22,
     "metadata": {},
     "output_type": "execute_result"
    }
   ],
   "source": [
    "(tan-cf 3.21 10)"
   ]
  }
 ],
 "metadata": {
  "kernelspec": {
   "display_name": "Calysto Scheme 3",
   "language": "scheme",
   "name": "calysto_scheme"
  },
  "language_info": {
   "codemirror_mode": {
    "name": "scheme"
   },
   "mimetype": "text/x-scheme",
   "name": "scheme",
   "pygments_lexer": "scheme"
  },
  "latex_envs": {
   "bibliofile": "biblio.bib",
   "cite_by": "apalike",
   "current_citInitial": 1,
   "eqLabelWithNumbers": true,
   "eqNumInitial": 0
  }
 },
 "nbformat": 4,
 "nbformat_minor": 0
}
