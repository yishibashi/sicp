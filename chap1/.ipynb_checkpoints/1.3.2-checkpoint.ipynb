{
 "cells": [
  {
   "cell_type": "markdown",
   "metadata": {},
   "source": [
    "###  $\\lambda$\n",
    "\n",
    "```lisp\n",
    "(lambda (<formal-parameters>) <body>)\n",
    "```\n",
    "\n",
    "一般的に、**lambda**は、**define**と同様に手続きを作るために使われるが、その手続に名前を指定しない。\n"
   ]
  },
  {
   "cell_type": "code",
   "execution_count": 1,
   "metadata": {
    "collapsed": false
   },
   "outputs": [
    {
     "data": {
      "text/plain": [
       "#<procedure>"
      ]
     },
     "execution_count": 1,
     "metadata": {},
     "output_type": "execute_result"
    }
   ],
   "source": [
    "(lambda (x) (+ x 4))"
   ]
  },
  {
   "cell_type": "code",
   "execution_count": 2,
   "metadata": {
    "collapsed": false
   },
   "outputs": [
    {
     "data": {
      "text/plain": [
       "#<procedure>"
      ]
     },
     "execution_count": 2,
     "metadata": {},
     "output_type": "execute_result"
    }
   ],
   "source": [
    "(lambda (x) (/ 1.0 (* x (+ x 2))))"
   ]
  },
  {
   "cell_type": "code",
   "execution_count": 4,
   "metadata": {
    "collapsed": false
   },
   "outputs": [
    {
     "data": {
      "text/plain": [
       "6"
      ]
     },
     "execution_count": 4,
     "metadata": {},
     "output_type": "execute_result"
    }
   ],
   "source": [
    "((lambda (x y z) (+ x y z)) 1 2 3)"
   ]
  },
  {
   "cell_type": "markdown",
   "metadata": {},
   "source": [
    "### let\n",
    "\n",
    "lambda の使い方として、局所変数を作ることがある、が、letという特殊形式でさらに手軽に書ける。"
   ]
  },
  {
   "cell_type": "code",
   "execution_count": 5,
   "metadata": {
    "collapsed": true
   },
   "outputs": [],
   "source": [
    "; labda\n",
    "(define (f x y)\n",
    "  (define (f-helper a b)\n",
    "    (+ (* x (* a a))\n",
    "       (* y b)\n",
    "       (* a b)))\n",
    "  (f-helper (+ 1 (* x y))\n",
    "            (- 1 y)))"
   ]
  },
  {
   "cell_type": "code",
   "execution_count": 15,
   "metadata": {
    "collapsed": false
   },
   "outputs": [],
   "source": [
    "; let\n",
    "(define (f x y)\n",
    "  (let ((a (+ 1 (* x y)))\n",
    "        (b (- 1 y)))\n",
    "  (+ (* x (* a a))\n",
    "     (* y b)\n",
    "     (* a b))))"
   ]
  },
  {
   "cell_type": "markdown",
   "metadata": {},
   "source": [
    "let 式の一般形式は\n",
    "```lisp\n",
    "(let ((<var_1> <exp_1>)\n",
    "      (<var_2> <exp_2>)\n",
    "      ...\n",
    "      (<var_n> <exp_n>))\n",
    "  <body>)\n",
    "```\n",
    "\n",
    "**let**はlambdaを用いた局所変数の定義のシンタックスシュガーにすぎない。\n",
    "\n",
    "```lisp\n",
    "((lambda (<var_1> ... <var_n>)\n",
    "    <body>)\n",
    " <exp_1>\n",
    " ...\n",
    " <exp_n>)\n",
    "```\n",
    "\n",
    "\n",
    "この等値性から、let式で指定された変数のスコープがletの本体であることがわかる。\n",
    "\n",
    "このことから以下の事がわかる。"
   ]
  },
  {
   "cell_type": "code",
   "execution_count": 19,
   "metadata": {
    "collapsed": false
   },
   "outputs": [
    {
     "data": {
      "text/plain": [
       "38"
      ]
     },
     "execution_count": 19,
     "metadata": {},
     "output_type": "execute_result"
    }
   ],
   "source": [
    "(define x 5)\n",
    "(+ (let ((x 3))\n",
    "     (+ x (* x 10))) ; 3 + 3*10 \n",
    "   x); (3+3*10) + 5"
   ]
  },
  {
   "cell_type": "markdown",
   "metadata": {},
   "source": [
    "変数の値は、letの外側で計算されます。"
   ]
  },
  {
   "cell_type": "code",
   "execution_count": 23,
   "metadata": {
    "collapsed": false
   },
   "outputs": [
    {
     "data": {
      "text/plain": [
       "12"
      ]
     },
     "execution_count": 23,
     "metadata": {},
     "output_type": "execute_result"
    }
   ],
   "source": [
    "(define x 2)\n",
    "(let ((x 3)\n",
    "      (y (+ x 2)))\n",
    "  (* x y)) ; x : 3 / y : 4"
   ]
  },
  {
   "cell_type": "markdown",
   "metadata": {},
   "source": [
    "### 練習問題1.34"
   ]
  },
  {
   "cell_type": "code",
   "execution_count": 30,
   "metadata": {
    "collapsed": true
   },
   "outputs": [],
   "source": [
    "(define (square x) (* x x))"
   ]
  },
  {
   "cell_type": "code",
   "execution_count": 31,
   "metadata": {
    "collapsed": false
   },
   "outputs": [],
   "source": [
    "(define (f g) (g 2))"
   ]
  },
  {
   "cell_type": "code",
   "execution_count": 32,
   "metadata": {
    "collapsed": false
   },
   "outputs": [
    {
     "data": {
      "text/plain": [
       "4"
      ]
     },
     "execution_count": 32,
     "metadata": {},
     "output_type": "execute_result"
    }
   ],
   "source": [
    "(f square)"
   ]
  },
  {
   "cell_type": "code",
   "execution_count": 33,
   "metadata": {
    "collapsed": false
   },
   "outputs": [
    {
     "data": {
      "text/plain": [
       "6"
      ]
     },
     "execution_count": 33,
     "metadata": {},
     "output_type": "execute_result"
    }
   ],
   "source": [
    "(f (lambda (z) (* z (+ z 1))))"
   ]
  },
  {
   "cell_type": "markdown",
   "metadata": {},
   "source": [
    "このとき、インタプリタに\n",
    "```lisp\n",
    "(f f)\n",
    "```\n",
    "を評価させるとどうなるか"
   ]
  },
  {
   "cell_type": "markdown",
   "metadata": {},
   "source": [
    "#### 解答"
   ]
  },
  {
   "cell_type": "code",
   "execution_count": 34,
   "metadata": {
    "collapsed": false
   },
   "outputs": [
    {
     "name": "stderr",
     "output_type": "stream",
     "text": [
      "\n",
      "Traceback (most recent call last):\n",
      "  File \"In [34]\", line 1, col 1, in 'f'\n",
      "  File \"In [31]\", line 1, col 15, in 'g'\n",
      "  File \"In [31]\", line 1, col 15, in 'g'\n",
      "  File \"In [31]\", line 1, col 15\n",
      "RunTimeError: attempt to apply non-procedure '2'\n",
      "\n"
     ]
    }
   ],
   "source": [
    "(f f)"
   ]
  },
  {
   "cell_type": "markdown",
   "metadata": {},
   "source": [
    "```lisp\n",
    ">>(f f)\n",
    "\n",
    "=>(f 2)\n",
    "\n",
    "=>(2 2)\n",
    "```"
   ]
  }
 ],
 "metadata": {
  "kernelspec": {
   "display_name": "Calysto Scheme 3",
   "language": "scheme",
   "name": "calysto_scheme"
  },
  "language_info": {
   "codemirror_mode": {
    "name": "scheme"
   },
   "mimetype": "text/x-scheme",
   "name": "scheme",
   "pygments_lexer": "scheme"
  }
 },
 "nbformat": 4,
 "nbformat_minor": 0
}
