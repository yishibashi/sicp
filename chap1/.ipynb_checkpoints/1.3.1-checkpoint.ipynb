{
 "cells": [
  {
   "cell_type": "markdown",
   "metadata": {},
   "source": [
    "# 1.3"
   ]
  },
  {
   "cell_type": "markdown",
   "metadata": {},
   "source": [
    "### 練習問題1.29\n",
    "---\n",
    "**シンプソンの公式**\n",
    "\n",
    "被積分関数$f(x)$を二次関数$P(x)$で近似することで成立する。\n",
    "\n",
    "積分区間を$a$から$b$、$m = (a+b)/2$とする。\n",
    "\n",
    "$$\n",
    "P(x) = f(a) \\frac{(x-m)(x-b)}{(a-m)(a-b)} + f(m) \\frac{(x-a)(x-b)}{(m-a)(m-b)} + f(b) \\frac{(x-a)(x-m)}{(b-a)(b-m)}\n",
    "$$\n",
    "\n",
    "このとき、\n",
    "\n",
    "$$\n",
    "\\int_a^b f(x) dx \\approx \\int_a^b P(x)\n",
    "$$\n",
    "\n",
    "この式は積分区間が広いと誤差が大きくなる。\n",
    "\n",
    "---\n",
    "ここで使用してるのは***合成シンプソン公式***で、積分区間を小さく分割し、それぞれの区間でシンプソンの公式を用いたもの\n",
    "\n",
    "\n",
    "$$\n",
    "\\int_a^b f(x) \\approx \\frac{h}{3} (y_0 + 4y_1 + 2y_2 \\cdots 2y_{n-1} + 4y_{n-1} + y_n) \n",
    "$$\n",
    "\n",
    "\n",
    "---\n",
    "\n"
   ]
  },
  {
   "cell_type": "code",
   "execution_count": 1,
   "metadata": {
    "collapsed": true
   },
   "outputs": [],
   "source": [
    "(define (cube x) (* x x x))"
   ]
  },
  {
   "cell_type": "code",
   "execution_count": 2,
   "metadata": {
    "collapsed": true
   },
   "outputs": [],
   "source": [
    "(define (sum term a next b)\n",
    "  (if (> a b) \n",
    "      0\n",
    "    (+ (term a)\n",
    "        (sum term (next a) next b))))"
   ]
  },
  {
   "cell_type": "code",
   "execution_count": 3,
   "metadata": {
    "collapsed": true
   },
   "outputs": [],
   "source": [
    "(define (integral f a b dx)\n",
    "  (define (add-dx x) (+ x dx))\n",
    "  (* (sum f (+ a (/ dx 2.0)) add-dx b)\n",
    "     dx))"
   ]
  },
  {
   "cell_type": "code",
   "execution_count": 4,
   "metadata": {
    "collapsed": false
   },
   "outputs": [
    {
     "data": {
      "text/plain": [
       "0.24998750000000042"
      ]
     },
     "execution_count": 4,
     "metadata": {},
     "output_type": "execute_result"
    }
   ],
   "source": [
    "(integral cube 0 1 0.01)"
   ]
  },
  {
   "cell_type": "code",
   "execution_count": 5,
   "metadata": {
    "collapsed": false
   },
   "outputs": [
    {
     "data": {
      "text/plain": [
       "0.249999875000001"
      ]
     },
     "execution_count": 5,
     "metadata": {},
     "output_type": "execute_result"
    }
   ],
   "source": [
    "(integral cube 0 1 0.001)"
   ]
  },
  {
   "cell_type": "markdown",
   "metadata": {},
   "source": [
    "---\n",
    "\n",
    "#### 解答 1.29"
   ]
  },
  {
   "cell_type": "code",
   "execution_count": 6,
   "metadata": {
    "collapsed": false
   },
   "outputs": [],
   "source": [
    "(define (simpson f a b n) ; f : function(term) / a,b : [a,b] / n : dx\n",
    "  (define (sum term a next b) \n",
    "      (if (> a b) \n",
    "          0\n",
    "        (+ (term a)\n",
    "            (sum term (next a) next b))))\n",
    "  (define h (/ (- b a) n))\n",
    "  (define (add-h2 x) (+ x h h))\n",
    "  (* (/ h 3.0)\n",
    "     (- (+ (* 4.0 (sum f (+ a h) add-h2 b)) ; sum y_k (k : odd)\n",
    "           (* 2.0 (sum f a add-h2 b))) ; sum y_k (k : even)\n",
    "        (+ (f a) (f b)) ; 余分なところを引く\n",
    "     )\n",
    "  )\n",
    ")"
   ]
  },
  {
   "cell_type": "code",
   "execution_count": 7,
   "metadata": {
    "collapsed": false
   },
   "outputs": [
    {
     "data": {
      "text/plain": [
       "0.25"
      ]
     },
     "execution_count": 7,
     "metadata": {},
     "output_type": "execute_result"
    }
   ],
   "source": [
    "(simpson cube 0 1 10)"
   ]
  },
  {
   "cell_type": "code",
   "execution_count": 8,
   "metadata": {
    "collapsed": false
   },
   "outputs": [
    {
     "data": {
      "text/plain": [
       "0.25"
      ]
     },
     "execution_count": 8,
     "metadata": {},
     "output_type": "execute_result"
    }
   ],
   "source": [
    "(simpson cube 0 1 100)"
   ]
  },
  {
   "cell_type": "code",
   "execution_count": 9,
   "metadata": {
    "collapsed": false,
    "scrolled": true
   },
   "outputs": [
    {
     "data": {
      "text/plain": [
       "3.7500000000000004"
      ]
     },
     "execution_count": 9,
     "metadata": {},
     "output_type": "execute_result"
    }
   ],
   "source": [
    "(simpson cube 1 2 100)"
   ]
  },
  {
   "cell_type": "code",
   "execution_count": 10,
   "metadata": {
    "collapsed": false
   },
   "outputs": [
    {
     "data": {
      "text/plain": [
       "2.734375"
      ]
     },
     "execution_count": 10,
     "metadata": {},
     "output_type": "execute_result"
    }
   ],
   "source": [
    "(simpson cube (+ 1 (/ 1 2)) 2 100)"
   ]
  },
  {
   "cell_type": "code",
   "execution_count": 11,
   "metadata": {
    "collapsed": false
   },
   "outputs": [
    {
     "data": {
      "text/plain": [
       "1.015625"
      ]
     },
     "execution_count": 11,
     "metadata": {},
     "output_type": "execute_result"
    }
   ],
   "source": [
    "(simpson cube 1 (+ 1 (/ 1 2)) 100)"
   ]
  },
  {
   "cell_type": "code",
   "execution_count": 12,
   "metadata": {
    "collapsed": false
   },
   "outputs": [
    {
     "data": {
      "text/plain": [
       "3.75"
      ]
     },
     "execution_count": 12,
     "metadata": {},
     "output_type": "execute_result"
    }
   ],
   "source": [
    "(+ 2.734375 1.015625)"
   ]
  },
  {
   "cell_type": "code",
   "execution_count": 13,
   "metadata": {
    "collapsed": false
   },
   "outputs": [
    {
     "data": {
      "text/plain": [
       "5"
      ]
     },
     "execution_count": 13,
     "metadata": {},
     "output_type": "execute_result"
    }
   ],
   "source": [
    "(- 10 2 3)"
   ]
  },
  {
   "cell_type": "markdown",
   "metadata": {},
   "source": [
    "### 練習問題 1.30\n",
    "---"
   ]
  },
  {
   "cell_type": "markdown",
   "metadata": {},
   "source": [
    "#### 解答1.30"
   ]
  },
  {
   "cell_type": "code",
   "execution_count": 14,
   "metadata": {
    "collapsed": false
   },
   "outputs": [],
   "source": [
    "(define (sum2 term a next b)\n",
    "  (define (iter a result)\n",
    "    (if (> a b)\n",
    "        result\n",
    "        (iter (next a) (+ (term a) result))))\n",
    "    (iter a 0))"
   ]
  },
  {
   "cell_type": "code",
   "execution_count": 15,
   "metadata": {
    "collapsed": true
   },
   "outputs": [],
   "source": [
    "(define (simpson f a b n)\n",
    "  (define h (/ (- b a) n))\n",
    "  (define (add-h2 x) (+ x h h))\n",
    "  (* (/ h 3.0)\n",
    "     (- (+ (* 4.0 (sum2 f (+ a h) add-h2 b))\n",
    "           (* 2.0 (sum2 f a add-h2 b)))\n",
    "        (+ (f a) (f b))\n",
    "     )))"
   ]
  },
  {
   "cell_type": "code",
   "execution_count": 16,
   "metadata": {
    "collapsed": false
   },
   "outputs": [
    {
     "data": {
      "text/plain": [
       "3.7500000000000004"
      ]
     },
     "execution_count": 16,
     "metadata": {},
     "output_type": "execute_result"
    }
   ],
   "source": [
    "(simpson cube 1 2 100)"
   ]
  },
  {
   "cell_type": "markdown",
   "metadata": {},
   "source": [
    "### 練習問題1.31\n",
    "---"
   ]
  },
  {
   "cell_type": "markdown",
   "metadata": {},
   "source": [
    "#### 解答1.31"
   ]
  },
  {
   "cell_type": "code",
   "execution_count": 17,
   "metadata": {
    "collapsed": true
   },
   "outputs": [],
   "source": [
    "(define (product f a b suc)\n",
    "  (if (> a b)\n",
    "      1\n",
    "  (* (f a) \n",
    "     (product f (suc a) b suc))))"
   ]
  },
  {
   "cell_type": "code",
   "execution_count": 18,
   "metadata": {
    "collapsed": false
   },
   "outputs": [
    {
     "data": {
      "text/plain": [
       "216"
      ]
     },
     "execution_count": 18,
     "metadata": {},
     "output_type": "execute_result"
    }
   ],
   "source": [
    "(define (suc n) (+ n 1))\n",
    "(product cube 1 3 suc)"
   ]
  },
  {
   "cell_type": "code",
   "execution_count": 19,
   "metadata": {
    "collapsed": true
   },
   "outputs": [],
   "source": [
    "(define (factorial n)\n",
    "  (define (suc m) (+ m 1))\n",
    "  (define (f x) x)  \n",
    "  (* 1 \n",
    "     (product f 1 n suc)))"
   ]
  },
  {
   "cell_type": "code",
   "execution_count": 20,
   "metadata": {
    "collapsed": false
   },
   "outputs": [
    {
     "data": {
      "text/plain": [
       "720"
      ]
     },
     "execution_count": 20,
     "metadata": {},
     "output_type": "execute_result"
    }
   ],
   "source": [
    "(factorial 6)"
   ]
  },
  {
   "cell_type": "markdown",
   "metadata": {},
   "source": [
    "#### ウォリスの公式\n",
    "$$\n",
    "\\frac{\\pi}{2} = \\prod_{i=1}^{\\infty} (\\frac{2n}{2n-1} \\times \\frac{2n}{2n+1}) = \\frac{2\\times2\\times4\\times4\\times\\cdots}{1\\times3\\times3\\times5\\times\\cdots}\n",
    "$$"
   ]
  },
  {
   "cell_type": "code",
   "execution_count": 21,
   "metadata": {
    "collapsed": true
   },
   "outputs": [],
   "source": [
    "(define (getPi iter)\n",
    "  (define (suc2 n) (+ n 2.0))\n",
    "  (define (f m) (* m (+ m 2.0)))\n",
    "  (define (g m) (* m m))\n",
    "  (* 2.0\n",
    "     (/ (product g 2.0 iter suc2)\n",
    "        (product f 1.0 iter suc2))\n",
    "  ))"
   ]
  },
  {
   "cell_type": "code",
   "execution_count": 22,
   "metadata": {
    "collapsed": false
   },
   "outputs": [
    {
     "data": {
      "text/plain": [
       "3.1324201790229065"
      ]
     },
     "execution_count": 22,
     "metadata": {},
     "output_type": "execute_result"
    }
   ],
   "source": [
    "(getPi 170) ; 170 is limit"
   ]
  },
  {
   "cell_type": "code",
   "execution_count": 23,
   "metadata": {
    "collapsed": false
   },
   "outputs": [],
   "source": [
    "(define (product2 f a b suc)\n",
    "  (if (> a b)\n",
    "      1\n",
    "      (* (f a)\n",
    "         (product2 f (suc a) b suc))))"
   ]
  },
  {
   "cell_type": "code",
   "execution_count": 24,
   "metadata": {
    "collapsed": false
   },
   "outputs": [
    {
     "data": {
      "text/plain": [
       "216"
      ]
     },
     "execution_count": 24,
     "metadata": {},
     "output_type": "execute_result"
    }
   ],
   "source": [
    "(define (suc n) (+ n 1))\n",
    "(product2 cube 1 3 suc)"
   ]
  },
  {
   "cell_type": "markdown",
   "metadata": {},
   "source": [
    "### 練習問題 1.32\n",
    "---"
   ]
  },
  {
   "cell_type": "code",
   "execution_count": 25,
   "metadata": {
    "collapsed": true
   },
   "outputs": [],
   "source": [
    "(define (accumulate combiner null-value term a next b)\n",
    "  (if (> a b)\n",
    "      null-value\n",
    "      (combiner (term a)\n",
    "                (accumulate combiner null-value term (next a) next b))))"
   ]
  },
  {
   "cell_type": "code",
   "execution_count": 26,
   "metadata": {
    "collapsed": true
   },
   "outputs": [],
   "source": [
    "(define (a_sum term a next b)\n",
    "  (accumulate + 0 term a next b))"
   ]
  },
  {
   "cell_type": "code",
   "execution_count": 27,
   "metadata": {
    "collapsed": false
   },
   "outputs": [
    {
     "data": {
      "text/plain": [
       "9"
      ]
     },
     "execution_count": 27,
     "metadata": {},
     "output_type": "execute_result"
    }
   ],
   "source": [
    "(define (p1 n) (+ n 1))\n",
    "(a_sum cube 1 p1 2)"
   ]
  },
  {
   "cell_type": "code",
   "execution_count": 28,
   "metadata": {
    "collapsed": true
   },
   "outputs": [],
   "source": [
    "(define (a_product term a next b)\n",
    "  (accumulate * 1 term a next b))"
   ]
  },
  {
   "cell_type": "code",
   "execution_count": 29,
   "metadata": {
    "collapsed": false
   },
   "outputs": [
    {
     "data": {
      "text/plain": [
       "216"
      ]
     },
     "execution_count": 29,
     "metadata": {},
     "output_type": "execute_result"
    }
   ],
   "source": [
    "(a_product cube 1 p1 3)"
   ]
  },
  {
   "cell_type": "markdown",
   "metadata": {},
   "source": [
    "---"
   ]
  },
  {
   "cell_type": "code",
   "execution_count": 30,
   "metadata": {
    "collapsed": false
   },
   "outputs": [],
   "source": [
    "(define (accumulate2 combiner null-value term a next b)\n",
    "  (define (iter a result)\n",
    "    (if (> a b)\n",
    "        null-value\n",
    "        (combiner (term a)\n",
    "                  (iter (next a) result))))\n",
    "  (iter a null-value))"
   ]
  },
  {
   "cell_type": "code",
   "execution_count": 31,
   "metadata": {
    "collapsed": true
   },
   "outputs": [],
   "source": [
    "(define (a_product2 term a next b)\n",
    "  (accumulate2 * 1 term a next b))"
   ]
  },
  {
   "cell_type": "code",
   "execution_count": 32,
   "metadata": {
    "collapsed": false
   },
   "outputs": [
    {
     "data": {
      "text/plain": [
       "216"
      ]
     },
     "execution_count": 32,
     "metadata": {},
     "output_type": "execute_result"
    }
   ],
   "source": [
    "(a_product2 cube 1 p1 3)"
   ]
  },
  {
   "cell_type": "markdown",
   "metadata": {},
   "source": [
    "### 練習問題 1.33\n",
    "---"
   ]
  },
  {
   "cell_type": "code",
   "execution_count": 33,
   "metadata": {
    "collapsed": true
   },
   "outputs": [],
   "source": [
    "(define (filtered-accumulate combiner null-value term a next b filter)\n",
    "  (if (> a b)\n",
    "   null-value\n",
    "  (combiner (if (filter a)\n",
    "            (term a)\n",
    "            null-value)\n",
    "            (filtered-accumulate combiner null-value term (next a) next b filter))))"
   ]
  },
  {
   "cell_type": "code",
   "execution_count": 34,
   "metadata": {
    "collapsed": true
   },
   "outputs": [],
   "source": [
    "(define (accumulate combiner null-value term a next b)\n",
    "  (if (> a b)\n",
    "      null-value\n",
    "      (combiner (term a)\n",
    "                (accumulate combiner null-value term (next a) next b))))"
   ]
  },
  {
   "cell_type": "code",
   "execution_count": 35,
   "metadata": {
    "collapsed": false
   },
   "outputs": [],
   "source": [
    "(define (square x) (* x x))\n",
    "(define (smallest-divisor n) (find-divisor n 2)) (define (find-divisor n test-divisor)\n",
    "(cond ((> (square test-divisor) n) n)\n",
    "((divides? test-divisor n) test-divisor) (else (find-divisor n (+ test-divisor 1)))))\n",
    "(define (divides? a b) (= (remainder b a) 0))\n",
    "(define (prime? n)\n",
    "(= n (smallest-divisor n)))\n",
    "\n",
    "(define (next n) (+ n 1))\n",
    "(define (add a b)  (+ a b))"
   ]
  },
  {
   "cell_type": "code",
   "execution_count": 36,
   "metadata": {
    "collapsed": false
   },
   "outputs": [],
   "source": [
    "(define (p-square a b)\n",
    "  (filtered-accumulate + 0 square a next b prime?))"
   ]
  },
  {
   "cell_type": "code",
   "execution_count": 37,
   "metadata": {
    "collapsed": false
   },
   "outputs": [
    {
     "data": {
      "text/plain": [
       "38"
      ]
     },
     "execution_count": 37,
     "metadata": {},
     "output_type": "execute_result"
    }
   ],
   "source": [
    "(p-square 2 5)"
   ]
  }
 ],
 "metadata": {
  "kernelspec": {
   "display_name": "Calysto Scheme 3",
   "language": "scheme",
   "name": "calysto_scheme"
  },
  "language_info": {
   "codemirror_mode": {
    "name": "scheme"
   },
   "mimetype": "text/x-scheme",
   "name": "scheme",
   "pygments_lexer": "scheme"
  }
 },
 "nbformat": 4,
 "nbformat_minor": 0
}
